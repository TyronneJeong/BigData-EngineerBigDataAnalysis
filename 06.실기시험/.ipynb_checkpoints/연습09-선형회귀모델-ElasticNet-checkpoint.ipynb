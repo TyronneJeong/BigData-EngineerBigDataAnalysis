{
 "cells": [
  {
   "cell_type": "markdown",
   "id": "37250854",
   "metadata": {},
   "source": [
    "# 엘라스틱넷\n",
    "\n",
    "릿지와 라쏘의 절충 모델. 두 규제항의 혼합 정도를 r(혼합비율) 값을 이용해 조절 한다."
   ]
  },
  {
   "cell_type": "code",
   "execution_count": 1,
   "id": "049f3115",
   "metadata": {},
   "outputs": [],
   "source": [
    "# 패키지 로드\n",
    "import warnings\n",
    "warnings.filterwarnings(\"ignore\")\n",
    "import pandas as pd\n",
    "import numpy as np\n",
    "\n",
    "# 데이터 로드\n",
    "df = pd.read_csv('./extrafiles/house_price.csv')\n",
    "df\n",
    "\n",
    "# train_test_split\n",
    "X = df[['housing_age', 'income', 'bedrooms', 'households', 'rooms']]\n",
    "y = df[['house_value']]\n",
    "\n",
    "# 통계적 회귀 분석에서는 일반적으로 X데이터의 정규화를 하지 않는다.\n",
    "# from sklearn.preprocessing import MinMaxScaler\n",
    "# X_scaled = MinMaxScaler().fit_transform(X)\n",
    "# X_scaled = pd.DataFrame(X_scaled, index=X.index, columns=X.columns)\n",
    "\n",
    "from sklearn.model_selection import train_test_split\n",
    "X_train, X_test, y_train, y_test = train_test_split(X, y, random_state=333)"
   ]
  },
  {
   "cell_type": "code",
   "execution_count": null,
   "id": "566b65da",
   "metadata": {},
   "outputs": [],
   "source": []
  }
 ],
 "metadata": {
  "kernelspec": {
   "display_name": "Python 3 (ipykernel)",
   "language": "python",
   "name": "python3"
  },
  "language_info": {
   "codemirror_mode": {
    "name": "ipython",
    "version": 3
   },
   "file_extension": ".py",
   "mimetype": "text/x-python",
   "name": "python",
   "nbconvert_exporter": "python",
   "pygments_lexer": "ipython3",
   "version": "3.8.10"
  }
 },
 "nbformat": 4,
 "nbformat_minor": 5
}
