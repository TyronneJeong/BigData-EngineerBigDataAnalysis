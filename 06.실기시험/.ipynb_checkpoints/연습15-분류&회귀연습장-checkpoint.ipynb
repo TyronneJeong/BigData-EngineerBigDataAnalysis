{
 "cells": [
  {
   "cell_type": "markdown",
   "id": "97bc3c36",
   "metadata": {},
   "source": [
    "# 분류 모델 - 주문자의 성별 예측\n",
    "\n",
    "1. 각 분류기별 성능을 정렬해본다.\n",
    "2. 앙상블로 조합해본다\n"
   ]
  },
  {
   "cell_type": "code",
   "execution_count": 103,
   "id": "d80ef9aa",
   "metadata": {},
   "outputs": [
    {
     "name": "stdout",
     "output_type": "stream",
     "text": [
      "Index(['ID', 'Warehouse_block', 'Mode_of_Shipment', 'Customer_care_calls', 'Customer_rating', 'Cost_of_the_Product', 'Prior_purchases', 'Product_importance', 'Gender', 'Discount_offered', 'Weight_in_gms', 'Reached.on.Time_Y.N'], dtype='object')\n"
     ]
    },
    {
     "data": {
      "text/html": [
       "<div>\n",
       "<style scoped>\n",
       "    .dataframe tbody tr th:only-of-type {\n",
       "        vertical-align: middle;\n",
       "    }\n",
       "\n",
       "    .dataframe tbody tr th {\n",
       "        vertical-align: top;\n",
       "    }\n",
       "\n",
       "    .dataframe thead th {\n",
       "        text-align: right;\n",
       "    }\n",
       "</style>\n",
       "<table border=\"1\" class=\"dataframe\">\n",
       "  <thead>\n",
       "    <tr style=\"text-align: right;\">\n",
       "      <th></th>\n",
       "      <th>ID</th>\n",
       "      <th>Warehouse_block</th>\n",
       "      <th>Mode_of_Shipment</th>\n",
       "      <th>Customer_care_calls</th>\n",
       "      <th>Customer_rating</th>\n",
       "      <th>Cost_of_the_Product</th>\n",
       "      <th>Prior_purchases</th>\n",
       "      <th>Product_importance</th>\n",
       "      <th>Gender</th>\n",
       "      <th>Discount_offered</th>\n",
       "      <th>Weight_in_gms</th>\n",
       "      <th>Reached.on.Time_Y.N</th>\n",
       "    </tr>\n",
       "  </thead>\n",
       "  <tbody>\n",
       "    <tr>\n",
       "      <th>0</th>\n",
       "      <td>1</td>\n",
       "      <td>D</td>\n",
       "      <td>Flight</td>\n",
       "      <td>4</td>\n",
       "      <td>2</td>\n",
       "      <td>177</td>\n",
       "      <td>3</td>\n",
       "      <td>low</td>\n",
       "      <td>F</td>\n",
       "      <td>44</td>\n",
       "      <td>1233</td>\n",
       "      <td>1</td>\n",
       "    </tr>\n",
       "    <tr>\n",
       "      <th>1</th>\n",
       "      <td>2</td>\n",
       "      <td>F</td>\n",
       "      <td>Flight</td>\n",
       "      <td>4</td>\n",
       "      <td>5</td>\n",
       "      <td>216</td>\n",
       "      <td>2</td>\n",
       "      <td>low</td>\n",
       "      <td>M</td>\n",
       "      <td>59</td>\n",
       "      <td>3088</td>\n",
       "      <td>1</td>\n",
       "    </tr>\n",
       "    <tr>\n",
       "      <th>2</th>\n",
       "      <td>3</td>\n",
       "      <td>A</td>\n",
       "      <td>Flight</td>\n",
       "      <td>2</td>\n",
       "      <td>2</td>\n",
       "      <td>183</td>\n",
       "      <td>4</td>\n",
       "      <td>low</td>\n",
       "      <td>M</td>\n",
       "      <td>48</td>\n",
       "      <td>3374</td>\n",
       "      <td>1</td>\n",
       "    </tr>\n",
       "    <tr>\n",
       "      <th>3</th>\n",
       "      <td>4</td>\n",
       "      <td>B</td>\n",
       "      <td>Flight</td>\n",
       "      <td>3</td>\n",
       "      <td>3</td>\n",
       "      <td>176</td>\n",
       "      <td>4</td>\n",
       "      <td>medium</td>\n",
       "      <td>M</td>\n",
       "      <td>10</td>\n",
       "      <td>1177</td>\n",
       "      <td>1</td>\n",
       "    </tr>\n",
       "    <tr>\n",
       "      <th>4</th>\n",
       "      <td>5</td>\n",
       "      <td>C</td>\n",
       "      <td>Flight</td>\n",
       "      <td>2</td>\n",
       "      <td>2</td>\n",
       "      <td>184</td>\n",
       "      <td>3</td>\n",
       "      <td>medium</td>\n",
       "      <td>F</td>\n",
       "      <td>46</td>\n",
       "      <td>2484</td>\n",
       "      <td>1</td>\n",
       "    </tr>\n",
       "    <tr>\n",
       "      <th>...</th>\n",
       "      <td>...</td>\n",
       "      <td>...</td>\n",
       "      <td>...</td>\n",
       "      <td>...</td>\n",
       "      <td>...</td>\n",
       "      <td>...</td>\n",
       "      <td>...</td>\n",
       "      <td>...</td>\n",
       "      <td>...</td>\n",
       "      <td>...</td>\n",
       "      <td>...</td>\n",
       "      <td>...</td>\n",
       "    </tr>\n",
       "    <tr>\n",
       "      <th>10994</th>\n",
       "      <td>10995</td>\n",
       "      <td>A</td>\n",
       "      <td>Ship</td>\n",
       "      <td>4</td>\n",
       "      <td>1</td>\n",
       "      <td>252</td>\n",
       "      <td>5</td>\n",
       "      <td>medium</td>\n",
       "      <td>F</td>\n",
       "      <td>1</td>\n",
       "      <td>1538</td>\n",
       "      <td>1</td>\n",
       "    </tr>\n",
       "    <tr>\n",
       "      <th>10995</th>\n",
       "      <td>10996</td>\n",
       "      <td>B</td>\n",
       "      <td>Ship</td>\n",
       "      <td>4</td>\n",
       "      <td>1</td>\n",
       "      <td>232</td>\n",
       "      <td>5</td>\n",
       "      <td>medium</td>\n",
       "      <td>F</td>\n",
       "      <td>6</td>\n",
       "      <td>1247</td>\n",
       "      <td>0</td>\n",
       "    </tr>\n",
       "    <tr>\n",
       "      <th>10996</th>\n",
       "      <td>10997</td>\n",
       "      <td>C</td>\n",
       "      <td>Ship</td>\n",
       "      <td>5</td>\n",
       "      <td>4</td>\n",
       "      <td>242</td>\n",
       "      <td>5</td>\n",
       "      <td>low</td>\n",
       "      <td>F</td>\n",
       "      <td>4</td>\n",
       "      <td>1155</td>\n",
       "      <td>0</td>\n",
       "    </tr>\n",
       "    <tr>\n",
       "      <th>10997</th>\n",
       "      <td>10998</td>\n",
       "      <td>F</td>\n",
       "      <td>Ship</td>\n",
       "      <td>5</td>\n",
       "      <td>2</td>\n",
       "      <td>223</td>\n",
       "      <td>6</td>\n",
       "      <td>medium</td>\n",
       "      <td>M</td>\n",
       "      <td>2</td>\n",
       "      <td>1210</td>\n",
       "      <td>0</td>\n",
       "    </tr>\n",
       "    <tr>\n",
       "      <th>10998</th>\n",
       "      <td>10999</td>\n",
       "      <td>D</td>\n",
       "      <td>Ship</td>\n",
       "      <td>2</td>\n",
       "      <td>5</td>\n",
       "      <td>155</td>\n",
       "      <td>5</td>\n",
       "      <td>low</td>\n",
       "      <td>F</td>\n",
       "      <td>6</td>\n",
       "      <td>1639</td>\n",
       "      <td>0</td>\n",
       "    </tr>\n",
       "  </tbody>\n",
       "</table>\n",
       "<p>10999 rows × 12 columns</p>\n",
       "</div>"
      ],
      "text/plain": [
       "          ID Warehouse_block Mode_of_Shipment  Customer_care_calls  Customer_rating  Cost_of_the_Product  Prior_purchases Product_importance Gender  Discount_offered  Weight_in_gms  Reached.on.Time_Y.N\n",
       "0          1               D           Flight                    4                2                  177                3                low      F                44           1233                    1\n",
       "1          2               F           Flight                    4                5                  216                2                low      M                59           3088                    1\n",
       "2          3               A           Flight                    2                2                  183                4                low      M                48           3374                    1\n",
       "3          4               B           Flight                    3                3                  176                4             medium      M                10           1177                    1\n",
       "4          5               C           Flight                    2                2                  184                3             medium      F                46           2484                    1\n",
       "...      ...             ...              ...                  ...              ...                  ...              ...                ...    ...               ...            ...                  ...\n",
       "10994  10995               A             Ship                    4                1                  252                5             medium      F                 1           1538                    1\n",
       "10995  10996               B             Ship                    4                1                  232                5             medium      F                 6           1247                    0\n",
       "10996  10997               C             Ship                    5                4                  242                5                low      F                 4           1155                    0\n",
       "10997  10998               F             Ship                    5                2                  223                6             medium      M                 2           1210                    0\n",
       "10998  10999               D             Ship                    2                5                  155                5                low      F                 6           1639                    0\n",
       "\n",
       "[10999 rows x 12 columns]"
      ]
     },
     "execution_count": 103,
     "metadata": {},
     "output_type": "execute_result"
    }
   ],
   "source": [
    "import numpy as np\n",
    "import pandas as pd\n",
    "\n",
    "df = pd.read_csv('./extrafiles/Train.csv')\n",
    "print(df.columns)\n",
    "df"
   ]
  },
  {
   "cell_type": "code",
   "execution_count": 104,
   "id": "82e8aa8a",
   "metadata": {},
   "outputs": [
    {
     "name": "stdout",
     "output_type": "stream",
     "text": [
      "Discount_offered  이상치 제거\n"
     ]
    }
   ],
   "source": [
    "# 이상치와 결측치 확인 - 10시 시작\n",
    "df.isna().sum() # 결측치 없음\n",
    "\n",
    "df.describe() # Discount_offered 하나가 오차 범위에 있음\n",
    "\n",
    "# 이상치 조정\n",
    "items = ['Discount_offered']\n",
    "for col in items:\n",
    "    print(col, \" 이상치 제거\")\n",
    "    q1 = df[col].quantile(0.25)\n",
    "    q3 = df[col].quantile(0.75)\n",
    "    q_diff = (q3 - q1) * 1.5\n",
    "    mask_min = df[col] < q1 - q_diff\n",
    "    mask_max = df[col] > q3 + q_diff\n",
    "    df.loc[mask_min, col] = q1 - q_diff\n",
    "    df.loc[mask_max, col] = q3 + q_diff"
   ]
  },
  {
   "cell_type": "code",
   "execution_count": 105,
   "id": "0eb14f6c",
   "metadata": {},
   "outputs": [
    {
     "name": "stdout",
     "output_type": "stream",
     "text": [
      "0.5966783852588192\n",
      "0.5967272727272728\n"
     ]
    }
   ],
   "source": [
    "# 카테고리 및 연속형 변수 분리\n",
    "X_cat = df[['Warehouse_block', 'Mode_of_Shipment', 'Product_importance', 'Gender']]\n",
    "X_num = df[['Customer_care_calls', 'Customer_rating', 'Cost_of_the_Product', \n",
    "            'Prior_purchases', 'Discount_offered', 'Weight_in_gms']]\n",
    "\n",
    "# 더미변수화\n",
    "X_cat_dummy = pd.get_dummies(X_cat)\n",
    "\n",
    "# 정규화 - 스케일링\n",
    "from sklearn.preprocessing import MinMaxScaler\n",
    "X_num_scaled = MinMaxScaler().fit_transform(X_num)\n",
    "X_num_scaled = pd.DataFrame(X_num_scaled, index=X_num.index, columns=X_num.columns)\n",
    "\n",
    "# 데이터셋 병합\n",
    "X_temp = pd.concat([X_num_scaled, X_cat_dummy], axis=1)\n",
    "\n",
    "# 변수 셋팅\n",
    "X_id = df['ID']\n",
    "y = df['Reached.on.Time_Y.N']\n",
    "\n",
    "# train test 분리\n",
    "from sklearn.model_selection import train_test_split\n",
    "X_train, X_test, y_train, y_test = train_test_split(X_temp, y, random_state=3345, stratify=y)\n",
    "\n",
    "print(y_train.mean())\n",
    "print(y_test.mean())"
   ]
  },
  {
   "cell_type": "code",
   "execution_count": 106,
   "id": "7a537310",
   "metadata": {},
   "outputs": [
    {
     "name": "stdout",
     "output_type": "stream",
     "text": [
      "CV Score :  [0.65272727 0.65090909 0.64060606 0.64545455 0.63614312]\n",
      "CV Score mean :  0.64516801734752\n"
     ]
    }
   ],
   "source": [
    "# 모델 적용 - Stacking\n",
    "from sklearn.linear_model import LogisticRegression\n",
    "from sklearn.svm import SVC\n",
    "from sklearn.ensemble import RandomForestClassifier\n",
    "from sklearn.ensemble import StackingClassifier\n",
    "\n",
    "# model fitting\n",
    "estimators = [('a', SVC()), ('b', RandomForestClassifier())]\n",
    "model_stack = StackingClassifier(estimators=estimators, \n",
    "                                 final_estimator=LogisticRegression()).fit(X_train, y_train)\n",
    "\n",
    "# cross-validation\n",
    "from sklearn.model_selection import cross_val_score\n",
    "from sklearn.model_selection import KFold\n",
    "kfold = KFold(n_splits=5, random_state=456, shuffle=True)\n",
    "score = cross_val_score(StackingClassifier(estimators=estimators, \n",
    "                                           final_estimator=LogisticRegression()), X_train, y_train, cv=kfold)\n",
    "\n",
    "print(\"CV Score : \", score)\n",
    "print(\"CV Score mean : \", score.mean())"
   ]
  },
  {
   "cell_type": "code",
   "execution_count": 18,
   "id": "34616ec5",
   "metadata": {},
   "outputs": [
    {
     "name": "stdout",
     "output_type": "stream",
     "text": [
      "CV Score :  [0.63878788 0.62242424 0.64       0.64181818 0.62886598]\n",
      "CV Score mean :  0.6343792564823493\n"
     ]
    }
   ],
   "source": [
    "# LogisticRegression\n",
    "score = cross_val_score(LogisticRegression(), X_train, y_train, cv=kfold)\n",
    "print(\"CV Score : \", score)\n",
    "print(\"CV Score mean : \", score.mean())"
   ]
  },
  {
   "cell_type": "code",
   "execution_count": 46,
   "id": "d5a5056c",
   "metadata": {},
   "outputs": [],
   "source": [
    "# predict\n",
    "pred_train = model_stack.predict(X_train)"
   ]
  },
  {
   "cell_type": "code",
   "execution_count": 55,
   "id": "44a7e1ad",
   "metadata": {},
   "outputs": [
    {
     "name": "stdout",
     "output_type": "stream",
     "text": [
      "              precision    recall  f1-score   support\n",
      "\n",
      "           0       1.00      1.00      1.00      3327\n",
      "           1       1.00      1.00      1.00      4922\n",
      "\n",
      "    accuracy                           1.00      8249\n",
      "   macro avg       1.00      1.00      1.00      8249\n",
      "weighted avg       1.00      1.00      1.00      8249\n",
      "\n"
     ]
    }
   ],
   "source": [
    "# classification_report\n",
    "from sklearn.metrics import classification_report\n",
    "print(classification_report(y_train, pred_train))"
   ]
  },
  {
   "cell_type": "code",
   "execution_count": 21,
   "id": "bed1648e",
   "metadata": {},
   "outputs": [
    {
     "name": "stdout",
     "output_type": "stream",
     "text": [
      "[0.94304179 0.93141322 0.65469664 ... 0.42263296 0.59736818 0.81450549]\n"
     ]
    }
   ],
   "source": [
    "# test data predict\n",
    "pred_test = model_stack.predict_proba(X_test)\n",
    "print(pred_test[:, 1])\n",
    "\n",
    "# X_id 와 결합\n",
    "result = pd.DataFrame({'':, '':pred_test})"
   ]
  },
  {
   "cell_type": "code",
   "execution_count": 45,
   "id": "189e3212",
   "metadata": {},
   "outputs": [
    {
     "name": "stdout",
     "output_type": "stream",
     "text": [
      "      cust_id  reacheYN\n",
      "0        2350  0.943042\n",
      "1          55  0.931413\n",
      "2        7396  0.654697\n",
      "3        7408  0.210633\n",
      "4        4577  0.519672\n",
      "...       ...       ...\n",
      "2745     1109  0.928326\n",
      "2746     9326  0.392122\n",
      "2747     6202  0.422633\n",
      "2748     3516  0.597368\n",
      "2749     7077  0.814505\n",
      "\n",
      "[2750 rows x 2 columns]\n",
      "True\n"
     ]
    }
   ],
   "source": [
    "# 분류 결과와 평가 까지 풀 코스로\n",
    "result = pd.DataFrame({'cust_id': X_test.index, 'reacheYN': pred_test[:, 1]})\n",
    "print(result)\n",
    "result.to_csv('003000678.csv', index=False)\n",
    "\n",
    "import os.path\n",
    "print(os.path.exists('003000678.csv'))"
   ]
  },
  {
   "cell_type": "code",
   "execution_count": 109,
   "id": "86403b59",
   "metadata": {},
   "outputs": [
    {
     "name": "stdout",
     "output_type": "stream",
     "text": [
      "CV Score :  [0.66242424 0.65272727 0.64181818 0.66242424 0.65433596]\n",
      "CV Score mean :  0.6547459801165078\n"
     ]
    }
   ],
   "source": [
    "# 나이브베이즈 - 분류문제에서는 성능이 좋은 듯?!?\n",
    "from sklearn.naive_bayes import GaussianNB\n",
    "\n",
    "score = cross_val_score(GaussianNB(), X_train, y_train, cv=kfold)\n",
    "\n",
    "print(\"CV Score : \", score)\n",
    "print(\"CV Score mean : \", score.mean())"
   ]
  },
  {
   "cell_type": "code",
   "execution_count": null,
   "id": "9e98768c",
   "metadata": {},
   "outputs": [],
   "source": [
    " # XGBoost"
   ]
  },
  {
   "cell_type": "code",
   "execution_count": null,
   "id": "a45edb98",
   "metadata": {},
   "outputs": [],
   "source": []
  },
  {
   "cell_type": "code",
   "execution_count": null,
   "id": "c62a02b5",
   "metadata": {},
   "outputs": [],
   "source": []
  },
  {
   "cell_type": "code",
   "execution_count": null,
   "id": "239b4960",
   "metadata": {},
   "outputs": [],
   "source": []
  },
  {
   "cell_type": "code",
   "execution_count": null,
   "id": "af78bf98",
   "metadata": {},
   "outputs": [],
   "source": []
  },
  {
   "cell_type": "code",
   "execution_count": null,
   "id": "cfef5183",
   "metadata": {},
   "outputs": [],
   "source": []
  },
  {
   "cell_type": "markdown",
   "id": "6868f3c6",
   "metadata": {},
   "source": [
    "# 회귀분석 모델 - 집값 예측\n",
    "\n",
    "1. 각 회귀분석 모델별 설명력(R-Square)를 예측해본다.\n",
    "2. 앙상블을 적용해본다."
   ]
  },
  {
   "cell_type": "code",
   "execution_count": 56,
   "id": "f2f8cb37",
   "metadata": {},
   "outputs": [
    {
     "name": "stdout",
     "output_type": "stream",
     "text": [
      "Index(['housing_age', 'income', 'bedrooms', 'households', 'rooms',\n",
      "       'house_value'],\n",
      "      dtype='object')\n"
     ]
    },
    {
     "data": {
      "text/html": [
       "<div>\n",
       "<style scoped>\n",
       "    .dataframe tbody tr th:only-of-type {\n",
       "        vertical-align: middle;\n",
       "    }\n",
       "\n",
       "    .dataframe tbody tr th {\n",
       "        vertical-align: top;\n",
       "    }\n",
       "\n",
       "    .dataframe thead th {\n",
       "        text-align: right;\n",
       "    }\n",
       "</style>\n",
       "<table border=\"1\" class=\"dataframe\">\n",
       "  <thead>\n",
       "    <tr style=\"text-align: right;\">\n",
       "      <th></th>\n",
       "      <th>housing_age</th>\n",
       "      <th>income</th>\n",
       "      <th>bedrooms</th>\n",
       "      <th>households</th>\n",
       "      <th>rooms</th>\n",
       "      <th>house_value</th>\n",
       "    </tr>\n",
       "  </thead>\n",
       "  <tbody>\n",
       "    <tr>\n",
       "      <th>0</th>\n",
       "      <td>23</td>\n",
       "      <td>6.7770</td>\n",
       "      <td>0.141112</td>\n",
       "      <td>2.442244</td>\n",
       "      <td>8.103960</td>\n",
       "      <td>500000</td>\n",
       "    </tr>\n",
       "    <tr>\n",
       "      <th>1</th>\n",
       "      <td>49</td>\n",
       "      <td>6.0199</td>\n",
       "      <td>0.160984</td>\n",
       "      <td>2.726688</td>\n",
       "      <td>5.752412</td>\n",
       "      <td>500000</td>\n",
       "    </tr>\n",
       "    <tr>\n",
       "      <th>2</th>\n",
       "      <td>35</td>\n",
       "      <td>5.1155</td>\n",
       "      <td>0.249061</td>\n",
       "      <td>1.902676</td>\n",
       "      <td>3.888078</td>\n",
       "      <td>500000</td>\n",
       "    </tr>\n",
       "    <tr>\n",
       "      <th>3</th>\n",
       "      <td>32</td>\n",
       "      <td>4.7109</td>\n",
       "      <td>0.231383</td>\n",
       "      <td>1.913669</td>\n",
       "      <td>4.508393</td>\n",
       "      <td>500000</td>\n",
       "    </tr>\n",
       "    <tr>\n",
       "      <th>4</th>\n",
       "      <td>21</td>\n",
       "      <td>4.5625</td>\n",
       "      <td>0.255583</td>\n",
       "      <td>3.092664</td>\n",
       "      <td>4.667954</td>\n",
       "      <td>500000</td>\n",
       "    </tr>\n",
       "    <tr>\n",
       "      <th>...</th>\n",
       "      <td>...</td>\n",
       "      <td>...</td>\n",
       "      <td>...</td>\n",
       "      <td>...</td>\n",
       "      <td>...</td>\n",
       "      <td>...</td>\n",
       "    </tr>\n",
       "    <tr>\n",
       "      <th>17684</th>\n",
       "      <td>34</td>\n",
       "      <td>2.3013</td>\n",
       "      <td>0.214583</td>\n",
       "      <td>2.748299</td>\n",
       "      <td>4.897959</td>\n",
       "      <td>26600</td>\n",
       "    </tr>\n",
       "    <tr>\n",
       "      <th>17685</th>\n",
       "      <td>33</td>\n",
       "      <td>2.6750</td>\n",
       "      <td>0.246622</td>\n",
       "      <td>3.428571</td>\n",
       "      <td>4.698413</td>\n",
       "      <td>22500</td>\n",
       "    </tr>\n",
       "    <tr>\n",
       "      <th>17686</th>\n",
       "      <td>39</td>\n",
       "      <td>2.3667</td>\n",
       "      <td>0.340771</td>\n",
       "      <td>1.876812</td>\n",
       "      <td>3.572464</td>\n",
       "      <td>17500</td>\n",
       "    </tr>\n",
       "    <tr>\n",
       "      <th>17687</th>\n",
       "      <td>19</td>\n",
       "      <td>2.1000</td>\n",
       "      <td>0.386107</td>\n",
       "      <td>2.987805</td>\n",
       "      <td>3.774390</td>\n",
       "      <td>14999</td>\n",
       "    </tr>\n",
       "    <tr>\n",
       "      <th>17688</th>\n",
       "      <td>16</td>\n",
       "      <td>1.6607</td>\n",
       "      <td>0.286275</td>\n",
       "      <td>2.236842</td>\n",
       "      <td>6.710526</td>\n",
       "      <td>14999</td>\n",
       "    </tr>\n",
       "  </tbody>\n",
       "</table>\n",
       "<p>17689 rows × 6 columns</p>\n",
       "</div>"
      ],
      "text/plain": [
       "       housing_age  income  bedrooms  households     rooms  house_value\n",
       "0               23  6.7770  0.141112    2.442244  8.103960       500000\n",
       "1               49  6.0199  0.160984    2.726688  5.752412       500000\n",
       "2               35  5.1155  0.249061    1.902676  3.888078       500000\n",
       "3               32  4.7109  0.231383    1.913669  4.508393       500000\n",
       "4               21  4.5625  0.255583    3.092664  4.667954       500000\n",
       "...            ...     ...       ...         ...       ...          ...\n",
       "17684           34  2.3013  0.214583    2.748299  4.897959        26600\n",
       "17685           33  2.6750  0.246622    3.428571  4.698413        22500\n",
       "17686           39  2.3667  0.340771    1.876812  3.572464        17500\n",
       "17687           19  2.1000  0.386107    2.987805  3.774390        14999\n",
       "17688           16  1.6607  0.286275    2.236842  6.710526        14999\n",
       "\n",
       "[17689 rows x 6 columns]"
      ]
     },
     "execution_count": 56,
     "metadata": {},
     "output_type": "execute_result"
    }
   ],
   "source": [
    "# 데이터 로드\n",
    "import warnings\n",
    "warnings.filterwarnings(\"ignore\")\n",
    "import pandas as pd\n",
    "import numpy as np\n",
    "\n",
    "df = pd.read_csv('./extrafiles/house_price.csv')\n",
    "print(df.columns)\n",
    "df"
   ]
  },
  {
   "cell_type": "code",
   "execution_count": 61,
   "id": "83e6e935",
   "metadata": {},
   "outputs": [
    {
     "name": "stdout",
     "output_type": "stream",
     "text": [
      "housing_age    0\n",
      "income         0\n",
      "bedrooms       0\n",
      "households     0\n",
      "rooms          0\n",
      "house_value    0\n",
      "dtype: int64\n",
      "        housing_age        income      bedrooms    households         rooms    house_value\n",
      "count  17689.000000  17689.000000  17689.000000  17689.000000  17689.000000   17689.000000\n",
      "mean      27.378823      3.671141      0.213278      2.952117      5.244001  189043.439313\n",
      "std       11.280230      1.525937      0.051167      0.731573      1.184922   95487.122628\n",
      "min        1.000000      0.499900      0.100000      0.750000      1.640000   14999.000000\n",
      "25%       18.000000      2.532900      0.177464      2.470270      4.426829  114400.000000\n",
      "50%       28.000000      3.453900      0.204104      2.854962      5.190779  171100.000000\n",
      "75%       36.000000      4.591800      0.240157      3.316092      5.953728  242700.000000\n",
      "max       51.000000      9.905500      0.498127      6.954023     11.901869  500000.000000\n"
     ]
    },
    {
     "data": {
      "text/plain": [
       "Index(['housing_age', 'income', 'bedrooms', 'households', 'rooms', 'house_value'], dtype='object')"
      ]
     },
     "execution_count": 61,
     "metadata": {},
     "output_type": "execute_result"
    }
   ],
   "source": [
    "# 화면 넓이 조정\n",
    "pd.set_option(\"display.max_columns\", 20)\n",
    "pd.set_option(\"display.width\", 2000)\n",
    "\n",
    "# 이상치 및 결측치 확인\n",
    "# 결측치 확인 - 없음\n",
    "print(df.isna().sum())\n",
    "\n",
    "# 이상치 확인 - 없음\n",
    "print(df.describe())\n",
    "\n",
    "# 컬럼 정보 확인 및 카테고리 연속형 변수 분리\n",
    "df.columns"
   ]
  },
  {
   "cell_type": "code",
   "execution_count": 65,
   "id": "a72747e0",
   "metadata": {},
   "outputs": [],
   "source": [
    "# 변수 분리 - 카테고리 값이 없음\n",
    "X = df[['housing_age', 'income', 'bedrooms', 'households', 'rooms']]\n",
    "y = df[['house_value']]\n",
    "\n",
    "# Scaling 정규화 작업을 회귀 분석에서는 해주지 않아도 된다.\n",
    "from sklearn.model_selection import train_test_split\n",
    "X_train, X_test, y_train, y_test = train_test_split(X, y, random_state=1234)"
   ]
  },
  {
   "cell_type": "code",
   "execution_count": 99,
   "id": "4f2ca277",
   "metadata": {},
   "outputs": [],
   "source": [
    "# 모델적용 - 선형회귀는 1종만 / 앙상블 스태킹 적용 / XGB / Voting\n",
    "from sklearn.linear_model import LinearRegression\n",
    "from sklearn.svm import SVR\n",
    "from sklearn.ensemble import RandomForestRegressor\n",
    "\n",
    "from sklearn.ensemble import StackingRegressor\n",
    "from sklearn.ensemble import VotingRegressor\n",
    "\n",
    "estimators = [('sv', SVR()), ('rf', RandomForestRegressor())]\n",
    "\n",
    "model_stack = StackingRegressor(estimators = estimators, final_estimator=LinearRegression()).fit(X_train, y_train)\n",
    "model_voting = VotingRegressor(estimators = estimators).fit(X_train, y_train)\n",
    "model_lr = LinearRegression().fit(X_train, y_train)"
   ]
  },
  {
   "cell_type": "code",
   "execution_count": 100,
   "id": "52c5612c",
   "metadata": {},
   "outputs": [
    {
     "name": "stdout",
     "output_type": "stream",
     "text": [
      "CV Score :  [0.55315719 0.5617157  0.57474603 0.59217179]\n",
      "CV Score mean :  0.570447678417513\n",
      "\n",
      "CV Score :  [0.5922045  0.60808151 0.61879652 0.63279122]\n",
      "CV Score mean :  0.6129684341882069\n",
      "\n",
      "CV Score :  [0.45725684 0.46254498 0.45586897 0.47306164]\n",
      "CV Score mean :  0.46218310921917083\n",
      "\n",
      "CV Score :  [0.59285439 0.60757685 0.61736092 0.63281697]\n",
      "CV Score mean :  0.612652282789369\n"
     ]
    }
   ],
   "source": [
    "# 교차검증 스코어 확인\n",
    "from sklearn.model_selection import cross_val_score\n",
    "from sklearn.model_selection import KFold\n",
    "\n",
    "kfold = KFold(n_splits=4, shuffle=True, random_state=4444)\n",
    "\n",
    "# 선형회귀모형\n",
    "score = cross_val_score(LinearRegression(), X_train, y_train, cv=kfold)\n",
    "\n",
    "print(\"CV Score : \", score)\n",
    "print(\"CV Score mean : \", score.mean())\n",
    "print()\n",
    "\n",
    "# 랜덤포레스트\n",
    "score = cross_val_score(RandomForestRegressor(), X_train, y_train, cv=kfold)\n",
    "\n",
    "print(\"CV Score : \", score)\n",
    "print(\"CV Score mean : \", score.mean())\n",
    "print()\n",
    "\n",
    "# Voting\n",
    "score = cross_val_score(VotingRegressor(estimators = estimators), X_train, y_train, cv=kfold)\n",
    "\n",
    "print(\"CV Score : \", score)\n",
    "print(\"CV Score mean : \", score.mean())\n",
    "print()\n",
    "\n",
    "# Stacking\n",
    "score = cross_val_score(StackingRegressor(estimators = estimators, \n",
    "                                           final_estimator=LinearRegression()), X_train, y_train, cv=kfold)\n",
    "\n",
    "print(\"CV Score : \", score)\n",
    "print(\"CV Score mean : \", score.mean())"
   ]
  },
  {
   "cell_type": "code",
   "execution_count": 79,
   "id": "f5435f37",
   "metadata": {},
   "outputs": [],
   "source": [
    "# 테스트 데이터 예측\n",
    "pred_test = model_stack.predict(X_test)"
   ]
  },
  {
   "cell_type": "code",
   "execution_count": 98,
   "id": "d6fdde4e",
   "metadata": {},
   "outputs": [
    {
     "name": "stdout",
     "output_type": "stream",
     "text": [
      "MSE :  3266649433.2375526\n",
      "RMSE :  57154.60990364253\n",
      "MAE :  41982.40013925488\n",
      "MAPE :  26.84956805916255\n"
     ]
    }
   ],
   "source": [
    "# MSE\n",
    "from sklearn.metrics import mean_squared_error\n",
    "mse = mean_squared_error(y_test, pred_test)\n",
    "print(\"MSE : \", mse)\n",
    "\n",
    "# RMSE\n",
    "print(\"RMSE : \", np.sqrt(mse))\n",
    "\n",
    "# MAE\n",
    "from sklearn.metrics import mean_absolute_error\n",
    "mae = mean_absolute_error(y_test, pred_test)\n",
    "print(\"MAE : \", mae)\n",
    "\n",
    "# MAPE\n",
    "def MAPE(y_val, pred_val):\n",
    "    return np.mean(np.abs((y_val-pred_val)/y_val)*100)\n",
    "print(\"MAPE : \", MAPE(y_test['house_value'], pred_test))\n"
   ]
  },
  {
   "cell_type": "code",
   "execution_count": null,
   "id": "3f39b7da",
   "metadata": {},
   "outputs": [],
   "source": [
    "# XGBoost # BayesianRidge"
   ]
  },
  {
   "cell_type": "code",
   "execution_count": 101,
   "id": "059a69cb",
   "metadata": {},
   "outputs": [
    {
     "name": "stdout",
     "output_type": "stream",
     "text": [
      "CV Score :  [0.58818426 0.59263163 0.61191002 0.61833003]\n",
      "CV Score mean :  0.6027639876075861\n"
     ]
    }
   ],
   "source": [
    "from xgboost import XGBRegressor\n",
    "model_xgb = XGBRegressor().fit(X_train, y_train)\n",
    "\n",
    "score = cross_val_score(XGBRegressor(), X_train, y_train, cv=kfold)\n",
    "print(\"CV Score : \", score)\n",
    "print(\"CV Score mean : \", score.mean())"
   ]
  },
  {
   "cell_type": "code",
   "execution_count": 102,
   "id": "d7e2cbee",
   "metadata": {},
   "outputs": [
    {
     "name": "stdout",
     "output_type": "stream",
     "text": [
      "CV Score :  [0.55319941 0.56169082 0.57473422 0.59215583]\n",
      "CV Score mean :  0.5704450683071715\n"
     ]
    }
   ],
   "source": [
    "from sklearn.linear_model import BayesianRidge\n",
    "\n",
    "score = cross_val_score(BayesianRidge(), X_train, y_train, cv=kfold)\n",
    "print(\"CV Score : \", score)\n",
    "print(\"CV Score mean : \", score.mean())"
   ]
  },
  {
   "cell_type": "code",
   "execution_count": null,
   "id": "9f3b2e12",
   "metadata": {},
   "outputs": [],
   "source": []
  },
  {
   "cell_type": "code",
   "execution_count": null,
   "id": "44d11d5b",
   "metadata": {},
   "outputs": [],
   "source": []
  },
  {
   "cell_type": "code",
   "execution_count": null,
   "id": "7a1135a0",
   "metadata": {},
   "outputs": [],
   "source": [
    "# Stacking 에 사용할 알고리즘\n",
    "\n",
    "- LogisticRegression\n",
    "- SVC\n",
    "- RandomForestClassifier\n",
    "- GaussianNB\n",
    "\n",
    "- LinearRegression\n",
    "- SVR\n",
    "- RandomForestRegressor\n",
    "- RidgeBayese"
   ]
  },
  {
   "cell_type": "code",
   "execution_count": null,
   "id": "9b2b8815",
   "metadata": {},
   "outputs": [],
   "source": []
  }
 ],
 "metadata": {
  "kernelspec": {
   "display_name": "Python 3 (ipykernel)",
   "language": "python",
   "name": "python3"
  },
  "language_info": {
   "codemirror_mode": {
    "name": "ipython",
    "version": 3
   },
   "file_extension": ".py",
   "mimetype": "text/x-python",
   "name": "python",
   "nbconvert_exporter": "python",
   "pygments_lexer": "ipython3",
   "version": "3.9.7"
  }
 },
 "nbformat": 4,
 "nbformat_minor": 5
}
