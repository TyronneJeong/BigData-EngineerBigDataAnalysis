{
 "cells": [
  {
   "cell_type": "markdown",
   "id": "f349c81b",
   "metadata": {},
   "source": [
    "# Lasso 선형회귀모델\n",
    "\n",
    "라쏘는 기존 릿지 모델과 유사하게 특성의 계수(coef)값을 0에 가깝게 하여 오버 피팅 되는 것을 자제하는 모델이지만 차이점은 실제 중요하지 않은 변수의 계수를 0으로 까지 만들어 변수를 열외 시키는 모델"
   ]
  },
  {
   "cell_type": "code",
   "execution_count": null,
   "id": "5d29f92d",
   "metadata": {},
   "outputs": [],
   "source": [
    "# 패키지 로드\n",
    "import warnings\n",
    "warnings.filterwarnings(\"ignore\")\n",
    "import pandas as pd\n",
    "import numpy as np\n",
    "\n",
    "# 데이터 로드\n",
    "df = pd.read_csv('./extrafiles/house_price.csv')\n",
    "df\n",
    "\n",
    "# train_test_split\n",
    "X = df[['housing_age', 'income', 'bedrooms', 'households', 'rooms']]\n",
    "y = df[['house_value']]\n",
    "\n",
    "# 통계적 회귀 분석에서는 일반적으로 X데이터의 정규화를 하지 않는다.\n",
    "# from sklearn.preprocessing import MinMaxScaler\n",
    "# X_scaled = MinMaxScaler().fit_transform(X)\n",
    "# X_scaled = pd.DataFrame(X_scaled, index=X.index, columns=X.columns)\n",
    "\n",
    "from sklearn.model_selection import train_test_split\n",
    "X_train, X_test, y_train, y_test = train_test_split(X, y, random_state=333)"
   ]
  }
 ],
 "metadata": {
  "kernelspec": {
   "display_name": "Python 3 (ipykernel)",
   "language": "python",
   "name": "python3"
  },
  "language_info": {
   "codemirror_mode": {
    "name": "ipython",
    "version": 3
   },
   "file_extension": ".py",
   "mimetype": "text/x-python",
   "name": "python",
   "nbconvert_exporter": "python",
   "pygments_lexer": "ipython3",
   "version": "3.8.10"
  }
 },
 "nbformat": 4,
 "nbformat_minor": 5
}
