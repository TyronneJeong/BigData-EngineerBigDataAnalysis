{
 "cells": [
  {
   "cell_type": "markdown",
   "id": "e70254f7",
   "metadata": {},
   "source": [
    "# 선형회귀모델들\n",
    "\n",
    "선형회귀모델은 연속형 원인 변수가 연속형 결과변수에 영향을 미치는 영향을 분석하여 예측하는 모형이다.   \n",
    "회귀모델은 실제값과 예측값 간에 얼마나 일차하고 얼마나 차이나는지를 계산 하여 모델의 성능 지표로 삼는다.  \n",
    "가령 예측 모델의 예측값이 실제값과 모두 일치한다면 이때 설명력 R-Square 는 1이 되고 오차율 RMSE 는 0이 된다.  \n",
    "RMSE 는 선형 회귀모델에 대표적인 오차 지표이다. 이는 실제 레이블(y)의 단위값과 동일한 스케일상에 오차값을 제공하므로 해석이 용이하다."
   ]
  },
  {
   "cell_type": "markdown",
   "id": "ef9d01a2",
   "metadata": {},
   "source": [
    "LinearRegression 에 특별한 하이퍼 파라미터는 존재하지 않는다."
   ]
  },
  {
   "cell_type": "code",
   "execution_count": 54,
   "id": "a3857ab7",
   "metadata": {},
   "outputs": [
    {
     "name": "stdout",
     "output_type": "stream",
     "text": [
      "Once deleted, variables cannot be recovered. Proceed (y/[n])? ㅛ\n",
      "Once deleted, variables cannot be recovered. Proceed (y/[n])? y\n"
     ]
    }
   ],
   "source": [
    "# 패키지 로드\n",
    "%reset\n",
    "import warnings\n",
    "warnings.filterwarnings(\"ignore\")\n",
    "import pandas as pd\n",
    "import numpy as np"
   ]
  },
  {
   "cell_type": "code",
   "execution_count": 55,
   "id": "6057b716",
   "metadata": {},
   "outputs": [
    {
     "data": {
      "text/html": [
       "<div>\n",
       "<style scoped>\n",
       "    .dataframe tbody tr th:only-of-type {\n",
       "        vertical-align: middle;\n",
       "    }\n",
       "\n",
       "    .dataframe tbody tr th {\n",
       "        vertical-align: top;\n",
       "    }\n",
       "\n",
       "    .dataframe thead th {\n",
       "        text-align: right;\n",
       "    }\n",
       "</style>\n",
       "<table border=\"1\" class=\"dataframe\">\n",
       "  <thead>\n",
       "    <tr style=\"text-align: right;\">\n",
       "      <th></th>\n",
       "      <th>housing_age</th>\n",
       "      <th>income</th>\n",
       "      <th>bedrooms</th>\n",
       "      <th>households</th>\n",
       "      <th>rooms</th>\n",
       "      <th>house_value</th>\n",
       "    </tr>\n",
       "  </thead>\n",
       "  <tbody>\n",
       "    <tr>\n",
       "      <th>0</th>\n",
       "      <td>23</td>\n",
       "      <td>6.7770</td>\n",
       "      <td>0.141112</td>\n",
       "      <td>2.442244</td>\n",
       "      <td>8.103960</td>\n",
       "      <td>500000</td>\n",
       "    </tr>\n",
       "    <tr>\n",
       "      <th>1</th>\n",
       "      <td>49</td>\n",
       "      <td>6.0199</td>\n",
       "      <td>0.160984</td>\n",
       "      <td>2.726688</td>\n",
       "      <td>5.752412</td>\n",
       "      <td>500000</td>\n",
       "    </tr>\n",
       "    <tr>\n",
       "      <th>2</th>\n",
       "      <td>35</td>\n",
       "      <td>5.1155</td>\n",
       "      <td>0.249061</td>\n",
       "      <td>1.902676</td>\n",
       "      <td>3.888078</td>\n",
       "      <td>500000</td>\n",
       "    </tr>\n",
       "    <tr>\n",
       "      <th>3</th>\n",
       "      <td>32</td>\n",
       "      <td>4.7109</td>\n",
       "      <td>0.231383</td>\n",
       "      <td>1.913669</td>\n",
       "      <td>4.508393</td>\n",
       "      <td>500000</td>\n",
       "    </tr>\n",
       "    <tr>\n",
       "      <th>4</th>\n",
       "      <td>21</td>\n",
       "      <td>4.5625</td>\n",
       "      <td>0.255583</td>\n",
       "      <td>3.092664</td>\n",
       "      <td>4.667954</td>\n",
       "      <td>500000</td>\n",
       "    </tr>\n",
       "    <tr>\n",
       "      <th>...</th>\n",
       "      <td>...</td>\n",
       "      <td>...</td>\n",
       "      <td>...</td>\n",
       "      <td>...</td>\n",
       "      <td>...</td>\n",
       "      <td>...</td>\n",
       "    </tr>\n",
       "    <tr>\n",
       "      <th>17684</th>\n",
       "      <td>34</td>\n",
       "      <td>2.3013</td>\n",
       "      <td>0.214583</td>\n",
       "      <td>2.748299</td>\n",
       "      <td>4.897959</td>\n",
       "      <td>26600</td>\n",
       "    </tr>\n",
       "    <tr>\n",
       "      <th>17685</th>\n",
       "      <td>33</td>\n",
       "      <td>2.6750</td>\n",
       "      <td>0.246622</td>\n",
       "      <td>3.428571</td>\n",
       "      <td>4.698413</td>\n",
       "      <td>22500</td>\n",
       "    </tr>\n",
       "    <tr>\n",
       "      <th>17686</th>\n",
       "      <td>39</td>\n",
       "      <td>2.3667</td>\n",
       "      <td>0.340771</td>\n",
       "      <td>1.876812</td>\n",
       "      <td>3.572464</td>\n",
       "      <td>17500</td>\n",
       "    </tr>\n",
       "    <tr>\n",
       "      <th>17687</th>\n",
       "      <td>19</td>\n",
       "      <td>2.1000</td>\n",
       "      <td>0.386107</td>\n",
       "      <td>2.987805</td>\n",
       "      <td>3.774390</td>\n",
       "      <td>14999</td>\n",
       "    </tr>\n",
       "    <tr>\n",
       "      <th>17688</th>\n",
       "      <td>16</td>\n",
       "      <td>1.6607</td>\n",
       "      <td>0.286275</td>\n",
       "      <td>2.236842</td>\n",
       "      <td>6.710526</td>\n",
       "      <td>14999</td>\n",
       "    </tr>\n",
       "  </tbody>\n",
       "</table>\n",
       "<p>17689 rows × 6 columns</p>\n",
       "</div>"
      ],
      "text/plain": [
       "       housing_age  income  bedrooms  households     rooms  house_value\n",
       "0               23  6.7770  0.141112    2.442244  8.103960       500000\n",
       "1               49  6.0199  0.160984    2.726688  5.752412       500000\n",
       "2               35  5.1155  0.249061    1.902676  3.888078       500000\n",
       "3               32  4.7109  0.231383    1.913669  4.508393       500000\n",
       "4               21  4.5625  0.255583    3.092664  4.667954       500000\n",
       "...            ...     ...       ...         ...       ...          ...\n",
       "17684           34  2.3013  0.214583    2.748299  4.897959        26600\n",
       "17685           33  2.6750  0.246622    3.428571  4.698413        22500\n",
       "17686           39  2.3667  0.340771    1.876812  3.572464        17500\n",
       "17687           19  2.1000  0.386107    2.987805  3.774390        14999\n",
       "17688           16  1.6607  0.286275    2.236842  6.710526        14999\n",
       "\n",
       "[17689 rows x 6 columns]"
      ]
     },
     "execution_count": 55,
     "metadata": {},
     "output_type": "execute_result"
    }
   ],
   "source": [
    "# 데이터 로드\n",
    "df = pd.read_csv('./extrafiles/house_price.csv')\n",
    "df"
   ]
  },
  {
   "cell_type": "code",
   "execution_count": 56,
   "id": "1b7a68f6",
   "metadata": {},
   "outputs": [],
   "source": [
    "# train_test_split\n",
    "X = df[['housing_age', 'income', 'bedrooms', 'households', 'rooms']]\n",
    "y = df[['house_value']]\n",
    "\n",
    "# 통계적 회귀 분석에서는 일반적으로 X데이터의 정규화를 하지 않는다.\n",
    "from sklearn.preprocessing import MinMaxScaler\n",
    "X_scaled = MinMaxScaler().fit_transform(X)\n",
    "X_scaled = pd.DataFrame(X_scaled, index=X.index, columns=X.columns)\n",
    "\n",
    "from sklearn.model_selection import train_test_split\n",
    "X_train, X_test, y_train, y_test = train_test_split(X_scaled, y, random_state=333)"
   ]
  },
  {
   "cell_type": "code",
   "execution_count": 57,
   "id": "f76067cd",
   "metadata": {},
   "outputs": [
    {
     "data": {
      "text/html": [
       "<div>\n",
       "<style scoped>\n",
       "    .dataframe tbody tr th:only-of-type {\n",
       "        vertical-align: middle;\n",
       "    }\n",
       "\n",
       "    .dataframe tbody tr th {\n",
       "        vertical-align: top;\n",
       "    }\n",
       "\n",
       "    .dataframe thead th {\n",
       "        text-align: right;\n",
       "    }\n",
       "</style>\n",
       "<table border=\"1\" class=\"dataframe\">\n",
       "  <thead>\n",
       "    <tr style=\"text-align: right;\">\n",
       "      <th></th>\n",
       "      <th>const</th>\n",
       "      <th>housing_age</th>\n",
       "      <th>income</th>\n",
       "      <th>bedrooms</th>\n",
       "      <th>households</th>\n",
       "      <th>rooms</th>\n",
       "    </tr>\n",
       "  </thead>\n",
       "  <tbody>\n",
       "    <tr>\n",
       "      <th>17352</th>\n",
       "      <td>1.0</td>\n",
       "      <td>0.70</td>\n",
       "      <td>0.100111</td>\n",
       "      <td>0.320607</td>\n",
       "      <td>0.517788</td>\n",
       "      <td>0.226834</td>\n",
       "    </tr>\n",
       "    <tr>\n",
       "      <th>11245</th>\n",
       "      <td>1.0</td>\n",
       "      <td>0.70</td>\n",
       "      <td>0.168899</td>\n",
       "      <td>0.383344</td>\n",
       "      <td>0.568574</td>\n",
       "      <td>0.226508</td>\n",
       "    </tr>\n",
       "    <tr>\n",
       "      <th>12082</th>\n",
       "      <td>1.0</td>\n",
       "      <td>0.68</td>\n",
       "      <td>0.160915</td>\n",
       "      <td>0.445965</td>\n",
       "      <td>0.549196</td>\n",
       "      <td>0.212172</td>\n",
       "    </tr>\n",
       "    <tr>\n",
       "      <th>12610</th>\n",
       "      <td>1.0</td>\n",
       "      <td>0.06</td>\n",
       "      <td>0.399996</td>\n",
       "      <td>0.486461</td>\n",
       "      <td>0.147207</td>\n",
       "      <td>0.184659</td>\n",
       "    </tr>\n",
       "    <tr>\n",
       "      <th>6537</th>\n",
       "      <td>1.0</td>\n",
       "      <td>0.68</td>\n",
       "      <td>0.417315</td>\n",
       "      <td>0.232920</td>\n",
       "      <td>0.339392</td>\n",
       "      <td>0.382306</td>\n",
       "    </tr>\n",
       "    <tr>\n",
       "      <th>...</th>\n",
       "      <td>...</td>\n",
       "      <td>...</td>\n",
       "      <td>...</td>\n",
       "      <td>...</td>\n",
       "      <td>...</td>\n",
       "      <td>...</td>\n",
       "    </tr>\n",
       "    <tr>\n",
       "      <th>8477</th>\n",
       "      <td>1.0</td>\n",
       "      <td>0.64</td>\n",
       "      <td>0.293357</td>\n",
       "      <td>0.381848</td>\n",
       "      <td>0.380852</td>\n",
       "      <td>0.242464</td>\n",
       "    </tr>\n",
       "    <tr>\n",
       "      <th>3516</th>\n",
       "      <td>1.0</td>\n",
       "      <td>0.56</td>\n",
       "      <td>0.512928</td>\n",
       "      <td>0.126077</td>\n",
       "      <td>0.239040</td>\n",
       "      <td>0.448053</td>\n",
       "    </tr>\n",
       "    <tr>\n",
       "      <th>5494</th>\n",
       "      <td>1.0</td>\n",
       "      <td>0.42</td>\n",
       "      <td>0.415795</td>\n",
       "      <td>0.235097</td>\n",
       "      <td>0.356286</td>\n",
       "      <td>0.361613</td>\n",
       "    </tr>\n",
       "    <tr>\n",
       "      <th>973</th>\n",
       "      <td>1.0</td>\n",
       "      <td>0.62</td>\n",
       "      <td>0.648879</td>\n",
       "      <td>0.150782</td>\n",
       "      <td>0.292099</td>\n",
       "      <td>0.473356</td>\n",
       "    </tr>\n",
       "    <tr>\n",
       "      <th>8172</th>\n",
       "      <td>1.0</td>\n",
       "      <td>0.18</td>\n",
       "      <td>0.234796</td>\n",
       "      <td>0.404294</td>\n",
       "      <td>0.408934</td>\n",
       "      <td>0.272386</td>\n",
       "    </tr>\n",
       "  </tbody>\n",
       "</table>\n",
       "<p>13266 rows × 6 columns</p>\n",
       "</div>"
      ],
      "text/plain": [
       "       const  housing_age    income  bedrooms  households     rooms\n",
       "17352    1.0         0.70  0.100111  0.320607    0.517788  0.226834\n",
       "11245    1.0         0.70  0.168899  0.383344    0.568574  0.226508\n",
       "12082    1.0         0.68  0.160915  0.445965    0.549196  0.212172\n",
       "12610    1.0         0.06  0.399996  0.486461    0.147207  0.184659\n",
       "6537     1.0         0.68  0.417315  0.232920    0.339392  0.382306\n",
       "...      ...          ...       ...       ...         ...       ...\n",
       "8477     1.0         0.64  0.293357  0.381848    0.380852  0.242464\n",
       "3516     1.0         0.56  0.512928  0.126077    0.239040  0.448053\n",
       "5494     1.0         0.42  0.415795  0.235097    0.356286  0.361613\n",
       "973      1.0         0.62  0.648879  0.150782    0.292099  0.473356\n",
       "8172     1.0         0.18  0.234796  0.404294    0.408934  0.272386\n",
       "\n",
       "[13266 rows x 6 columns]"
      ]
     },
     "execution_count": 57,
     "metadata": {},
     "output_type": "execute_result"
    }
   ],
   "source": [
    "# statsmodel 적용\n",
    "import statsmodels.api as sm\n",
    "X_train_new = sm.add_constant(X_train)\n",
    "X_test_new = sm.add_constant(X_test)\n",
    "\n",
    "# constant 를 왜 추가하지? - 상수를 추정하는 역할\n",
    "X_train_new"
   ]
  },
  {
   "cell_type": "code",
   "execution_count": 58,
   "id": "c9d2d329",
   "metadata": {},
   "outputs": [
    {
     "name": "stdout",
     "output_type": "stream",
     "text": [
      "SM Summary : >>                              OLS Regression Results                            \n",
      "==============================================================================\n",
      "Dep. Variable:            house_value   R-squared:                       0.578\n",
      "Model:                            OLS   Adj. R-squared:                  0.578\n",
      "Method:                 Least Squares   F-statistic:                     3629.\n",
      "Date:                Sun, 28 Nov 2021   Prob (F-statistic):               0.00\n",
      "Time:                        15:25:53   Log-Likelihood:            -1.6528e+05\n",
      "No. Observations:               13266   AIC:                         3.306e+05\n",
      "Df Residuals:                   13260   BIC:                         3.306e+05\n",
      "Df Model:                           5                                         \n",
      "Covariance Type:            nonrobust                                         \n",
      "===============================================================================\n",
      "                  coef    std err          t      P>|t|      [0.025      0.975]\n",
      "-------------------------------------------------------------------------------\n",
      "const        -4.15e+04   5970.048     -6.952      0.000   -5.32e+04   -2.98e+04\n",
      "housing_age  6.815e+04   2509.922     27.154      0.000    6.32e+04    7.31e+04\n",
      "income       5.381e+05   4541.462    118.489      0.000    5.29e+05    5.47e+05\n",
      "bedrooms     2.597e+05   7920.733     32.792      0.000    2.44e+05    2.75e+05\n",
      "households  -1.684e+05   4606.904    -36.548      0.000   -1.77e+05   -1.59e+05\n",
      "rooms       -3099.3658   8481.554     -0.365      0.715   -1.97e+04    1.35e+04\n",
      "==============================================================================\n",
      "Omnibus:                     1887.375   Durbin-Watson:                   1.991\n",
      "Prob(Omnibus):                  0.000   Jarque-Bera (JB):             4355.886\n",
      "Skew:                           0.833   Prob(JB):                         0.00\n",
      "Kurtosis:                       5.260   Cond. No.                         29.4\n",
      "==============================================================================\n",
      "\n",
      "Notes:\n",
      "[1] Standard Errors assume that the covariance matrix of the errors is correctly specified.\n"
     ]
    }
   ],
   "source": [
    "# 모델 적용\n",
    "multi_model = sm.OLS(y_train, X_train_new).fit()\n",
    "print(\"SM Summary : >> \", multi_model.summary())\n",
    "\n",
    "# R-square : 설명력. 예측값과 실제값이 일치하는 정도. 회귀직선에 근접해있는 정도를 100으로 산출한 지수.\n",
    "# coef : 각 X 값이 1증가할때 마다 y가 변화하는 정도. 즉 기울기\n",
    "# p<|t| :significant 통계적으로 유의미한지를 검증한 결과. 0.05 보다 작으면 유의한 영향을 미치는 변수로 본다."
   ]
  },
  {
   "cell_type": "code",
   "execution_count": 59,
   "id": "903988db",
   "metadata": {},
   "outputs": [],
   "source": [
    "# rooms 의 상관계수가 낮다는걸 확인할 수 있다.\n",
    "# t 값은 우리가 구하려고 하는 모델(주택가격과의 상관관계가 있다) 라는 가설을 얼마만큼 뒷받침 해주는가에 대한 지표이다. - income이 상당히 높다."
   ]
  },
  {
   "cell_type": "markdown",
   "id": "0acbf31f",
   "metadata": {},
   "source": [
    "# 사이킷런의 선형회귀분석 적용\n"
   ]
  },
  {
   "cell_type": "code",
   "execution_count": 60,
   "id": "2b8120a7",
   "metadata": {},
   "outputs": [
    {
     "name": "stdout",
     "output_type": "stream",
     "text": [
      "0.5777415442648035\n"
     ]
    }
   ],
   "source": [
    "from sklearn.linear_model import LinearRegression\n",
    "model = LinearRegression().fit(X_train, y_train)\n",
    "print(model.score(X_train, y_train))"
   ]
  },
  {
   "cell_type": "code",
   "execution_count": 61,
   "id": "2da4d25a",
   "metadata": {},
   "outputs": [
    {
     "name": "stdout",
     "output_type": "stream",
     "text": [
      "0.5777372919087704\n"
     ]
    }
   ],
   "source": [
    "# 설명력이 매우 비슷하다.\n",
    "# coef 가 떨어지던 rooms 를 제거하고 모델 돌려 보기 - 변화가 없다.\n",
    "X_drop = X_train.drop('rooms', axis=1)\n",
    "X_drop\n",
    "model = LinearRegression().fit(X_drop, y_train)\n",
    "print(model.score(X_drop, y_train))"
   ]
  },
  {
   "cell_type": "code",
   "execution_count": 62,
   "id": "d72d2533",
   "metadata": {},
   "outputs": [
    {
     "name": "stdout",
     "output_type": "stream",
     "text": [
      "0.13065349775352375\n"
     ]
    }
   ],
   "source": [
    "# income 를 제거하고 모델 돌려 보기\n",
    "X_drop = X_train.drop('income', axis=1)\n",
    "X_drop\n",
    "model = LinearRegression().fit(X_drop, y_train)\n",
    "print(model.score(X_drop, y_train))"
   ]
  },
  {
   "cell_type": "code",
   "execution_count": 63,
   "id": "ab209625",
   "metadata": {},
   "outputs": [
    {
     "name": "stdout",
     "output_type": "stream",
     "text": [
      "0.5542610306253103\n"
     ]
    }
   ],
   "source": [
    "# housing_age 를 제거하고 모델 돌려 보기\n",
    "X_drop = X_train.drop('housing_age', axis=1)\n",
    "X_drop\n",
    "model = LinearRegression().fit(X_drop, y_train)\n",
    "print(model.score(X_drop, y_train))"
   ]
  },
  {
   "cell_type": "code",
   "execution_count": 64,
   "id": "302ba719",
   "metadata": {},
   "outputs": [
    {
     "name": "stdout",
     "output_type": "stream",
     "text": [
      "0.543497882641496\n"
     ]
    }
   ],
   "source": [
    "# bedrooms 를 제거하고 모델 돌려 보기\n",
    "X_drop = X_train.drop('bedrooms', axis=1)\n",
    "X_drop\n",
    "model = LinearRegression().fit(X_drop, y_train)\n",
    "print(model.score(X_drop, y_train))"
   ]
  },
  {
   "cell_type": "code",
   "execution_count": 65,
   "id": "fcbfdd06",
   "metadata": {},
   "outputs": [
    {
     "name": "stdout",
     "output_type": "stream",
     "text": [
      "0.535206118221379\n"
     ]
    }
   ],
   "source": [
    "# bedrooms 를 제거하고 모델 돌려 보기\n",
    "X_drop = X_train.drop('households', axis=1)\n",
    "X_drop\n",
    "model = LinearRegression().fit(X_drop, y_train)\n",
    "print(model.score(X_drop, y_train))"
   ]
  },
  {
   "cell_type": "code",
   "execution_count": null,
   "id": "519f6777",
   "metadata": {},
   "outputs": [],
   "source": [
    "# 각 특성 팩터가 증가하는 정도가 y 종속 변수에 끼치는 영향도를 가중치로 계산하여 예측하는 모델 (회귀분석)\n",
    "# 연속형 변수의 정규화를 진행하였지만, 결과값에는 차이가 없다. 할 필요가 없어서 안한다고 봐야 할듯."
   ]
  }
 ],
 "metadata": {
  "kernelspec": {
   "display_name": "Python 3 (ipykernel)",
   "language": "python",
   "name": "python3"
  },
  "language_info": {
   "codemirror_mode": {
    "name": "ipython",
    "version": 3
   },
   "file_extension": ".py",
   "mimetype": "text/x-python",
   "name": "python",
   "nbconvert_exporter": "python",
   "pygments_lexer": "ipython3",
   "version": "3.8.10"
  }
 },
 "nbformat": 4,
 "nbformat_minor": 5
}
