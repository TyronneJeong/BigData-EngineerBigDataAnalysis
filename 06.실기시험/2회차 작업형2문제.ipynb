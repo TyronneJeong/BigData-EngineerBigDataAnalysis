{
 "cells": [
  {
   "cell_type": "markdown",
   "id": "8ded62f5",
   "metadata": {},
   "source": [
    "```\n",
    "[빅분기 실기요약]\n",
    "1. 필답형 10문제 - 총 30점\n",
    "이상치\n",
    "평균대체법 -> 평균대치법\n",
    "비지도학습\n",
    "부스팅\n",
    "하이퍼파라미터\n",
    "gradientboosting\n",
    "오버피팅\n",
    "0.03 -> -1\n",
    "후진제거법\n",
    "roc-curve\n",
    "\n",
    "\n",
    "2. 작업형1 3문제 - 총 30점\n",
    "1) 주어진 데이터셋의 컬럼1에서 상위 10개의 데이터에 대하여 10개 중 최솟값으로 대체한 후, \n",
    "컬럼2에서 값이 80 이상인 데이터들 중 컬럼1의 평균값 구하기 \n",
    "\n",
    "2) 주어진 데이터셋 중 앞에서부터 80% 데이터를 샘플링하여 특정 컬럼의 표준편차를 구하고, \n",
    "해당 컬럼에서 결측치를 중앙값으로 대체한 후 표준편차를 구하여 그 두가지 표준편차의 차이 구하기\n",
    "\n",
    "3) 주어진 데이터셋에서 특정 컬럼의 이상치를 IQR rule에 의해 탐지하고 이상치들의 합을 구하기 \n",
    "\n",
    "3. 작업형2 1문제 - 총 40점\n",
    "데이터가 주어지면 해당 데이터를 바탕으로 필요한 전처리와 feature engineering, 모델링(앙상블 기법 사용), \n",
    "하이퍼 파라미터 최적화, 교차검증 등을 수행한다. 내 기억으로 시험에서는 배송이 지연될지 안될지에 대한 \n",
    "여부를 예측하는 문제가 나왔다. 데이터셋에서 운송수단, 창고 종류, 택배 회사와의 연락 여부, 이전에 택배를 \n",
    "주문한 적이 있었는지 여부, 금액 할인을 얼마나 받았는지 등의 컬럼이 주어졌고 배송이 지연될 확률을 구하면 \n",
    "되었다. 또한 성능 지표는 데이터 진흥원에서 공개했었던 예상문제와 동일하게 ROC-AUC로 평가한다고 되어 있었다. \n",
    "```"
   ]
  },
  {
   "cell_type": "code",
   "execution_count": null,
   "id": "f0fe0aa9",
   "metadata": {},
   "outputs": [],
   "source": []
  }
 ],
 "metadata": {
  "kernelspec": {
   "display_name": "Python 3",
   "language": "python",
   "name": "python3"
  },
  "language_info": {
   "codemirror_mode": {
    "name": "ipython",
    "version": 3
   },
   "file_extension": ".py",
   "mimetype": "text/x-python",
   "name": "python",
   "nbconvert_exporter": "python",
   "pygments_lexer": "ipython3",
   "version": "3.8.8"
  }
 },
 "nbformat": 4,
 "nbformat_minor": 5
}
