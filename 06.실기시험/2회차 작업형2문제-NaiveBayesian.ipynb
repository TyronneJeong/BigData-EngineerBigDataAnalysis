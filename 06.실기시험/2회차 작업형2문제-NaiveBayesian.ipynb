{
 "cells": [
  {
   "cell_type": "markdown",
   "id": "d8842974",
   "metadata": {},
   "source": [
    "## 전자상거래 배송 데이터\n",
    "\n",
    "### 제품 배송 시간에 맞춰 배송되었는지 예측모델 만들기\n",
    "학습용 데이터 (X_train, y_train)을 이용하여 배송 예측 모형을 만든 후, 이를 평가용 데이터(X_test)에 적용하여 얻은 예측값을 다음과 같은 형식의 CSV파일로 생성하시오(제출한 모델의 성능은 ROC-AUC 평가지표에 따라 채점)\n",
    "\n",
    "![](./extrafiles/exam02.png)\n",
    "\n",
    "[시험용 데이터셋 만들기] \n",
    "코드는 예시문제와 동일한 형태의 X_train, y_train, X_test 데이터를 만들기 위함임\n",
    "\n",
    "(유의사항)\n",
    "\n",
    "성능이 우수한 예측모형을 구축하기 위해서는 적절한 데이터 전처리, 피처엔지니어링,   \n",
    "분류알고리즘, 하이퍼파라미터 튜닝, 모형 앙상블 등이 수반되어야 한다.   \n",
    "수험번호.csv파일이 만들어지도록 코드를 제출한다.\n",
    "제출한 모델의 성능은 ROC-AUC형태로 읽어드린다."
   ]
  },
  {
   "cell_type": "markdown",
   "id": "4a27cab3",
   "metadata": {},
   "source": [
    "## 분류모형\n",
    "확률적 모형\n",
    "- 확률적 생성 모형 : LDA, QDA, 나이브 베이지안\n",
    "- 확률적 판별 모형 : 로지스틱회귀, 의사결정나무\n",
    "\n",
    "판별함수모형\n",
    "- 인공신경망\n",
    "- **커널SVM**\n",
    "- 퍼셉트론\n"
   ]
  },
  {
   "cell_type": "code",
   "execution_count": null,
   "id": "b65ecf4d",
   "metadata": {},
   "outputs": [],
   "source": [
    "import warnings\n",
    "warnings.filterwarnings(\"ignore\")\n",
    "import pandas as pd\n",
    "import numpy as np\n",
    "\n",
    "pd.set_option(\"display.max_columns\", 20)\n",
    "pd.set_option(\"display.max_rows\", 20)\n",
    "pd.set_option(\"display.width\", 2000)\n",
    "\n",
    "# 라이브러리 및 데이터 불러오기\n",
    "df = pd.read_csv('./extrafiles/Train.csv', engine='python')\n",
    "df"
   ]
  },
  {
   "cell_type": "code",
   "execution_count": null,
   "id": "d808f24d",
   "metadata": {},
   "outputs": [],
   "source": []
  },
  {
   "cell_type": "code",
   "execution_count": null,
   "id": "de58c6eb",
   "metadata": {},
   "outputs": [],
   "source": []
  },
  {
   "cell_type": "code",
   "execution_count": null,
   "id": "39b68dc2",
   "metadata": {},
   "outputs": [],
   "source": []
  }
 ],
 "metadata": {
  "kernelspec": {
   "display_name": "Python 3",
   "language": "python",
   "name": "python3"
  },
  "language_info": {
   "codemirror_mode": {
    "name": "ipython",
    "version": 3
   },
   "file_extension": ".py",
   "mimetype": "text/x-python",
   "name": "python",
   "nbconvert_exporter": "python",
   "pygments_lexer": "ipython3",
   "version": "3.8.8"
  }
 },
 "nbformat": 4,
 "nbformat_minor": 5
}
