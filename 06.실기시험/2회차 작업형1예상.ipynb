{
 "cells": [
  {
   "cell_type": "markdown",
   "id": "1aa8617b",
   "metadata": {},
   "source": [
    "# 혼동 행렬의 개념을 묻는 문제\n",
    "\n",
    "분류가 완료된 데이터를 기준으로\n",
    "\n",
    "- 정밀도 \n",
    "- 정확도\n",
    "- 재현율\n",
    "- F1 Score \n",
    "를 각각 구하시오.\n",
    "\n",
    "또는,\n",
    "- TP, TN, FP, FN 에 해당하는 값이 무엇인지 적으시오."
   ]
  },
  {
   "cell_type": "code",
   "execution_count": 28,
   "id": "e289df76",
   "metadata": {},
   "outputs": [
    {
     "name": "stdout",
     "output_type": "stream",
     "text": [
      "              precision    recall  f1-score   support\n",
      "\n",
      "           0       0.75      0.75      0.75         4\n",
      "           1       0.83      0.83      0.83         6\n",
      "\n",
      "    accuracy                           0.80        10\n",
      "   macro avg       0.79      0.79      0.79        10\n",
      "weighted avg       0.80      0.80      0.80        10\n",
      "\n"
     ]
    }
   ],
   "source": [
    "y = [1, 1, 1, 1, 0, 0, 0, 0, 1, 1]\n",
    "pred = [1, 1, 1, 0, 0, 0, 0, 1, 1, 1]\n",
    "\n",
    "from sklearn.metrics import classification_report\n",
    "print(classification_report(y, pred))"
   ]
  },
  {
   "cell_type": "markdown",
   "id": "66646b99",
   "metadata": {},
   "source": [
    "![혼동행렬](./extrafiles/matrix.png)"
   ]
  },
  {
   "cell_type": "code",
   "execution_count": 30,
   "id": "5e7696dc",
   "metadata": {},
   "outputs": [
    {
     "name": "stdout",
     "output_type": "stream",
     "text": [
      "[[0 2]\n",
      " [0 2]]\n"
     ]
    }
   ],
   "source": [
    "from sklearn.metrics import confusion_matrix\n",
    "print(confusion_matrix([0, 0, 1, 1], [1, 1, 1, 1]))\n",
    "\n",
    "# 실제 정답인 경우 True 가 붙는다.\n",
    "# 예측값명이 뒤에 온다.\n",
    "# True Negative  /  False Positive\n",
    "# False Negative /  True Positive"
   ]
  },
  {
   "cell_type": "code",
   "execution_count": null,
   "id": "6b712ac8",
   "metadata": {},
   "outputs": [],
   "source": [
    "#         네거티브 / 파지티브\n",
    "# False   TN.    / FP\n",
    "# True    FN.    / TP"
   ]
  },
  {
   "cell_type": "code",
   "execution_count": null,
   "id": "af998f35",
   "metadata": {},
   "outputs": [],
   "source": [
    "# TN : 부정 예측이 맞췄다.\n",
    "# FP : 긍정 에측이 틀렸다.\n",
    "# FN : 부정 예측이 틀렸다.\n",
    "# TP : 긍정 예측이 맞췄다.\n",
    "\n",
    "# 정확도 : TN + TP / TP + TN + FP + FN\n",
    "# 정밀도 : TP / TP + FP\n",
    "# 재현율 : TP / TP + FN\n",
    "\n",
    "# 참양성비율(TPR) : TN / TN + FN (일명 : 특이도)\n",
    "# 거짓긍정률(FPR) : FP / FP + TN\n"
   ]
  },
  {
   "cell_type": "code",
   "execution_count": 51,
   "id": "13432d80",
   "metadata": {},
   "outputs": [
    {
     "data": {
      "text/html": [
       "<div>\n",
       "<style scoped>\n",
       "    .dataframe tbody tr th:only-of-type {\n",
       "        vertical-align: middle;\n",
       "    }\n",
       "\n",
       "    .dataframe tbody tr th {\n",
       "        vertical-align: top;\n",
       "    }\n",
       "\n",
       "    .dataframe thead th {\n",
       "        text-align: right;\n",
       "    }\n",
       "</style>\n",
       "<table border=\"1\" class=\"dataframe\">\n",
       "  <thead>\n",
       "    <tr style=\"text-align: right;\">\n",
       "      <th></th>\n",
       "      <th>a</th>\n",
       "      <th>b</th>\n",
       "    </tr>\n",
       "    <tr>\n",
       "      <th>c</th>\n",
       "      <th></th>\n",
       "      <th></th>\n",
       "    </tr>\n",
       "  </thead>\n",
       "  <tbody>\n",
       "    <tr>\n",
       "      <th>1</th>\n",
       "      <td>15</td>\n",
       "      <td>24</td>\n",
       "    </tr>\n",
       "  </tbody>\n",
       "</table>\n",
       "</div>"
      ],
      "text/plain": [
       "    a   b\n",
       "c        \n",
       "1  15  24"
      ]
     },
     "execution_count": 51,
     "metadata": {},
     "output_type": "execute_result"
    }
   ],
   "source": [
    "# 그룹별 합계를 구하시오\n",
    "sample_data = [\n",
    "    {'a':1, 'b':4, 'c':1},\n",
    "    {'a':2, 'b':4, 'c':1},\n",
    "    {'a':3, 'b':5, 'c':1},\n",
    "    {'a':4, 'b':5, 'c':1},\n",
    "    {'a':5, 'b':6, 'c':1},\n",
    "]\n",
    "sample_data\n",
    "df = pd.DataFrame(sample_data)\n",
    "df.groupby(by='c').sum()"
   ]
  },
  {
   "cell_type": "code",
   "execution_count": 45,
   "id": "c59f4ef7",
   "metadata": {},
   "outputs": [
    {
     "data": {
      "text/html": [
       "<div>\n",
       "<style scoped>\n",
       "    .dataframe tbody tr th:only-of-type {\n",
       "        vertical-align: middle;\n",
       "    }\n",
       "\n",
       "    .dataframe tbody tr th {\n",
       "        vertical-align: top;\n",
       "    }\n",
       "\n",
       "    .dataframe thead th {\n",
       "        text-align: right;\n",
       "    }\n",
       "</style>\n",
       "<table border=\"1\" class=\"dataframe\">\n",
       "  <thead>\n",
       "    <tr style=\"text-align: right;\">\n",
       "      <th></th>\n",
       "      <th>index</th>\n",
       "      <th>alpha</th>\n",
       "    </tr>\n",
       "  </thead>\n",
       "  <tbody>\n",
       "    <tr>\n",
       "      <th>4</th>\n",
       "      <td>3</td>\n",
       "      <td>B</td>\n",
       "    </tr>\n",
       "    <tr>\n",
       "      <th>6</th>\n",
       "      <td>5</td>\n",
       "      <td>A</td>\n",
       "    </tr>\n",
       "  </tbody>\n",
       "</table>\n",
       "</div>"
      ],
      "text/plain": [
       "   index alpha\n",
       "4      3     B\n",
       "6      5     A"
      ]
     },
     "execution_count": 45,
     "metadata": {},
     "output_type": "execute_result"
    }
   ],
   "source": [
    "# 중복된 값은 마지막 행만을 선택하여 남기시오.\n",
    "import pandas as pd\n",
    "exam_data = {\n",
    "    'index':[1, 2, 2, 3, 3, 4, 5],\n",
    "    'alpha':['A', 'B', 'B', 'B', 'B', 'A', 'A']\n",
    "}\n",
    "exam_data\n",
    "\n",
    "df = pd.DataFrame(exam_data)\n",
    "df.drop_duplicates()\n",
    "df.drop_duplicates(['alpha'], keep='last')"
   ]
  },
  {
   "cell_type": "code",
   "execution_count": null,
   "id": "a4c24574",
   "metadata": {},
   "outputs": [],
   "source": []
  }
 ],
 "metadata": {
  "kernelspec": {
   "display_name": "Python 3 (ipykernel)",
   "language": "python",
   "name": "python3"
  },
  "language_info": {
   "codemirror_mode": {
    "name": "ipython",
    "version": 3
   },
   "file_extension": ".py",
   "mimetype": "text/x-python",
   "name": "python",
   "nbconvert_exporter": "python",
   "pygments_lexer": "ipython3",
   "version": "3.9.7"
  }
 },
 "nbformat": 4,
 "nbformat_minor": 5
}
