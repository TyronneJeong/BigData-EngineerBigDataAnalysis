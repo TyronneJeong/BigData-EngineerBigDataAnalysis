{
 "cells": [
  {
   "cell_type": "markdown",
   "id": "1aa8617b",
   "metadata": {},
   "source": [
    "# 혼동 행렬의 개념을 묻는 문제\n",
    "\n",
    "분류가 완료된 데이터를 기준으로\n",
    "\n",
    "- 정밀도 \n",
    "- 정확도\n",
    "- 재현율\n",
    "- F1 Score \n",
    "를 각각 구하시오.\n",
    "\n",
    "또는,\n",
    "- TP, TN, FP, FN 에 해당하는 값이 무엇인지 적으시오."
   ]
  },
  {
   "cell_type": "code",
   "execution_count": 1,
   "id": "13432d80",
   "metadata": {},
   "outputs": [
    {
     "ename": "SyntaxError",
     "evalue": "invalid syntax (2810417943.py, line 1)",
     "output_type": "error",
     "traceback": [
      "\u001b[0;36m  File \u001b[0;32m\"/var/folders/pj/w_9tqcp92kg4bnl4j95k0n840000gn/T/ipykernel_1799/2810417943.py\"\u001b[0;36m, line \u001b[0;32m1\u001b[0m\n\u001b[0;31m    그룹별 합계를 구하시오\u001b[0m\n\u001b[0m        ^\u001b[0m\n\u001b[0;31mSyntaxError\u001b[0m\u001b[0;31m:\u001b[0m invalid syntax\n"
     ]
    }
   ],
   "source": [
    "그룹별 합계를 구하시오\n"
   ]
  },
  {
   "cell_type": "code",
   "execution_count": null,
   "id": "c59f4ef7",
   "metadata": {},
   "outputs": [],
   "source": [
    "중복된 값을 제거 하시오."
   ]
  }
 ],
 "metadata": {
  "kernelspec": {
   "display_name": "Python 3 (ipykernel)",
   "language": "python",
   "name": "python3"
  },
  "language_info": {
   "codemirror_mode": {
    "name": "ipython",
    "version": 3
   },
   "file_extension": ".py",
   "mimetype": "text/x-python",
   "name": "python",
   "nbconvert_exporter": "python",
   "pygments_lexer": "ipython3",
   "version": "3.8.10"
  }
 },
 "nbformat": 4,
 "nbformat_minor": 5
}
