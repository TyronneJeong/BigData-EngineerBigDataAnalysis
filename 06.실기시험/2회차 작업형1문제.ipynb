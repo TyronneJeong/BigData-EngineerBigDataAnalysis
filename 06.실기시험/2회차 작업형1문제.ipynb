{
 "cells": [
  {
   "cell_type": "markdown",
   "metadata": {},
   "source": [
    "## 강의 영상 : https://youtu.be/Jh3rJaZlEg0"
   ]
  },
  {
   "cell_type": "markdown",
   "metadata": {
    "_cell_guid": "af4252ad-f822-45d3-b9c2-f26af7608ef4",
    "_uuid": "de34d146-4c69-4b7c-82f6-11d6287f6094",
    "execution": {
     "iopub.execute_input": "2021-10-07T06:47:44.152391Z",
     "iopub.status.busy": "2021-10-07T06:47:44.152048Z",
     "iopub.status.idle": "2021-10-07T06:47:44.18282Z",
     "shell.execute_reply": "2021-10-07T06:47:44.182194Z",
     "shell.execute_reply.started": "2021-10-07T06:47:44.152311Z"
    },
    "jupyter": {
     "outputs_hidden": false
    }
   },
   "source": [
    "## 문제1\n",
    "- 데이터셋(basic1.csv)의 'f5' 컬럼을 기준으로 상위 10개의 데이터를 구하고,\n",
    "- 'f5'컬럼 10개 중 최소값으로 데이터를 대체한 후, \n",
    "- 'age'컬럼에서 80 이상인 데이터의'f5 컬럼 평균값 구하기"
   ]
  },
  {
   "cell_type": "code",
   "execution_count": 1,
   "metadata": {
    "execution": {
     "iopub.execute_input": "2021-11-21T04:26:19.969388Z",
     "iopub.status.busy": "2021-11-21T04:26:19.968987Z",
     "iopub.status.idle": "2021-11-21T04:26:20.036593Z",
     "shell.execute_reply": "2021-11-21T04:26:20.035389Z",
     "shell.execute_reply.started": "2021-11-21T04:26:19.969299Z"
    }
   },
   "outputs": [],
   "source": [
    "# 라이브러리 및 데이터 불러오기\n",
    "import pandas as pd\n",
    "\n",
    "df = pd.read_csv('../input/bigdatacertificationkr/basic1.csv')\n",
    "df.head()"
   ]
  },
  {
   "cell_type": "code",
   "execution_count": 27,
   "metadata": {
    "execution": {
     "iopub.execute_input": "2021-11-21T04:36:52.622345Z",
     "iopub.status.busy": "2021-11-21T04:36:52.621345Z",
     "iopub.status.idle": "2021-11-21T04:36:52.635688Z",
     "shell.execute_reply": "2021-11-21T04:36:52.634386Z",
     "shell.execute_reply.started": "2021-11-21T04:36:52.622299Z"
    }
   },
   "outputs": [],
   "source": [
    "import warnings\n",
    "warnings.filterwarnings('ignore')\n",
    "\n",
    "data = df.copy()\n",
    "data.sort_values(by='f5', ascending=False, inplace=True)\n",
    "\n",
    "data['f5'][:10] = data['f5'][:10].min()\n",
    "\n",
    "data2 = data[['age', 'f5']][data['age']>=80]\n",
    "print(data2['f5'].mean())"
   ]
  },
  {
   "cell_type": "code",
   "execution_count": null,
   "metadata": {},
   "outputs": [],
   "source": []
  },
  {
   "cell_type": "markdown",
   "metadata": {},
   "source": [
    "## 문제2\n",
    "- 데이터셋(basic1.csv)의 앞에서 순서대로 70% 데이터만 활용해서,\n",
    "- 'f1'컬럼 결측치를 중앙값으로 채우기 전후의 표준편차를 구하고\n",
    "- 두 표준편차 차이 계산하기"
   ]
  },
  {
   "cell_type": "code",
   "execution_count": 53,
   "metadata": {
    "execution": {
     "iopub.execute_input": "2021-11-21T04:43:54.844472Z",
     "iopub.status.busy": "2021-11-21T04:43:54.843760Z",
     "iopub.status.idle": "2021-11-21T04:43:54.853800Z",
     "shell.execute_reply": "2021-11-21T04:43:54.853152Z",
     "shell.execute_reply.started": "2021-11-21T04:43:54.844418Z"
    }
   },
   "outputs": [],
   "source": [
    "# 라이브러리 및 데이터 불러오기\n",
    "import pandas as pd\n",
    "import numpy as np\n",
    "\n",
    "df = pd.read_csv('../input/bigdatacertificationkr/basic1.csv')"
   ]
  },
  {
   "cell_type": "code",
   "execution_count": 52,
   "metadata": {
    "execution": {
     "iopub.execute_input": "2021-11-21T04:43:45.764359Z",
     "iopub.status.busy": "2021-11-21T04:43:45.763594Z",
     "iopub.status.idle": "2021-11-21T04:43:45.771887Z",
     "shell.execute_reply": "2021-11-21T04:43:45.771242Z",
     "shell.execute_reply.started": "2021-11-21T04:43:45.764323Z"
    }
   },
   "outputs": [],
   "source": [
    "df70_bef = df[:70]\n",
    "bef_std = df70_bef['f1'].std()\n",
    "df70_aft = df70_bef.fillna(df70_bef['f1'].median())\n",
    "aft_std = df70_aft['f1'].std()\n",
    "\n",
    "print(bef_std - aft_std)"
   ]
  },
  {
   "cell_type": "code",
   "execution_count": null,
   "metadata": {},
   "outputs": [],
   "source": []
  },
  {
   "cell_type": "markdown",
   "metadata": {},
   "source": [
    "## 문제3\n",
    "- 데이터셋(basic1.csv)의 'age'컬럼의 이상치를 더하시오!\n",
    "- 단, 평균으로부터 '표준편차*1.5'를 벗어나는 영역을 이상치라고 판단함"
   ]
  },
  {
   "cell_type": "code",
   "execution_count": 60,
   "metadata": {
    "execution": {
     "iopub.execute_input": "2021-11-21T05:21:13.100133Z",
     "iopub.status.busy": "2021-11-21T05:21:13.099577Z",
     "iopub.status.idle": "2021-11-21T05:21:13.114345Z",
     "shell.execute_reply": "2021-11-21T05:21:13.113367Z",
     "shell.execute_reply.started": "2021-11-21T05:21:13.100087Z"
    }
   },
   "outputs": [],
   "source": [
    "# 라이브러리 및 데이터 불러오기\n",
    "import pandas as pd\n",
    "import numpy as np\n",
    "\n",
    "df = pd.read_csv('../input/bigdatacertificationkr/basic1.csv')"
   ]
  },
  {
   "cell_type": "code",
   "execution_count": 70,
   "metadata": {
    "execution": {
     "iopub.execute_input": "2021-11-21T05:25:38.914824Z",
     "iopub.status.busy": "2021-11-21T05:25:38.914439Z",
     "iopub.status.idle": "2021-11-21T05:25:38.927732Z",
     "shell.execute_reply": "2021-11-21T05:25:38.926479Z",
     "shell.execute_reply.started": "2021-11-21T05:25:38.914777Z"
    }
   },
   "outputs": [],
   "source": [
    "out_min = df['age'].mean() - df['age'].std()*1.5\n",
    "out_max = df['age'].mean() + df['age'].std()*1.5\n",
    "print(out_min, out_max)\n",
    "df_filtered = df['age'][(df['age'] < out_min) |\n",
    "                        (df['age'] > out_max) ]\n",
    "df_filtered.sum()"
   ]
  },
  {
   "cell_type": "code",
   "execution_count": null,
   "metadata": {},
   "outputs": [],
   "source": []
  }
 ],
 "metadata": {
  "kernelspec": {
   "display_name": "Python 3",
   "language": "python",
   "name": "python3"
  },
  "language_info": {
   "codemirror_mode": {
    "name": "ipython",
    "version": 3
   },
   "file_extension": ".py",
   "mimetype": "text/x-python",
   "name": "python",
   "nbconvert_exporter": "python",
   "pygments_lexer": "ipython3",
   "version": "3.8.8"
  }
 },
 "nbformat": 4,
 "nbformat_minor": 4
}
