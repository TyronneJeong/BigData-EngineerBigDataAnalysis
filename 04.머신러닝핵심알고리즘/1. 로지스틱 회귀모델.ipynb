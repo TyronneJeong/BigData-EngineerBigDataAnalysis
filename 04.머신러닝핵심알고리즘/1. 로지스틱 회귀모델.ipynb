{
 "cells": [
  {
   "cell_type": "markdown",
   "id": "a7fdbcd6",
   "metadata": {},
   "source": [
    "# 1. 로지스틱 회귀모델\n",
    "\n",
    "\n",
    "## 1.1 핵심개념\n",
    "\n",
    "**로지스틱 회귀분석은 종속 변수가 범주형 자료일 경우 이용하는 회귀 모델**입니다. \n",
    "종속변수가 범주형일경우 로지스틱 회귀 모델을 적용해보면 일정간 로그곡선이 그려지며 특정 경향성을 띄게 되는데 이를 로지스틱 곡선(Logistic Curve)이라고 부릅니다.\n"
   ]
  },
  {
   "cell_type": "code",
   "execution_count": null,
   "id": "6bcb599c",
   "metadata": {},
   "outputs": [],
   "source": []
  }
 ],
 "metadata": {
  "kernelspec": {
   "display_name": "Python 3",
   "language": "python",
   "name": "python3"
  },
  "language_info": {
   "codemirror_mode": {
    "name": "ipython",
    "version": 3
   },
   "file_extension": ".py",
   "mimetype": "text/x-python",
   "name": "python",
   "nbconvert_exporter": "python",
   "pygments_lexer": "ipython3",
   "version": "3.8.8"
  }
 },
 "nbformat": 4,
 "nbformat_minor": 5
}
