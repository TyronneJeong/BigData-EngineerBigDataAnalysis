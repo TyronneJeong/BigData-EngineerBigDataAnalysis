{
 "cells": [
  {
   "cell_type": "markdown",
   "id": "fb55a53e",
   "metadata": {},
   "source": [
    "# 10. 앙상블 부스팅(Boosting)\n",
    "\n",
    "## 10.1 핵심 개념\n",
    "\n",
    "**부스팅은 여러개의 약 학습기(weak leaner)를 순차적으로 학습시켜 잘못 예측한 데이터에 가중치를 증가시켜 점진적으로 개선해 나가며 학습하는 앙상블 기법**입니다. 앞서 살펴본 <u>배깅의 경우 여러 데이터셋에서 학습한 결과를 종합하는 병렬식이였다면, 부스팅은 아서 학습한 결과를 두번째 학습에서 수정하고, 세번째 모델에서 또 수정하는등은 순차적 직렬방식의 앙상블</u>이라고 할 수 있습니다.\n",
    "\n",
    "![배깅과부스팅](./extrafiles/boosting.png)"
   ]
  },
  {
   "cell_type": "markdown",
   "id": "2260db5f",
   "metadata": {},
   "source": [
    "## 10.2 scikit-learn\n",
    "\n",
    "부스팅은 sklearn.ensemble 패키지에 속해 있습니다. 부스팅 메소드로는 AdaBoosting, GradientBoosting 을 지원하고 있습니다.\n",
    "\n",
    "\n",
    "|sklearn.ensemble|Ensemble Methods|\n",
    "|:--|:--|\n",
    "|**skleanr.ensemble.AdaBoostClassifier()** |An AdaBoost classifier. |\n",
    "|**skleanr.ensemble.AdaBoostRegressor()** |An AdaBoost regressor. |\n",
    "|skleanr.ensemble.BaggingClassifier() |A Bagging classifier. |\n",
    "|skleanr.ensemble.BaggingRegressor() |A Bagging regressor. |\n",
    "|skleanr.ensemble.ExtraTreeClassifier() |An extra-tree classifier. |\n",
    "|skleanr.ensemble.ExtraTreeRegressor() |An extra-tree regressor. |\n",
    "|**skleanr.ensemble.GradientBoostingClassifier()** |Gradient Boosting for classification. |\n",
    "|**skleanr.ensemble.GradientBoostingRegressor()** |Gradient Boosting for regressor.|\n",
    "|skleanr.ensemble.IsolationForest() |Isolation Forest Algorithm. |\n",
    "\n",
    "### 가. AdaBoosting\n",
    "\n",
    "AdaBoosting 에서 **분류 알고리즘으로는 AdaBoostingClassifier 와 회귀분석 알고리즘으로 AdaBoostingRegressor** 가 있습니다. 두 방식의 기본 옵션은 동일하여 **base_estimator 와 n_estiator 가 하이퍼파라미터** 입니다.\n",
    "\n",
    "\n",
    "### 나. GradientBoosting\n",
    "\n",
    "GradientBoosting 에서 분류 알고리즘으로는 GradientBoostingClassifier 와 회귀분석 알고리즘으로 GradientBoostingRegressor 가 있습니다. 두 방식의 기본 옵션은 동일하며, Gradient 알고리즘 방식은 학습율(learning_rate)를 설정하여 오차(loss)를 줄이는 방향으로 알고리즘이 진행되기에 옵션 설정이 다고 복잡합니다."
   ]
  },
  {
   "cell_type": "markdown",
   "id": "17d2865d",
   "metadata": {},
   "source": [
    "## 10.3 분석 코드\n",
    "\n",
    "### Part1. 분류(Classification)\n"
   ]
  },
  {
   "cell_type": "code",
   "execution_count": null,
   "id": "a1194c03",
   "metadata": {},
   "outputs": [],
   "source": []
  }
 ],
 "metadata": {
  "kernelspec": {
   "display_name": "Python 3",
   "language": "python",
   "name": "python3"
  },
  "language_info": {
   "codemirror_mode": {
    "name": "ipython",
    "version": 3
   },
   "file_extension": ".py",
   "mimetype": "text/x-python",
   "name": "python",
   "nbconvert_exporter": "python",
   "pygments_lexer": "ipython3",
   "version": "3.8.8"
  }
 },
 "nbformat": 4,
 "nbformat_minor": 5
}
