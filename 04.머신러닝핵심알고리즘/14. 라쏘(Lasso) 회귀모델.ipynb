{
 "cells": [
  {
   "cell_type": "markdown",
   "id": "b4cf68f4",
   "metadata": {},
   "source": [
    "# 14. 라쏘(Lasso) 회귀모델\n",
    "\n",
    "## 14.1 핵심 개념\n",
    "\n",
    "라쏘(Lasso) 회귀모델은 릿지 모델과 유사하게 특성의 계수값을 0에 가깝게 하지만 실제 중요하지 않은 변수의 계수를 0으로 만들어 제거하는 모델입니다."
   ]
  },
  {
   "cell_type": "markdown",
   "id": "af62af39",
   "metadata": {},
   "source": [
    "## 14.2 scikit-learn\n",
    "\n",
    "라쏘(Lasso) 회귀모델은 sklearn.linear_model 패키지에 속해 있습니다.\n",
    "\n",
    "|Regressor with variable selection||\n",
    "|:--|:--|\n",
    "|linear_model.ElasticNet() |Linear regression with combined L1 and L2 prioes as regularizer. |\n",
    "|linear_model.ElasticNetCV() |Elastic Net model with iterative fitting along a regularization path. |\n",
    "|linear_model.Lars() |Least Angle Regression model a.k.a|\n",
    "|linear_model.LarsCV() |Cross-validated Least Angle Regression model. |\n",
    "|**linear_model.Lasso()** |Linear Model trained with L1 priot as regularizer (aka the Lasso) |\n",
    "|linear_model.LassoCV() |Lasso linear model with iterative fitting along a regularization path. |\n",
    "|linear_model.LassoLars() |Lasso model fit with Least Angle Regression a.k.a |\n",
    "|linear_model.LassoLarsCV() |Cross-validated Lasso, using the LARS algorithm.|\n",
    "|linear_model.LassoLarsIC() |Lasso model fit with Lars using BIC or AIC for model selection|\n",
    "|linear_model.OrthogonalMatchingPursuit() |Orthogonal Matching Pursuit model (OMP)|\n",
    "|linear_model.OrthogonalMatchingPursuitCV() |Cross-validated Orthogonal Matching Pursuit model (OMP)|\n",
    "\n",
    "하이퍼 파라미터로 alpha 값이 있습니다.\n",
    "\n",
    "\n",
    "|Hyper Parameter||\n",
    "|:--|:--|\n",
    "|alpha |규제의 개수를 지정하는 옵션 값. 기본값은 1이며, 0에 가까울수록 규제가 적어져 선형회귀와 유사한 결과를 보이게 됩니다.|"
   ]
  },
  {
   "cell_type": "markdown",
   "id": "c4376053",
   "metadata": {},
   "source": [
    "# 14.3 분석 코드"
   ]
  },
  {
   "cell_type": "code",
   "execution_count": 2,
   "id": "f8ba71ac",
   "metadata": {},
   "outputs": [
    {
     "name": "stdout",
     "output_type": "stream",
     "text": [
      "Index(['housing_age', 'income', 'bedrooms', 'households', 'rooms',\n",
      "       'house_value'],\n",
      "      dtype='object')\n",
      "Index(['income', 'bedrooms', 'households', 'rooms'], dtype='object')\n",
      "house_value    189260.967812\n",
      "dtype: float64\n",
      "house_value    188391.001357\n",
      "dtype: float64\n"
     ]
    }
   ],
   "source": [
    "# 데이터 로드\n",
    "import pandas as pd\n",
    "data2 = pd.read_csv('./extrafiles/house_price.csv', encoding='utf-8')\n",
    "\n",
    "print(data2.columns)\n",
    "\n",
    "X = data2[data2.columns[1:5]]\n",
    "y = data2[['house_value']]\n",
    "\n",
    "print(X.columns)\n",
    "\n",
    "# train-test data 분리\n",
    "from sklearn.model_selection import train_test_split\n",
    "X_train, X_test, y_train, y_test = train_test_split(X, y, random_state=42)\n",
    "\n",
    "# stratify 효과 - 범주형 변수를 유사한 비율로 train / test 데이터로 분리시켜 준다.\n",
    "print(y_train.mean())\n",
    "print(y_test.mean())\n",
    "\n",
    "# 표준화 작업 - MinMaxScaler\n",
    "from sklearn.preprocessing import MinMaxScaler\n",
    "scaler = MinMaxScaler()\n",
    "scaler.fit(X_train)\n",
    "\n",
    "X_scaled_train = scaler.transform(X_train)\n",
    "X_scaled_test = scaler.transform(X_test)"
   ]
  },
  {
   "cell_type": "code",
   "execution_count": 3,
   "id": "dc82d6a8",
   "metadata": {},
   "outputs": [
    {
     "data": {
      "text/plain": [
       "0.5455724679313863"
      ]
     },
     "execution_count": 3,
     "metadata": {},
     "output_type": "execute_result"
    }
   ],
   "source": [
    "# Lasso 모델 적용\n",
    "from sklearn.linear_model import Lasso\n",
    "model=Lasso()\n",
    "model.fit(X_scaled_train, y_train)\n",
    "pred_train = model.predict(X_scaled_train)\n",
    "model.score(X_scaled_train, y_train)"
   ]
  },
  {
   "cell_type": "code",
   "execution_count": 4,
   "id": "796c4e97",
   "metadata": {},
   "outputs": [
    {
     "data": {
      "text/plain": [
       "0.5626850497564577"
      ]
     },
     "execution_count": 4,
     "metadata": {},
     "output_type": "execute_result"
    }
   ],
   "source": [
    "# 테스트 데이터 모델 적용\n",
    "pred_test = model.predict(X_scaled_test)\n",
    "model.score(X_scaled_test, y_test)"
   ]
  },
  {
   "cell_type": "code",
   "execution_count": 5,
   "id": "2f519765",
   "metadata": {},
   "outputs": [
    {
     "name": "stdout",
     "output_type": "stream",
     "text": [
      "훈  련데이터 RMSE: 64340.34152172676\n",
      "테스트데이터 RMSE: 63220.748913873045\n"
     ]
    }
   ],
   "source": [
    "# 회귀분석의 지표 R Square n RMSE\n",
    "# RMSE (Root Mean Squared Error)\n",
    "from sklearn.metrics import mean_squared_error\n",
    "import numpy as np\n",
    "MSE_train = mean_squared_error(y_train, pred_train)\n",
    "MSE_test = mean_squared_error(y_test, pred_test)\n",
    "print(\"훈  련데이터 RMSE:\", np.sqrt(MSE_train))\n",
    "print(\"테스트데이터 RMSE:\", np.sqrt(MSE_test))"
   ]
  },
  {
   "cell_type": "code",
   "execution_count": 7,
   "id": "ec97d110",
   "metadata": {},
   "outputs": [
    {
     "data": {
      "text/plain": [
       "GridSearchCV(cv=5, estimator=Lasso(),\n",
       "             param_grid={'alpha': [0.0, 1e-06, 1e-05, 0.0001, 0.001, 0.01, 0.1,\n",
       "                                   0.5, 1, 2, 3]})"
      ]
     },
     "execution_count": 7,
     "metadata": {},
     "output_type": "execute_result"
    }
   ],
   "source": [
    "# 경고레벨조정\n",
    "import warnings\n",
    "warnings.filterwarnings(\"ignore\")\n",
    "\n",
    "# 하이퍼 파라미터 튜닝 - Grid Search\n",
    "from sklearn.model_selection import GridSearchCV\n",
    "param_grid = {'alpha' :[0.0, 1e-6, 1e-5, 1e-4, 1e-3, 1e-2, 0.1, 0.5, 1, 2, 3]}\n",
    "             \n",
    "grid_search = GridSearchCV(Lasso(), param_grid, cv=5)\n",
    "grid_search.fit(X_scaled_train, y_train)"
   ]
  },
  {
   "cell_type": "code",
   "execution_count": 8,
   "id": "24be19e9",
   "metadata": {},
   "outputs": [
    {
     "name": "stdout",
     "output_type": "stream",
     "text": [
      "Best Parameter : {'alpha': 0.5}\n",
      "Best Score : 0.5452\n",
      "Test set Score : 0.5627\n"
     ]
    }
   ],
   "source": [
    "# 파라미터 튜닝 결과 확인\n",
    "print(\"Best Parameter : {}\".format(grid_search.best_params_))\n",
    "print(\"Best Score : {:.4f}\".format(grid_search.best_score_))\n",
    "print(\"Test set Score : {:.4f}\".format(grid_search.score(X_scaled_test, y_test)))"
   ]
  },
  {
   "cell_type": "code",
   "execution_count": 10,
   "id": "aebcf69c",
   "metadata": {},
   "outputs": [
    {
     "data": {
      "text/plain": [
       "RandomizedSearchCV(cv=5, estimator=Lasso(), n_iter=100,\n",
       "                   param_distributions={'alpha': <scipy.stats._distn_infrastructure.rv_frozen object at 0x0000017AEBE181C0>})"
      ]
     },
     "execution_count": 10,
     "metadata": {},
     "output_type": "execute_result"
    }
   ],
   "source": [
    "# 하이퍼 파라미터 튜닝2 - Randomized Search\n",
    "from sklearn.model_selection import RandomizedSearchCV\n",
    "from scipy.stats import randint\n",
    "\n",
    "param_distribs = {'alpha' :randint(low=0.00001, high=100)}\n",
    "\n",
    "random_search = RandomizedSearchCV(Lasso(), param_distributions=param_distribs, n_iter=100, cv=5)\n",
    "random_search.fit(X_scaled_train, y_train)"
   ]
  },
  {
   "cell_type": "code",
   "execution_count": 11,
   "id": "3391e11f",
   "metadata": {},
   "outputs": [
    {
     "name": "stdout",
     "output_type": "stream",
     "text": [
      "Best Parameter : {'alpha': 0}\n",
      "Best Score : 0.5452\n",
      "Test set Score : 0.5627\n"
     ]
    }
   ],
   "source": [
    "# 파라미터 튜닝 결과값 확인\n",
    "print(\"Best Parameter : {}\".format(random_search.best_params_))\n",
    "print(\"Best Score : {:.4f}\".format(random_search.best_score_))\n",
    "print(\"Test set Score : {:.4f}\".format(random_search.score(X_scaled_test, y_test)))"
   ]
  },
  {
   "cell_type": "code",
   "execution_count": null,
   "id": "41752e5b",
   "metadata": {},
   "outputs": [],
   "source": []
  }
 ],
 "metadata": {
  "kernelspec": {
   "display_name": "Python 3",
   "language": "python",
   "name": "python3"
  },
  "language_info": {
   "codemirror_mode": {
    "name": "ipython",
    "version": 3
   },
   "file_extension": ".py",
   "mimetype": "text/x-python",
   "name": "python",
   "nbconvert_exporter": "python",
   "pygments_lexer": "ipython3",
   "version": "3.8.8"
  }
 },
 "nbformat": 4,
 "nbformat_minor": 5
}
