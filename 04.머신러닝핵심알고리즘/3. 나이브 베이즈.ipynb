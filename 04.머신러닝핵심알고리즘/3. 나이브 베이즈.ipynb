{
 "cells": [
  {
   "cell_type": "markdown",
   "id": "fe3b297b",
   "metadata": {},
   "source": [
    "# 3. 나이브 베이즈\n",
    "\n",
    "## 3.1 핵심 개념\n",
    "\n",
    "**나이브베이즈란 사건 B가 주어졌을때 사건 A가 일어날 확률인 P(A|B) 인 조건부 확률과 베이즈 정리를 이용한 알고리즘** 이다. <u>나이브(Naive)란 예측에 사용되는 특성치(X)가 상호 독립적이라는 가정하에 확률을 계산한다는 순진한 가정을 전제로 진행한다는 의미에서 붙여진 이름</u>입니다.\n",
    "\n",
    "즉, 모든 특성치들이 레이블을 분류 혹은 예측하는데에 동득한 역할을 한다는 의미입니다.(다중공선성이 없다는 가정) 또한 베이즈는 특성치가 클래스 전체의 확률 분포에 대비하여 특정 클래스에 속할 확률을 베이즈 정리를 기반으로 계산한 것입니다. ???"
   ]
  },
  {
   "cell_type": "markdown",
   "id": "1a9f7d46",
   "metadata": {},
   "source": [
    "## 3.2 scikit-learn\n",
    "\n",
    "나이브 베이즈는 sklearn.naive_bayes 패키지에 속해 있습니다.\n",
    "\n",
    "그 중 **분류 문제에서는 가우시안 나이브베이즈 알고리즘을 주로 사용**합니다. <u>가우시안은 가우스 분포, 즉, 정규분포상에서 발생확률을 계산하기 때문에 붙여진 이름</u>입니다. 이 가우시안 나이브베이즈는 연속형 자료일 경우 발생확률을 정규분포상에서 확률(likelyhood:우도)을 구해서 계산하게 됩니다.\n",
    "\n",
    "|sklearn.naive_bayes|NaiveBayes|\n",
    "|:--|:--|\n",
    "|sklearn.naive_bayes.BernoulliNB() |Naive Bayes classifier for multivariate Bernoulli models.|\n",
    "|sklearn.naive_bayes.CategoricalNB() |Naive Bayes classifier for categorical features|\n",
    "|sklearn.naive_bayes.ComplementNB() |The Complement Naive Bayes classifier described in Rennie et al|\n",
    "|sklearn.naive_bayes.GaussianNB() |Gaussian Naive Bayes (GaussianNB)|\n",
    "|sklearn.naive_bayes.MultinomialNB() |Naive Bayes classifier for multinomial models|\n",
    "\n",
    "GaussianNB의 주요 하이퍼파라미터는 var_smoothing 입니다.\n",
    "\n",
    "**라플라스 스무딩**  \n",
    "라플라스 스무딩이란 ? 나이브베이즈 분류에서 특정 케이스를 만족하는 대상을 클래스로 분류시키고자 하였을때, 그 분류기준을 100% 만족하지 않더라도 대상 표본의 일정 값을 더하여 우도가 0이 되는걸 방지하는 기법. 가령 훈련 데이터에 없던 케이스이거나 이상값이 들어올지라도 매칭 케이스를 찾을 수 있도록 하는 변조 값.\n",
    "\n",
    "|Hyper Parameter||\n",
    "|:--|:--|\n",
    "|var_smoothing|디폴드 값으로 0.00000001 이다. 안정적인 연산을 위해 분산에 더해지는 모든 특성치의 최대 분산 비율이 권장된다.|\n",
    "\n",
    "\n",
    "※ **회귀문제에서는 나이브 베이즈 알고리즘이 잘 맞지는 않다.** 이보다는 linear_model 패키지에 있는 Baysian regressor 를 활용하는것이 회귀 문제에서는 보다 좋은 선택이다.\n",
    "\n",
    "\n",
    "|sklearn.linear_model|Linear Models|\n",
    "|:--|:--|\n",
    "|Bayesian regressors||\n",
    "|linear_model.ARDRegression() |Bayesian ARD regression|\n",
    "|linear_model.BayesianRidge() |Bayesian ridge regression.|\n",
    "\n",
    "<br/>\n",
    "<br/>\n",
    "BayesianRidge 모델의 하이퍼 파라미터는 alpha_1 과 lambda_1 가 있습니다.\n",
    "\n",
    "|Hyper Parameter||\n",
    "|--:|:--|\n",
    "|alpha_1|기본값 1e-6. 감마분포의 alpha 파라미터 사전 설정 값|\n",
    "|lambda_1|기본값 1e-6. 감마분포의 lambda 파라미터 사전 설정 값|"
   ]
  },
  {
   "cell_type": "markdown",
   "id": "61ecb9de",
   "metadata": {},
   "source": [
    "## 3.3 분석 코드\n",
    "\n",
    "### Part1. 분류(Classification)"
   ]
  },
  {
   "cell_type": "code",
   "execution_count": 2,
   "id": "f0d487bf",
   "metadata": {},
   "outputs": [
    {
     "name": "stdout",
     "output_type": "stream",
     "text": [
      "Index(['code', 'Clump_Thickness', 'Cell_Size', 'Cell_Shape',\n",
      "       'Marginal_Adhesion', 'Single_Epithelial_Cell_Size', 'Bare_Nuclei',\n",
      "       'Bland_Chromatin', 'Normal_Nucleoli', 'Mitoses', 'Class'],\n",
      "      dtype='object')\n",
      "Class    0.349609\n",
      "dtype: float64\n",
      "Class    0.350877\n",
      "dtype: float64\n"
     ]
    }
   ],
   "source": [
    "# 경고레벨조정\n",
    "import warnings\n",
    "warnings.filterwarnings(\"ignore\")\n",
    "\n",
    "# 데이터 로드\n",
    "import pandas as pd\n",
    "data = pd.read_csv(\"./extrafiles/breast-cancer-wisconsin.csv\", encoding='utf-8')\n",
    "\n",
    "# 컬럼정보 확인\n",
    "print(data.columns)\n",
    "\n",
    "# 독립변수/ 종속변수 분리\n",
    "X = data[['code', 'Clump_Thickness', 'Cell_Size', 'Cell_Shape',\n",
    "       'Marginal_Adhesion', 'Single_Epithelial_Cell_Size', 'Bare_Nuclei',\n",
    "       'Bland_Chromatin', 'Normal_Nucleoli', 'Mitoses']]\n",
    "y = data[['Class']]\n",
    "\n",
    "# train-test data 분리\n",
    "from sklearn.model_selection import train_test_split\n",
    "X_train, X_test, y_train, y_test = train_test_split(X, y, random_state=42, stratify=y)\n",
    "\n",
    "# stratify 효과 - 범주형 변수를 유사한 비율로 train / test 데이터로 분리시켜 준다.\n",
    "print(y_train.mean())\n",
    "print(y_test.mean())\n",
    "\n",
    "# 표준화 작업 - MinMaxScaler\n",
    "from sklearn.preprocessing import MinMaxScaler\n",
    "scaler = MinMaxScaler()\n",
    "scaler.fit(X_train)\n",
    "\n",
    "X_scaled_train = scaler.transform(X_train)\n",
    "X_scaled_test = scaler.transform(X_test)"
   ]
  },
  {
   "cell_type": "code",
   "execution_count": 3,
   "id": "52738b11",
   "metadata": {},
   "outputs": [
    {
     "data": {
      "text/plain": [
       "0.96484375"
      ]
     },
     "execution_count": 3,
     "metadata": {},
     "output_type": "execute_result"
    }
   ],
   "source": [
    "# 가우시안 나이브 베이즈 모델 적용\n",
    "from sklearn.naive_bayes import GaussianNB\n",
    "model = GaussianNB()\n",
    "model.fit(X_scaled_train, y_train)\n",
    "pred_train = model.predict(X_scaled_train)\n",
    "model.score(X_scaled_train, y_train)"
   ]
  },
  {
   "cell_type": "markdown",
   "id": "cfb322c1",
   "metadata": {},
   "source": [
    "**가우시안 나이브 베이즈 모델** 적용시 기본 파라미터 값으로는 96.48%에 달한다."
   ]
  },
  {
   "cell_type": "code",
   "execution_count": 4,
   "id": "c2a2eb99",
   "metadata": {},
   "outputs": [
    {
     "name": "stdout",
     "output_type": "stream",
     "text": [
      "훈련데이터 오차행렬 : \n",
      " [[318  15]\n",
      " [  3 176]]\n"
     ]
    }
   ],
   "source": [
    "# 훈련데이터 혼동행렬 정보 확인\n",
    "from sklearn.metrics import confusion_matrix\n",
    "confusion_train = confusion_matrix(y_train, pred_train)\n",
    "print(\"훈련데이터 오차행렬 : \\n\", confusion_train)"
   ]
  },
  {
   "cell_type": "markdown",
   "id": "77d8c14a",
   "metadata": {},
   "source": [
    "![혼동행렬](./extrafiles/matrix.png)"
   ]
  },
  {
   "cell_type": "code",
   "execution_count": 6,
   "id": "4722b883",
   "metadata": {},
   "outputs": [
    {
     "name": "stdout",
     "output_type": "stream",
     "text": [
      "분류예측 레포트 : \n",
      "               precision    recall  f1-score   support\n",
      "\n",
      "           0       0.99      0.95      0.97       333\n",
      "           1       0.92      0.98      0.95       179\n",
      "\n",
      "    accuracy                           0.96       512\n",
      "   macro avg       0.96      0.97      0.96       512\n",
      "weighted avg       0.97      0.96      0.97       512\n",
      "\n"
     ]
    }
   ],
   "source": [
    "# 훈련데이터 분류 레포트 작성\n",
    "from sklearn.metrics import classification_report\n",
    "cfreport_train = classification_report(y_train, pred_train)\n",
    "print(\"분류예측 레포트 : \\n\", cfreport_train)"
   ]
  },
  {
   "cell_type": "code",
   "execution_count": 7,
   "id": "212e3364",
   "metadata": {},
   "outputs": [
    {
     "data": {
      "text/plain": [
       "0.9590643274853801"
      ]
     },
     "execution_count": 7,
     "metadata": {},
     "output_type": "execute_result"
    }
   ],
   "source": [
    "# 테스트데이터 예측결과 생성\n",
    "pred_test = model.predict(X_scaled_test)\n",
    "model.score(X_scaled_test, y_test)"
   ]
  },
  {
   "cell_type": "code",
   "execution_count": 8,
   "id": "f40ee524",
   "metadata": {},
   "outputs": [
    {
     "name": "stdout",
     "output_type": "stream",
     "text": [
      "테스트데이터 오차행렬 : \n",
      " [[106   5]\n",
      " [  2  58]]\n"
     ]
    }
   ],
   "source": [
    "# 테스트데이터 분류 레포트 작성\n",
    "confusion_test = confusion_matrix(y_test, pred_test)\n",
    "print(\"테스트데이터 오차행렬 : \\n\", confusion_test)"
   ]
  },
  {
   "cell_type": "markdown",
   "id": "a2e7940b",
   "metadata": {},
   "source": [
    "- 훈련용데이터 예측율 : 96.48%\n",
    "- 테스트데이터 예측율 : 95.90%\n"
   ]
  },
  {
   "cell_type": "code",
   "execution_count": 11,
   "id": "6840ae0e",
   "metadata": {},
   "outputs": [
    {
     "name": "stdout",
     "output_type": "stream",
     "text": [
      "분류예측 레포트 : \n",
      "               precision    recall  f1-score   support\n",
      "\n",
      "           0       0.98      0.95      0.97       111\n",
      "           1       0.92      0.97      0.94        60\n",
      "\n",
      "    accuracy                           0.96       171\n",
      "   macro avg       0.95      0.96      0.96       171\n",
      "weighted avg       0.96      0.96      0.96       171\n",
      "\n"
     ]
    }
   ],
   "source": [
    "# 분류예측 레포트 작성\n",
    "cfreport_test = classification_report(y_test, pred_test)\n",
    "print(\"분류예측 레포트 : \\n\", cfreport_test)"
   ]
  },
  {
   "cell_type": "code",
   "execution_count": 14,
   "id": "274df7c8",
   "metadata": {},
   "outputs": [
    {
     "data": {
      "text/plain": [
       "GridSearchCV(cv=5, estimator=GaussianNB(),\n",
       "             param_grid={'var_smoothing': [0, 1, 2, 3, 4, 5, 6, 7, 8, 9, 10]})"
      ]
     },
     "execution_count": 14,
     "metadata": {},
     "output_type": "execute_result"
    }
   ],
   "source": [
    "# 하이퍼 파라미터 튜닝 - Grid Search\n",
    "from sklearn.model_selection import GridSearchCV\n",
    "param_grid = {'var_smoothing':[0, 1, 2, 3, 4, 5, 6, 7, 8, 9, 10]}\n",
    "grid_search = GridSearchCV(GaussianNB(), param_grid, cv=5)\n",
    "grid_search.fit(X_scaled_train, y_train)"
   ]
  },
  {
   "cell_type": "code",
   "execution_count": 15,
   "id": "9e19e2d6",
   "metadata": {},
   "outputs": [
    {
     "name": "stdout",
     "output_type": "stream",
     "text": [
      "Best Parameter : {'var_smoothing': 0}\n",
      "Best Score : 0.9629\n",
      "Test set Score : 0.9591\n"
     ]
    }
   ],
   "source": [
    "# 파라미터 튜닝 결과 확인\n",
    "print(\"Best Parameter : {}\".format(grid_search.best_params_))\n",
    "print(\"Best Score : {:.4f}\".format(grid_search.best_score_))\n",
    "print(\"Test set Score : {:.4f}\".format(grid_search.score(X_scaled_test, y_test)))"
   ]
  },
  {
   "cell_type": "code",
   "execution_count": 17,
   "id": "81d980ab",
   "metadata": {},
   "outputs": [
    {
     "data": {
      "text/plain": [
       "RandomizedSearchCV(cv=5, estimator=GaussianNB(), n_iter=100,\n",
       "                   param_distributions={'var_smoothing': <scipy.stats._distn_infrastructure.rv_frozen object at 0x000001FB93F41B80>})"
      ]
     },
     "execution_count": 17,
     "metadata": {},
     "output_type": "execute_result"
    }
   ],
   "source": [
    "# 하이퍼 파라미터 튜닝2 - Randomized Search\n",
    "from sklearn.model_selection import RandomizedSearchCV\n",
    "from scipy.stats import randint\n",
    "\n",
    "param_distribs = {'var_smoothing':randint(low=0, high=20)}\n",
    "random_search = RandomizedSearchCV(GaussianNB(), param_distributions=param_distribs, n_iter=100, cv=5)\n",
    "random_search.fit(X_scaled_train, y_train)"
   ]
  },
  {
   "cell_type": "code",
   "execution_count": 18,
   "id": "71506b41",
   "metadata": {},
   "outputs": [
    {
     "name": "stdout",
     "output_type": "stream",
     "text": [
      "Best Parameter : {'var_smoothing': 0}\n",
      "Best Score : 0.9629\n",
      "Test set Score : 0.9591\n"
     ]
    }
   ],
   "source": [
    "# 파라미터 튜닝 결과값 확인\n",
    "print(\"Best Parameter : {}\".format(random_search.best_params_))\n",
    "print(\"Best Score : {:.4f}\".format(random_search.best_score_))\n",
    "print(\"Test set Score : {:.4f}\".format(random_search.score(X_scaled_test, y_test)))"
   ]
  },
  {
   "cell_type": "markdown",
   "id": "73955c8c",
   "metadata": {},
   "source": [
    "### Part2. 회귀(Regression)\n",
    "\n",
    "**나이브 베이즈의 회귀모델 알고리즘 이름은 BayesianRidge 이다.**  데이터는 주택가격 파일을 기준으로 진행한다."
   ]
  },
  {
   "cell_type": "code",
   "execution_count": 19,
   "id": "18c97b35",
   "metadata": {},
   "outputs": [
    {
     "name": "stdout",
     "output_type": "stream",
     "text": [
      "Index(['housing_age', 'income', 'bedrooms', 'households', 'rooms',\n",
      "       'house_value'],\n",
      "      dtype='object')\n",
      "Index(['income', 'bedrooms', 'households', 'rooms'], dtype='object')\n",
      "house_value    189260.967812\n",
      "dtype: float64\n",
      "house_value    188391.001357\n",
      "dtype: float64\n"
     ]
    }
   ],
   "source": [
    "# 데이터 로드\n",
    "data2 = pd.read_csv('./extrafiles/house_price.csv', encoding='utf-8')\n",
    "\n",
    "print(data2.columns)\n",
    "\n",
    "X = data2[data2.columns[1:5]]\n",
    "y = data2[['house_value']]\n",
    "\n",
    "print(X.columns)\n",
    "\n",
    "# train-test data 분리\n",
    "from sklearn.model_selection import train_test_split\n",
    "X_train, X_test, y_train, y_test = train_test_split(X, y, random_state=42)\n",
    "\n",
    "# stratify 효과 - 범주형 변수를 유사한 비율로 train / test 데이터로 분리시켜 준다.\n",
    "print(y_train.mean())\n",
    "print(y_test.mean())\n",
    "\n",
    "# 표준화 작업 - MinMaxScaler\n",
    "from sklearn.preprocessing import MinMaxScaler\n",
    "scaler = MinMaxScaler()\n",
    "scaler.fit(X_train)\n",
    "\n",
    "X_scaled_train = scaler.transform(X_train)\n",
    "X_scaled_test = scaler.transform(X_test)"
   ]
  },
  {
   "cell_type": "code",
   "execution_count": 21,
   "id": "922833f3",
   "metadata": {},
   "outputs": [
    {
     "data": {
      "text/plain": [
       "0.5455724466331763"
      ]
     },
     "execution_count": 21,
     "metadata": {},
     "output_type": "execute_result"
    }
   ],
   "source": [
    "# 훈련데이터 베이지안 릿지 적용\n",
    "from sklearn.linear_model import BayesianRidge\n",
    "model = BayesianRidge()\n",
    "model.fit(X_scaled_train, y_train)\n",
    "pred_train = model.predict(X_scaled_train)\n",
    "model.score(X_scaled_train, y_train)"
   ]
  },
  {
   "cell_type": "code",
   "execution_count": 22,
   "id": "20d6bb83",
   "metadata": {},
   "outputs": [
    {
     "data": {
      "text/plain": [
       "0.5626859871488648"
      ]
     },
     "execution_count": 22,
     "metadata": {},
     "output_type": "execute_result"
    }
   ],
   "source": [
    "# 테스트데이터 베이지안 릿지 적용\n",
    "pred_test = model.predict(X_scaled_test)\n",
    "model.score(X_scaled_test, y_test)"
   ]
  },
  {
   "cell_type": "code",
   "execution_count": 23,
   "id": "1bbd03cb",
   "metadata": {},
   "outputs": [
    {
     "name": "stdout",
     "output_type": "stream",
     "text": [
      "훈  련데이터 RMSE :  64340.34302948542\n",
      "테스트데이터 RMSE :  63220.68115643447\n"
     ]
    }
   ],
   "source": [
    "# 연속형 데이터의 성능지표, R-square 와 RMSE\n",
    "import numpy as np\n",
    "from sklearn.metrics import mean_squared_error\n",
    "MSE_train = mean_squared_error(y_train, pred_train)\n",
    "MSE_test = mean_squared_error(y_test, pred_test)\n",
    "\n",
    "print(\"훈  련데이터 RMSE : \", np.sqrt(MSE_train))\n",
    "print(\"테스트데이터 RMSE : \", np.sqrt(MSE_test))"
   ]
  },
  {
   "cell_type": "code",
   "execution_count": 25,
   "id": "3a4330be",
   "metadata": {},
   "outputs": [
    {
     "data": {
      "text/plain": [
       "GridSearchCV(cv=5, estimator=BayesianRidge(),\n",
       "             param_grid={'alpha_1': [1e-06, 1e-05, 0.0001, 0.001, 0.01, 0.1, 1,\n",
       "                                     2, 3, 4],\n",
       "                         'lambda_1': [1e-06, 1e-05, 0.0001, 0.001, 0.01, 0.1, 1,\n",
       "                                      2, 3, 4]})"
      ]
     },
     "execution_count": 25,
     "metadata": {},
     "output_type": "execute_result"
    }
   ],
   "source": [
    "# 하이퍼 파라미터 튜닝 - Grid Search\n",
    "from sklearn.model_selection import GridSearchCV\n",
    "param_grid = {'alpha_1' : [1e-6, 1e-5, 0.0001, 0.001, 0.01, 0.1, 1, 2, 3, 4], 'lambda_1':[1e-06, 1e-05, 0.0001, 0.001, 0.01, 0.1, 1, 2, 3, 4]} # 하이퍼 파라미터 후보들\n",
    "grid_search = GridSearchCV(BayesianRidge(), param_grid, cv=5)\n",
    "grid_search.fit(X_scaled_train, y_train)"
   ]
  },
  {
   "cell_type": "code",
   "execution_count": 26,
   "id": "c34e45f1",
   "metadata": {},
   "outputs": [
    {
     "name": "stdout",
     "output_type": "stream",
     "text": [
      "Best Parameter : {'alpha_1': 4, 'lambda_1': 1e-06}\n",
      "Best Score : 0.5452\n",
      "Test set Score : 0.5627\n"
     ]
    }
   ],
   "source": [
    "# 파라미터 튜닝 결과 확인\n",
    "print(\"Best Parameter : {}\".format(grid_search.best_params_))\n",
    "print(\"Best Score : {:.4f}\".format(grid_search.best_score_))\n",
    "print(\"Test set Score : {:.4f}\".format(grid_search.score(X_scaled_test, y_test)))"
   ]
  },
  {
   "cell_type": "code",
   "execution_count": 28,
   "id": "6e4d4ed0",
   "metadata": {},
   "outputs": [
    {
     "data": {
      "text/plain": [
       "RandomizedSearchCV(cv=5, estimator=BayesianRidge(), n_iter=50,\n",
       "                   param_distributions={'alpha_1': <scipy.stats._distn_infrastructure.rv_frozen object at 0x000001FB9592A5B0>,\n",
       "                                        'lambda_1': <scipy.stats._distn_infrastructure.rv_frozen object at 0x000001FB9592A760>})"
      ]
     },
     "execution_count": 28,
     "metadata": {},
     "output_type": "execute_result"
    }
   ],
   "source": [
    "# 하이퍼 파라미터 튜닝2 - Randomized Search\n",
    "from sklearn.model_selection import RandomizedSearchCV\n",
    "from scipy.stats import randint\n",
    "\n",
    "param_distribs =  {'alpha_1' : randint(low=1e-06, high=10), 'lambda_1': randint(low=1e-06, high=10)} # 하이퍼 파라미터 후보들\n",
    "random_search = RandomizedSearchCV(BayesianRidge(), param_distributions=param_distribs, n_iter=50, cv=5) #n_iter : 랜덤서치 탐색 횟수\n",
    "random_search.fit(X_scaled_train, y_train)"
   ]
  },
  {
   "cell_type": "code",
   "execution_count": 29,
   "id": "70db6cdd",
   "metadata": {},
   "outputs": [
    {
     "name": "stdout",
     "output_type": "stream",
     "text": [
      "Best Parameter : {'alpha_1': 8, 'lambda_1': 0}\n",
      "Best Score : 0.5452\n",
      "Test set Score : 0.5627\n"
     ]
    }
   ],
   "source": [
    "# 파라미터 튜닝 결과값 확인\n",
    "print(\"Best Parameter : {}\".format(random_search.best_params_))\n",
    "print(\"Best Score : {:.4f}\".format(random_search.best_score_))\n",
    "print(\"Test set Score : {:.4f}\".format(random_search.score(X_scaled_test, y_test)))"
   ]
  },
  {
   "cell_type": "markdown",
   "id": "3dc7cd72",
   "metadata": {},
   "source": [
    "**[종합정리]**  \n",
    "BayesianRidge 모델 또한 회귀문제에서 기본, 그리드탐색, 랜덤탐색 유사한 결과를 보여 줍니다. 추후 다루게 되는 선형모델, 릿지, 라쏘등 다른 회귀모델과 결과를 비교해보면 유사한 결과의 정확도를 보입니다.\n",
    "다만, **BayesianRidge 모델은 회귀모델에서 자주 사용되는 알고리즘은 아닙니다.**"
   ]
  },
  {
   "cell_type": "code",
   "execution_count": null,
   "id": "16edf989",
   "metadata": {},
   "outputs": [],
   "source": []
  }
 ],
 "metadata": {
  "kernelspec": {
   "display_name": "Python 3",
   "language": "python",
   "name": "python3"
  },
  "language_info": {
   "codemirror_mode": {
    "name": "ipython",
    "version": 3
   },
   "file_extension": ".py",
   "mimetype": "text/x-python",
   "name": "python",
   "nbconvert_exporter": "python",
   "pygments_lexer": "ipython3",
   "version": "3.8.8"
  }
 },
 "nbformat": 4,
 "nbformat_minor": 5
}
