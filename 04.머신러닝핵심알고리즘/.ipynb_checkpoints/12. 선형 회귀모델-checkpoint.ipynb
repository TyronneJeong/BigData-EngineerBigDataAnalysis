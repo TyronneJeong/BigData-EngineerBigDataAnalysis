{
 "cells": [
  {
   "cell_type": "markdown",
   "metadata": {},
   "source": [
    "# 12. 선형 회귀모델\n",
    "\n",
    "## 12.1 핵심 개념\n",
    "\n",
    "**선형회귀모델(Linear regression model)은 연속형 독립변수가 연속형 종속변수에 끼치는 영향을 분석하는 목적으로 활용** 됩니다. 회귀모델은 실제값과 예측값 간에 얼마나 일치하는가, 또는 얼마나 차이가 나는가를 계산하여 모델의 성능지표로 삼습니다. 만약 모든 데이터가 하나의 직선상에 위치한다면 실제값과 예측값이 100%로 일치하는 것입니다. 이때 설명력이라고 하는 R Square 는 100%(1) 이며, 대표적인 오차값인 RMSE 는 0이 됩니다."
   ]
  },
  {
   "cell_type": "markdown",
   "metadata": {},
   "source": [
    "# 12.2 scikit-learn\n",
    "\n",
    "선형회귀모델은 sklearn.linear_model 패키지에 속해 있습니다.\n",
    "\n",
    "|Linear Regressor||\n",
    "|:--|:--|\n",
    "|linear_model.LinearRegression() |Ordinary least squares Linear Regression. |\n",
    "|linear_model.Ridge() |Linear least squares with I2 regularization. |\n",
    "|linear_model.RidgeCV() |Ridge regression with build-in cross-validation. |\n",
    "|linear_model.SGDRegressor() |Linear model fitted by minimizing a regularized empiricalloss with SGD|\n",
    "\n",
    "**선형회귀모델에는 특별한 하이퍼 파라미터가 존재하지 않는다.** normalize 는 특성치(독립변수)의 정규화 정도 인데. 보통 정규화한 데이터를 모델을 투입 하기 때문에 기본값인 False 를 대입합니다. 또 intercept 는 X가 0일때 Y의 기본값인 상수를 모델에 반영할지에 대한 여부입니다. 그러나 모델에서 상수는 대부분 필수 입니다.때문에 이 값 역시 기본값을 그대로 적용해도 됩니다."
   ]
  },
  {
   "cell_type": "markdown",
   "metadata": {},
   "source": [
    "## 12.3 분석코드\n",
    "\n",
    "**statsmodel 적용**\n",
    "\n",
    "바로 머신러닝의 LinearRegression() 을 사용해도 되지만 좀더 회귀분석의 각종 통계지표에 대해 알아보기 위해 파이썬의 통계분석 모듈인 statsmodel 을 사용하여 보겠습니다."
   ]
  },
  {
   "cell_type": "code",
   "execution_count": 10,
   "metadata": {},
   "outputs": [
    {
     "name": "stdout",
     "output_type": "stream",
     "text": [
      "Index(['housing_age', 'income', 'bedrooms', 'households', 'rooms',\n",
      "       'house_value'],\n",
      "      dtype='object')\n",
      "Index(['income', 'bedrooms', 'households', 'rooms'], dtype='object')\n",
      "house_value    189260.967812\n",
      "dtype: float64\n",
      "house_value    188391.001357\n",
      "dtype: float64\n"
     ]
    }
   ],
   "source": [
    "# 데이터 로드\n",
    "data2 = pd.read_csv('./extrafiles/house_price.csv', encoding='utf-8')\n",
    "\n",
    "print(data2.columns)\n",
    "\n",
    "X = data2[data2.columns[1:5]]\n",
    "y = data2[['house_value']]\n",
    "\n",
    "print(X.columns)\n",
    "\n",
    "# train-test data 분리\n",
    "from sklearn.model_selection import train_test_split\n",
    "X_train, X_test, y_train, y_test = train_test_split(X, y, random_state=42)\n",
    "\n",
    "# stratify 효과 - 범주형 변수를 유사한 비율로 train / test 데이터로 분리시켜 준다.\n",
    "print(y_train.mean())\n",
    "print(y_test.mean())\n",
    "\n",
    "# 표준화 작업 - MinMaxScaler\n",
    "from sklearn.preprocessing import MinMaxScaler\n",
    "scaler = MinMaxScaler()\n",
    "scaler.fit(X_train)\n",
    "\n",
    "X_scaled_train = scaler.transform(X_train)\n",
    "X_scaled_test = scaler.transform(X_test)"
   ]
  },
  {
   "cell_type": "code",
   "execution_count": 11,
   "metadata": {},
   "outputs": [
    {
     "data": {
      "text/html": [
       "<div>\n",
       "<style scoped>\n",
       "    .dataframe tbody tr th:only-of-type {\n",
       "        vertical-align: middle;\n",
       "    }\n",
       "\n",
       "    .dataframe tbody tr th {\n",
       "        vertical-align: top;\n",
       "    }\n",
       "\n",
       "    .dataframe thead th {\n",
       "        text-align: right;\n",
       "    }\n",
       "</style>\n",
       "<table border=\"1\" class=\"dataframe\">\n",
       "  <thead>\n",
       "    <tr style=\"text-align: right;\">\n",
       "      <th></th>\n",
       "      <th>const</th>\n",
       "      <th>income</th>\n",
       "      <th>bedrooms</th>\n",
       "      <th>households</th>\n",
       "      <th>rooms</th>\n",
       "    </tr>\n",
       "  </thead>\n",
       "  <tbody>\n",
       "    <tr>\n",
       "      <th>17235</th>\n",
       "      <td>1.0</td>\n",
       "      <td>2.0577</td>\n",
       "      <td>0.185449</td>\n",
       "      <td>3.945455</td>\n",
       "      <td>6.372727</td>\n",
       "    </tr>\n",
       "    <tr>\n",
       "      <th>14220</th>\n",
       "      <td>1.0</td>\n",
       "      <td>4.0000</td>\n",
       "      <td>0.171566</td>\n",
       "      <td>2.741497</td>\n",
       "      <td>6.363946</td>\n",
       "    </tr>\n",
       "    <tr>\n",
       "      <th>3280</th>\n",
       "      <td>1.0</td>\n",
       "      <td>5.8904</td>\n",
       "      <td>0.154485</td>\n",
       "      <td>2.969325</td>\n",
       "      <td>6.651840</td>\n",
       "    </tr>\n",
       "    <tr>\n",
       "      <th>15279</th>\n",
       "      <td>1.0</td>\n",
       "      <td>0.9393</td>\n",
       "      <td>0.241460</td>\n",
       "      <td>3.257256</td>\n",
       "      <td>4.518470</td>\n",
       "    </tr>\n",
       "    <tr>\n",
       "      <th>14727</th>\n",
       "      <td>1.0</td>\n",
       "      <td>2.7143</td>\n",
       "      <td>0.194977</td>\n",
       "      <td>2.679287</td>\n",
       "      <td>6.385301</td>\n",
       "    </tr>\n",
       "  </tbody>\n",
       "</table>\n",
       "</div>"
      ],
      "text/plain": [
       "       const  income  bedrooms  households     rooms\n",
       "17235    1.0  2.0577  0.185449    3.945455  6.372727\n",
       "14220    1.0  4.0000  0.171566    2.741497  6.363946\n",
       "3280     1.0  5.8904  0.154485    2.969325  6.651840\n",
       "15279    1.0  0.9393  0.241460    3.257256  4.518470\n",
       "14727    1.0  2.7143  0.194977    2.679287  6.385301"
      ]
     },
     "execution_count": 11,
     "metadata": {},
     "output_type": "execute_result"
    }
   ],
   "source": [
    "# statsmodel 사용\n",
    "import statsmodels.api as sm\n",
    "x_train_new = sm.add_constant(X_train)\n",
    "x_test_new = sm.add_constant(X_test)\n",
    "x_train_new.head()"
   ]
  },
  {
   "cell_type": "code",
   "execution_count": 12,
   "metadata": {},
   "outputs": [
    {
     "name": "stdout",
     "output_type": "stream",
     "text": [
      "                            OLS Regression Results                            \n",
      "==============================================================================\n",
      "Dep. Variable:            house_value   R-squared:                       0.546\n",
      "Model:                            OLS   Adj. R-squared:                  0.545\n",
      "Method:                 Least Squares   F-statistic:                     3980.\n",
      "Date:                Mon, 15 Nov 2021   Prob (F-statistic):               0.00\n",
      "Time:                        09:22:58   Log-Likelihood:            -1.6570e+05\n",
      "No. Observations:               13266   AIC:                         3.314e+05\n",
      "Df Residuals:                   13261   BIC:                         3.315e+05\n",
      "Df Model:                           4                                         \n",
      "Covariance Type:            nonrobust                                         \n",
      "==============================================================================\n",
      "                 coef    std err          t      P>|t|      [0.025      0.975]\n",
      "------------------------------------------------------------------------------\n",
      "const      -2.849e+04   8884.093     -3.206      0.001   -4.59e+04   -1.11e+04\n",
      "income      5.588e+04    500.997    111.538      0.000    5.49e+04    5.69e+04\n",
      "bedrooms    5.586e+05   2.02e+04     27.637      0.000    5.19e+05    5.98e+05\n",
      "households -2.586e+04    775.128    -33.356      0.000   -2.74e+04   -2.43e+04\n",
      "rooms      -5810.6069    834.780     -6.961      0.000   -7446.896   -4174.318\n",
      "==============================================================================\n",
      "Omnibus:                     1975.541   Durbin-Watson:                   2.016\n",
      "Prob(Omnibus):                  0.000   Jarque-Bera (JB):             4568.878\n",
      "Skew:                           0.866   Prob(JB):                         0.00\n",
      "Kurtosis:                       5.294   Cond. No.                         284.\n",
      "==============================================================================\n",
      "\n",
      "Notes:\n",
      "[1] Standard Errors assume that the covariance matrix of the errors is correctly specified.\n"
     ]
    }
   ],
   "source": [
    "# 훈련데이터의 집계 OLS (Ordinary Least Sqaures Regression) : 일반적인 선형 회귀분석의 추정계수를 산출하는 기술\n",
    "multi_model = sm.OLS(y_train, x_train_new).fit()\n",
    "print(multi_model.summary())"
   ]
  },
  {
   "cell_type": "code",
   "execution_count": 13,
   "metadata": {},
   "outputs": [
    {
     "name": "stdout",
     "output_type": "stream",
     "text": [
      "                            OLS Regression Results                            \n",
      "==============================================================================\n",
      "Dep. Variable:            house_value   R-squared:                       0.563\n",
      "Model:                            OLS   Adj. R-squared:                  0.562\n",
      "Method:                 Least Squares   F-statistic:                     1421.\n",
      "Date:                Mon, 15 Nov 2021   Prob (F-statistic):               0.00\n",
      "Time:                        09:22:58   Log-Likelihood:                -55169.\n",
      "No. Observations:                4423   AIC:                         1.103e+05\n",
      "Df Residuals:                    4418   BIC:                         1.104e+05\n",
      "Df Model:                           4                                         \n",
      "Covariance Type:            nonrobust                                         \n",
      "==============================================================================\n",
      "                 coef    std err          t      P>|t|      [0.025      0.975]\n",
      "------------------------------------------------------------------------------\n",
      "const      -2.196e+04   1.48e+04     -1.483      0.138    -5.1e+04    7075.709\n",
      "income       5.57e+04    838.452     66.426      0.000    5.41e+04    5.73e+04\n",
      "bedrooms    5.402e+05   3.44e+04     15.713      0.000    4.73e+05    6.08e+05\n",
      "households -2.603e+04   1270.717    -20.484      0.000   -2.85e+04   -2.35e+04\n",
      "rooms      -6039.8888   1344.918     -4.491      0.000   -8676.601   -3403.177\n",
      "==============================================================================\n",
      "Omnibus:                      688.606   Durbin-Watson:                   1.968\n",
      "Prob(Omnibus):                  0.000   Jarque-Bera (JB):             1499.714\n",
      "Skew:                           0.915   Prob(JB):                         0.00\n",
      "Kurtosis:                       5.188   Cond. No.                         284.\n",
      "==============================================================================\n",
      "\n",
      "Notes:\n",
      "[1] Standard Errors assume that the covariance matrix of the errors is correctly specified.\n"
     ]
    }
   ],
   "source": [
    "# 테스트 데이터의 OLS 결과 산출\n",
    "multi_model2 = sm.OLS(y_test, x_test_new).fit()\n",
    "print(multi_model2.summary())"
   ]
  },
  {
   "cell_type": "markdown",
   "metadata": {},
   "source": [
    "**scikit-learn 적용**"
   ]
  },
  {
   "cell_type": "code",
   "execution_count": 14,
   "metadata": {},
   "outputs": [
    {
     "data": {
      "text/plain": [
       "0.5455724996358273"
      ]
     },
     "execution_count": 14,
     "metadata": {},
     "output_type": "execute_result"
    }
   ],
   "source": [
    "from sklearn.linear_model import LinearRegression\n",
    "model = LinearRegression()\n",
    "model.fit(X_scaled_train, y_train)\n",
    "pred_train=model.predict(X_scaled_train)\n",
    "model.score(X_scaled_train, y_train)"
   ]
  },
  {
   "cell_type": "code",
   "execution_count": 15,
   "metadata": {},
   "outputs": [
    {
     "data": {
      "text/plain": [
       "0.5626843883587158"
      ]
     },
     "execution_count": 15,
     "metadata": {},
     "output_type": "execute_result"
    }
   ],
   "source": [
    "# 테스트 데이터 모델 적용\n",
    "pred_test = model.predict(X_scaled_test)\n",
    "model.score(X_scaled_test, y_test)"
   ]
  },
  {
   "cell_type": "markdown",
   "metadata": {},
   "source": [
    "**RMSE(Root Mean Squared Error)**"
   ]
  },
  {
   "cell_type": "code",
   "execution_count": 16,
   "metadata": {},
   "outputs": [
    {
     "name": "stdout",
     "output_type": "stream",
     "text": [
      "훈  련데이터 RMSE: 64340.33927728243\n",
      "테스트데이터 RMSE: 63220.79672157403\n"
     ]
    }
   ],
   "source": [
    "# 회귀분석의 지표 R Square n RMSE\n",
    "# RMSE (Root Mean Squared Error)\n",
    "from sklearn.metrics import mean_squared_error\n",
    "import numpy as np\n",
    "MSE_train = mean_squared_error(y_train, pred_train)\n",
    "MSE_test = mean_squared_error(y_test, pred_test)\n",
    "print(\"훈  련데이터 RMSE:\", np.sqrt(MSE_train))\n",
    "print(\"테스트데이터 RMSE:\", np.sqrt(MSE_test))"
   ]
  },
  {
   "cell_type": "markdown",
   "metadata": {},
   "source": [
    "**MAE(Mean Absolute Error)** : 절대평균오차, 실제값과 예측값의 차이에 절대값을 씌워 평균을 낸 값."
   ]
  },
  {
   "cell_type": "code",
   "execution_count": 17,
   "metadata": {},
   "outputs": [
    {
     "data": {
      "text/plain": [
       "47230.87470163737"
      ]
     },
     "execution_count": 17,
     "metadata": {},
     "output_type": "execute_result"
    }
   ],
   "source": [
    "# 기타 선형 모델평가지표 : MAE(Mean Absolute Error)\n",
    "from sklearn.metrics import mean_absolute_error\n",
    "mean_absolute_error(y_test, pred_test)"
   ]
  },
  {
   "cell_type": "markdown",
   "metadata": {},
   "source": [
    "**MSE(Mean Squared Error)** : 평균제곱오차, 실제값과 예측값의 차이. 즉 오차에 제곱을 적용한 평균 값. 기본적으로 제곱 값이기 때문에 값 자체가 지나치게 크게 나온다. 때문에 이 값에 루트를 씌운 RMSE 를 사용하게 됩니다."
   ]
  },
  {
   "cell_type": "code",
   "execution_count": 18,
   "metadata": {},
   "outputs": [
    {
     "data": {
      "text/plain": [
       "3996869138.1105857"
      ]
     },
     "execution_count": 18,
     "metadata": {},
     "output_type": "execute_result"
    }
   ],
   "source": [
    "# 기타 선형 모델평가지표 : MSE(Mean Squared Error)\n",
    "from sklearn.metrics import mean_squared_error\n",
    "mean_squared_error(y_test, pred_test)"
   ]
  },
  {
   "cell_type": "markdown",
   "metadata": {},
   "source": [
    "**MAPE(Mean Absolute Percentage Error)** : 평균절대오차비율, 실제값 대비 오차값의 정도를 백분률로 나타낸 지표. 일반적으로 시계열 데이터에서 주로 사용."
   ]
  },
  {
   "cell_type": "code",
   "execution_count": 22,
   "metadata": {},
   "outputs": [
    {
     "data": {
      "text/plain": [
       "house_value    30.571439\n",
       "dtype: float64"
      ]
     },
     "execution_count": 22,
     "metadata": {},
     "output_type": "execute_result"
    }
   ],
   "source": [
    "# MAPE 함수 작성\n",
    "def MAPE(y_test, y_pred):\n",
    "    return np.mean(np.abs((y_test - y_pred) / y_test)) * 100\n",
    "MAPE(y_test, pred_test)"
   ]
  },
  {
   "cell_type": "markdown",
   "metadata": {},
   "source": [
    "**MAE(Mean Absolute Error)** : 평균오차비율, 0을 기준으로 실제값보다 예측값이 큰지 작은지를 알수 있는 지표."
   ]
  },
  {
   "cell_type": "code",
   "execution_count": 23,
   "metadata": {},
   "outputs": [
    {
     "data": {
      "text/plain": [
       "house_value   -12.37266\n",
       "dtype: float64"
      ]
     },
     "execution_count": 23,
     "metadata": {},
     "output_type": "execute_result"
    }
   ],
   "source": [
    "# MAE 함수 작성\n",
    "def MAE(y_test, y_pred):\n",
    "    return np.mean((y_test - y_pred) / y_test) * 100\n",
    "MAE(y_test, pred_test)"
   ]
  },
  {
   "cell_type": "code",
   "execution_count": null,
   "metadata": {},
   "outputs": [],
   "source": []
  }
 ],
 "metadata": {
  "kernelspec": {
   "display_name": "Python 3",
   "language": "python",
   "name": "python3"
  },
  "language_info": {
   "codemirror_mode": {
    "name": "ipython",
    "version": 3
   },
   "file_extension": ".py",
   "mimetype": "text/x-python",
   "name": "python",
   "nbconvert_exporter": "python",
   "pygments_lexer": "ipython3",
   "version": "3.7.3"
  }
 },
 "nbformat": 4,
 "nbformat_minor": 5
}
