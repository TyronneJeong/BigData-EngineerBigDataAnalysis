{
 "cells": [
  {
   "cell_type": "markdown",
   "id": "38dfa32c",
   "metadata": {},
   "source": [
    "# Pandas\n",
    "\n",
    "- 데이터 분석용 오픈소스 라이브러리\n",
    "- R보다 Pandas 가 학습이 좋고, 성능이 빠르다.\n",
    "- [주요 자료형]\n",
    "  - Series    : index 와 value 로 이루어진 데이터 타입\n",
    "  - DataFrame : index 와 column, value 로 이루어진 데이터 타입\n",
    "    - 데이터 프레임은 여러개의 Seires 의 모음이다.\n",
    "    - 하나의 컬럼에는 하나의 데이터 타입만 사용 가능하다."
   ]
  },
  {
   "cell_type": "code",
   "execution_count": 3,
   "id": "c5ed6182",
   "metadata": {},
   "outputs": [],
   "source": [
    "import pandas as pd\n",
    "import numpy as np"
   ]
  },
  {
   "cell_type": "markdown",
   "id": "f23db83a",
   "metadata": {},
   "source": [
    "### 1. Series"
   ]
  },
  {
   "cell_type": "code",
   "execution_count": 5,
   "id": "5f237dd5",
   "metadata": {},
   "outputs": [
    {
     "data": {
      "text/plain": [
       "0    5\n",
       "1    6\n",
       "2    2\n",
       "3    5\n",
       "4    2\n",
       "dtype: int32"
      ]
     },
     "execution_count": 5,
     "metadata": {},
     "output_type": "execute_result"
    }
   ],
   "source": [
    "# 벨류만 입력되면 인덱스는 자동으로 설정 된다. \n",
    "s = pd.Series(np.random.randint(10, size=5))\n",
    "s"
   ]
  },
  {
   "cell_type": "code",
   "execution_count": 73,
   "id": "a3b3fcc4",
   "metadata": {},
   "outputs": [
    {
     "name": "stdout",
     "output_type": "stream",
     "text": [
      "A    0\n",
      "B    6\n",
      "C    7\n",
      "D    6\n",
      "E    3\n",
      "dtype: int32\n"
     ]
    },
    {
     "data": {
      "text/plain": [
       "(Index(['A', 'B', 'C', 'D', 'E'], dtype='object'), array([0, 6, 7, 6, 3]))"
      ]
     },
     "execution_count": 73,
     "metadata": {},
     "output_type": "execute_result"
    }
   ],
   "source": [
    "# 인덱스를 직접 설정\n",
    "# 인덱스는 자료형간 병합을 할때 인덱스를 기준으로 동일 row 를 찾는다.\n",
    "s = pd.Series(np.random.randint(10, size=5), index=list(\"ABCDE\"))\n",
    "print(s)\n",
    "s.index, s.values"
   ]
  },
  {
   "cell_type": "code",
   "execution_count": 74,
   "id": "11628024",
   "metadata": {},
   "outputs": [
    {
     "data": {
      "text/plain": [
       "(6, 0, 7, 6)"
      ]
     },
     "execution_count": 74,
     "metadata": {},
     "output_type": "execute_result"
    }
   ],
   "source": [
    "# 인덱스를 이용한 호출\n",
    "s['B'], s['A'], s.C, s.D"
   ]
  },
  {
   "cell_type": "code",
   "execution_count": 75,
   "id": "e87f1938",
   "metadata": {},
   "outputs": [
    {
     "data": {
      "text/plain": [
       "A     0\n",
       "B    60\n",
       "C    70\n",
       "D    60\n",
       "E    30\n",
       "dtype: int32"
      ]
     },
     "execution_count": 75,
     "metadata": {},
     "output_type": "execute_result"
    }
   ],
   "source": [
    "# 브로드캐스팅\n",
    "s = s * 10\n",
    "s"
   ]
  },
  {
   "cell_type": "code",
   "execution_count": 76,
   "id": "013a33b5",
   "metadata": {},
   "outputs": [
    {
     "name": "stdout",
     "output_type": "stream",
     "text": [
      "B    60\n",
      "C    70\n",
      "dtype: int32\n",
      "\n",
      "   index   0\n",
      "0     C  70\n",
      "1     B  60\n",
      "2     D  60\n",
      "3     E  30\n",
      "4     A   0 \n",
      "\n",
      "B    60\n",
      "D    60\n",
      "dtype: int32\n"
     ]
    }
   ],
   "source": [
    "# reset_index 를 한다면?\n",
    "print(s[1:3])\n",
    "s.sort_values(ascending=False, inplace=True)\n",
    "\n",
    "print(\"\\n\", s.reset_index(), \"\\n\")\n",
    "\n",
    "# reset_index 이후 1번 항목은 50으로 변경된다.\n",
    "print(s[1:3])"
   ]
  },
  {
   "cell_type": "code",
   "execution_count": 78,
   "id": "da20daa0",
   "metadata": {},
   "outputs": [
    {
     "name": "stdout",
     "output_type": "stream",
     "text": [
      "A     NaN\n",
      "B    40.0\n",
      "C     NaN\n",
      "D    80.0\n",
      "dtype: float64\n"
     ]
    }
   ],
   "source": [
    "# index 가 사용되는 예제\n",
    "# 브로드 캐스팅시 인덱스를 기준으로 데이터 병합이 일어남\n",
    "\n",
    "m1 = pd.Series({\"A\":10, \"B\":20, \"C\":30, \"D\":40})\n",
    "m2 = pd.Series({\"B\":20, \"D\":40}) # B,D 값만 더해짐\n",
    "m3 = m1 + m2\n",
    "print(m3)"
   ]
  },
  {
   "cell_type": "code",
   "execution_count": 79,
   "id": "9dd867d6",
   "metadata": {},
   "outputs": [
    {
     "name": "stdout",
     "output_type": "stream",
     "text": [
      "A    10.0\n",
      "B    40.0\n",
      "C    30.0\n",
      "D    80.0\n",
      "dtype: float64\n"
     ]
    }
   ],
   "source": [
    "# True = Seires \n",
    "# True 인 대상 타겟에 m1 의 데이터를 대입하는데. 인덱스를 기준으로 대입 됨.\n",
    "m3[m3.isna()] = m1\n",
    "print(m3)"
   ]
  },
  {
   "cell_type": "code",
   "execution_count": null,
   "id": "c9c045e8",
   "metadata": {},
   "outputs": [],
   "source": []
  }
 ],
 "metadata": {
  "kernelspec": {
   "display_name": "Python 3",
   "language": "python",
   "name": "python3"
  },
  "language_info": {
   "codemirror_mode": {
    "name": "ipython",
    "version": 3
   },
   "file_extension": ".py",
   "mimetype": "text/x-python",
   "name": "python",
   "nbconvert_exporter": "python",
   "pygments_lexer": "ipython3",
   "version": "3.8.8"
  }
 },
 "nbformat": 4,
 "nbformat_minor": 5
}
