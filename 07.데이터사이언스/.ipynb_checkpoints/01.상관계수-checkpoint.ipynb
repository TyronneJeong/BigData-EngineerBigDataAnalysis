{
 "cells": [
  {
   "cell_type": "markdown",
   "id": "6370d945",
   "metadata": {},
   "source": [
    "# 상관계수 (Correlation Coefficient)\n",
    "\n",
    "\n",
    "**[주요개념]**\n",
    "1. 분산 (variance)\n",
    "2. 공분산 (co-variance)\n",
    "3. 상관계수\n",
    "4. 결정계수"
   ]
  },
  {
   "cell_type": "code",
   "execution_count": null,
   "id": "2340639b",
   "metadata": {},
   "outputs": [],
   "source": [
    "import pandas as pd\n",
    "import numpy as np"
   ]
  },
  {
   "cell_type": "markdown",
   "id": "afc949b1",
   "metadata": {},
   "source": [
    "#### 1. 분산 (variance)\n",
    "- 집합 A에서 각 항들에 평균값을 빼준 후 이를 모두 더한 후 제곱한 값.(-부호를 없애기 위해)\n",
    "\n",
    "```python\n",
    "def variance(df)->int:\n",
    "    avg = df.values - df.mean()\n",
    "    return np.square(avg).sum() / len(df)\n",
    "\n",
    "print(\"variance : >> \", variance(df['points']))\n",
    "print(np.var(df['points']))\n",
    "```"
   ]
  },
  {
   "cell_type": "code",
   "execution_count": 25,
   "id": "3cb0d3de",
   "metadata": {},
   "outputs": [],
   "source": [
    "# 일반 함수와 numpy 함수의 퍼포먼스 비교\n",
    "df1 = pd.Series(np.random.randint(60, 100, int(1E5))) # 60에서 100사이 수로 1E5 개 생성\n",
    "df2 = pd.Series(np.random.randint(60, 100, int(1E5))) # 60에서 100사이 수로 1E5 개 생성"
   ]
  },
  {
   "cell_type": "code",
   "execution_count": 26,
   "id": "ce63963d",
   "metadata": {},
   "outputs": [
    {
     "name": "stdout",
     "output_type": "stream",
     "text": [
      "Wall time: 3 ms\n"
     ]
    },
    {
     "data": {
      "text/plain": [
       "(132.9576399991, 133.53291518560002)"
      ]
     },
     "execution_count": 26,
     "metadata": {},
     "output_type": "execute_result"
    }
   ],
   "source": [
    "%%time\n",
    "variance(df1), variance(df2)"
   ]
  },
  {
   "cell_type": "code",
   "execution_count": 27,
   "id": "81a0f111",
   "metadata": {},
   "outputs": [
    {
     "name": "stdout",
     "output_type": "stream",
     "text": [
      "Wall time: 0 ns\n"
     ]
    },
    {
     "data": {
      "text/plain": [
       "(132.9576399991178, 133.53291518562844)"
      ]
     },
     "execution_count": 27,
     "metadata": {},
     "output_type": "execute_result"
    }
   ],
   "source": [
    "%time\n",
    "np.var(df1), np.var(df2)"
   ]
  },
  {
   "cell_type": "markdown",
   "id": "e036a006",
   "metadata": {},
   "source": [
    "#### 2. 표준편차 (standard deviation)\n",
    "- 분산에 루트를 씌워 스케일을 조정 한 값\n",
    "\n",
    "```python\n",
    "def standard(df)->int:\n",
    "    return np.sqrt(variance(df))\n",
    "\n",
    "print(\"standard deviation : >> \", standard(df['points']))\n",
    "print(np.std(df['points']))\n",
    "```"
   ]
  },
  {
   "cell_type": "markdown",
   "id": "840d2942",
   "metadata": {},
   "source": [
    "#### 3. 공분산 (covariance)\n",
    "두 집합 A, B 에서 A를 기준으로 A의 평균 값과 그 각 개별 값들의 차(분산)을 집합 B의 각 개별값과의 차를 모두 더하여 나타낸 값. 양의 값인 경우 양의 상관관계를. 음의 값인 경우 음의 상관관계를 나타낸다.(평균편차곱)\n",
    "\n"
   ]
  },
  {
   "cell_type": "code",
   "execution_count": 36,
   "id": "abef362f",
   "metadata": {},
   "outputs": [
    {
     "name": "stdout",
     "output_type": "stream",
     "text": [
      "[[ 80.  232.5]\n",
      " [232.5 680. ]]\n",
      "[[  80.  -150. ]\n",
      " [-150.   287.5]]\n"
     ]
    }
   ],
   "source": [
    "# 공분산\n",
    "arr1 = np.array([20, 20, 30, 40, 20])\n",
    "arr2 = np.array([30, 30, 60, 90, 35])\n",
    "\n",
    "print(np.cov(arr1, arr2))\n",
    "# arr1 vs arr1, arr1 vs arr2\n",
    "# arr2v s arr2, arr2 vs arr2\n",
    "\n",
    "arr3 = np.array([20, 20, 30, 40, 20])\n",
    "arr4 = np.array([70, 70, 50, 35, 75])\n",
    "print(np.cov(arr3, arr4))"
   ]
  },
  {
   "cell_type": "markdown",
   "id": "60a15816",
   "metadata": {},
   "source": [
    "#### 4. 상관계수 (correlation coefficient)\n",
    "- 두 집합간의 상관 정도를 파악하는데 공분산이 가지는 스케일 문제를 해결 한 상관지표.\n",
    "\n",
    "- **피어슨** : 연속형 데이터중 수치형 데이터의 상관도를 표준스케일로 계산한 상관계수\n",
    "- **스피어만** : 연속형 데이터중 순위형 데이터의 상관도를 표준스케일로 계산한 상관계수\n",
    "\n",
    "```python\n",
    "np.corrcoef(arr1, arr2)[0, 1],\\\n",
    "np.corrcoef(arr3, arr4)[0, 1]\n",
    "```"
   ]
  },
  {
   "cell_type": "code",
   "execution_count": 40,
   "id": "db9dd040",
   "metadata": {},
   "outputs": [
    {
     "data": {
      "text/plain": [
       "(0.9968355261408325, -0.9890707100936804)"
      ]
     },
     "execution_count": 40,
     "metadata": {},
     "output_type": "execute_result"
    }
   ],
   "source": [
    "# 상관계수는 -1 ~ 0 ~ 1 사이의 값을 가진다.\n",
    "np.corrcoef(arr1, arr2)[0, 1],\\\n",
    "np.corrcoef(arr3, arr4)[0, 1]"
   ]
  },
  {
   "cell_type": "markdown",
   "id": "03d9bca7",
   "metadata": {},
   "source": [
    "#### 5. 결정계수 (coefficient of determination:R-Squared)\n",
    "- X로부터 y를 예측할 수 있는 정도\n",
    "- **상관계수의 제곱 값**(상관계수 양수화)\n",
    "- 수치가 높을수록 회귀분석의 예측력이 높다는 의미.\n"
   ]
  },
  {
   "cell_type": "code",
   "execution_count": 41,
   "id": "dba29266",
   "metadata": {},
   "outputs": [
    {
     "data": {
      "text/plain": [
       "(0.9936810661764703, 0.9782608695652172)"
      ]
     },
     "execution_count": 41,
     "metadata": {},
     "output_type": "execute_result"
    }
   ],
   "source": [
    "np.corrcoef(arr1, arr2)[0, 1]**2,\\\n",
    "np.corrcoef(arr3, arr4)[0, 1]**2"
   ]
  },
  {
   "cell_type": "code",
   "execution_count": 2,
   "id": "66d4075a",
   "metadata": {},
   "outputs": [],
   "source": [
    "import pandas as pd\n",
    "df = pd.read_csv('./extrafiles/premierleague.csv')"
   ]
  },
  {
   "cell_type": "code",
   "execution_count": 3,
   "id": "f0d434b4",
   "metadata": {},
   "outputs": [
    {
     "data": {
      "text/html": [
       "<div>\n",
       "<style scoped>\n",
       "    .dataframe tbody tr th:only-of-type {\n",
       "        vertical-align: middle;\n",
       "    }\n",
       "\n",
       "    .dataframe tbody tr th {\n",
       "        vertical-align: top;\n",
       "    }\n",
       "\n",
       "    .dataframe thead th {\n",
       "        text-align: right;\n",
       "    }\n",
       "</style>\n",
       "<table border=\"1\" class=\"dataframe\">\n",
       "  <thead>\n",
       "    <tr style=\"text-align: right;\">\n",
       "      <th></th>\n",
       "      <th>name</th>\n",
       "      <th>gf</th>\n",
       "      <th>ga</th>\n",
       "      <th>points</th>\n",
       "    </tr>\n",
       "  </thead>\n",
       "  <tbody>\n",
       "    <tr>\n",
       "      <th>0</th>\n",
       "      <td>Manchester City</td>\n",
       "      <td>106</td>\n",
       "      <td>27</td>\n",
       "      <td>100</td>\n",
       "    </tr>\n",
       "    <tr>\n",
       "      <th>1</th>\n",
       "      <td>Manchester United</td>\n",
       "      <td>68</td>\n",
       "      <td>28</td>\n",
       "      <td>81</td>\n",
       "    </tr>\n",
       "    <tr>\n",
       "      <th>2</th>\n",
       "      <td>Tottenham Hotspur</td>\n",
       "      <td>74</td>\n",
       "      <td>36</td>\n",
       "      <td>77</td>\n",
       "    </tr>\n",
       "    <tr>\n",
       "      <th>3</th>\n",
       "      <td>Liverpool</td>\n",
       "      <td>84</td>\n",
       "      <td>38</td>\n",
       "      <td>75</td>\n",
       "    </tr>\n",
       "    <tr>\n",
       "      <th>4</th>\n",
       "      <td>Chelsea</td>\n",
       "      <td>62</td>\n",
       "      <td>38</td>\n",
       "      <td>70</td>\n",
       "    </tr>\n",
       "    <tr>\n",
       "      <th>5</th>\n",
       "      <td>Arsenal</td>\n",
       "      <td>74</td>\n",
       "      <td>51</td>\n",
       "      <td>63</td>\n",
       "    </tr>\n",
       "    <tr>\n",
       "      <th>6</th>\n",
       "      <td>Burnley</td>\n",
       "      <td>36</td>\n",
       "      <td>39</td>\n",
       "      <td>54</td>\n",
       "    </tr>\n",
       "    <tr>\n",
       "      <th>7</th>\n",
       "      <td>Everton</td>\n",
       "      <td>44</td>\n",
       "      <td>58</td>\n",
       "      <td>49</td>\n",
       "    </tr>\n",
       "    <tr>\n",
       "      <th>8</th>\n",
       "      <td>Leicester City</td>\n",
       "      <td>56</td>\n",
       "      <td>60</td>\n",
       "      <td>47</td>\n",
       "    </tr>\n",
       "    <tr>\n",
       "      <th>9</th>\n",
       "      <td>Newcastle United</td>\n",
       "      <td>39</td>\n",
       "      <td>47</td>\n",
       "      <td>44</td>\n",
       "    </tr>\n",
       "    <tr>\n",
       "      <th>10</th>\n",
       "      <td>Crystal Palace</td>\n",
       "      <td>45</td>\n",
       "      <td>55</td>\n",
       "      <td>44</td>\n",
       "    </tr>\n",
       "    <tr>\n",
       "      <th>11</th>\n",
       "      <td>Bournemouth</td>\n",
       "      <td>45</td>\n",
       "      <td>61</td>\n",
       "      <td>44</td>\n",
       "    </tr>\n",
       "    <tr>\n",
       "      <th>12</th>\n",
       "      <td>West Ham United</td>\n",
       "      <td>48</td>\n",
       "      <td>68</td>\n",
       "      <td>42</td>\n",
       "    </tr>\n",
       "    <tr>\n",
       "      <th>13</th>\n",
       "      <td>Watford</td>\n",
       "      <td>44</td>\n",
       "      <td>64</td>\n",
       "      <td>41</td>\n",
       "    </tr>\n",
       "    <tr>\n",
       "      <th>14</th>\n",
       "      <td>Brighton and Hove Albion</td>\n",
       "      <td>34</td>\n",
       "      <td>54</td>\n",
       "      <td>40</td>\n",
       "    </tr>\n",
       "    <tr>\n",
       "      <th>15</th>\n",
       "      <td>Huddersfield Town</td>\n",
       "      <td>28</td>\n",
       "      <td>58</td>\n",
       "      <td>37</td>\n",
       "    </tr>\n",
       "    <tr>\n",
       "      <th>16</th>\n",
       "      <td>Southampton</td>\n",
       "      <td>37</td>\n",
       "      <td>56</td>\n",
       "      <td>36</td>\n",
       "    </tr>\n",
       "    <tr>\n",
       "      <th>17</th>\n",
       "      <td>Swansea City</td>\n",
       "      <td>28</td>\n",
       "      <td>56</td>\n",
       "      <td>33</td>\n",
       "    </tr>\n",
       "    <tr>\n",
       "      <th>18</th>\n",
       "      <td>Stoke City</td>\n",
       "      <td>35</td>\n",
       "      <td>68</td>\n",
       "      <td>33</td>\n",
       "    </tr>\n",
       "    <tr>\n",
       "      <th>19</th>\n",
       "      <td>West Bromwich Albion</td>\n",
       "      <td>31</td>\n",
       "      <td>56</td>\n",
       "      <td>31</td>\n",
       "    </tr>\n",
       "  </tbody>\n",
       "</table>\n",
       "</div>"
      ],
      "text/plain": [
       "                        name   gf  ga  points\n",
       "0            Manchester City  106  27     100\n",
       "1          Manchester United   68  28      81\n",
       "2          Tottenham Hotspur   74  36      77\n",
       "3                  Liverpool   84  38      75\n",
       "4                    Chelsea   62  38      70\n",
       "5                    Arsenal   74  51      63\n",
       "6                    Burnley   36  39      54\n",
       "7                    Everton   44  58      49\n",
       "8             Leicester City   56  60      47\n",
       "9           Newcastle United   39  47      44\n",
       "10            Crystal Palace   45  55      44\n",
       "11               Bournemouth   45  61      44\n",
       "12           West Ham United   48  68      42\n",
       "13                   Watford   44  64      41\n",
       "14  Brighton and Hove Albion   34  54      40\n",
       "15         Huddersfield Town   28  58      37\n",
       "16               Southampton   37  56      36\n",
       "17              Swansea City   28  56      33\n",
       "18                Stoke City   35  68      33\n",
       "19      West Bromwich Albion   31  56      31"
      ]
     },
     "execution_count": 3,
     "metadata": {},
     "output_type": "execute_result"
    }
   ],
   "source": [
    "df"
   ]
  },
  {
   "cell_type": "code",
   "execution_count": 66,
   "id": "c9e578a1",
   "metadata": {},
   "outputs": [
    {
     "name": "stdout",
     "output_type": "stream",
     "text": [
      "상관계수 (correlation coefficient) :  0.9318404636463514 -0.8705940043262674\n",
      "결정계수 (coefficient of determination : R-square) :  0.87 , 0.76\n"
     ]
    }
   ],
   "source": [
    "# 데이터 프레임에서 데이터를 nparray 형태로 추출\n",
    "gf = np.array(df['gf']) # 득점\n",
    "ga = np.array(df['ga']) # 실점\n",
    "points = np.array(df['points']) # 승점\n",
    "gf, ga, points\n",
    "\n",
    "# 각 상관계수를 확인 (득점과 승점의 상관관계 vs 실점과 승점의 상관관계)\n",
    "print(\"상관계수 (correlation coefficient) : \", np.corrcoef(gf, points)[0, 1], np.corrcoef(ga, points)[0, 1])\n",
    "\n",
    "# 각 결정계수(R-square)를 확인\n",
    "rs1, rs2 = np.corrcoef(gf, points)[0, 1]**2, np.corrcoef(ga, points)[0, 1]**2\n",
    "# print(rs1, rs2)\n",
    "\n",
    "# 결정계수 소수점 2자리 까지 출력이후 반올림\n",
    "print(\"결정계수 (coefficient of determination : R-square) : \", round(rs1, 2), \",\", round(rs2, 2))\n",
    "\n",
    "# 결론 : 득점이 승리로 이어지는데 조금 더 상관관계가 높다."
   ]
  },
  {
   "cell_type": "code",
   "execution_count": null,
   "id": "86dfc1f8",
   "metadata": {},
   "outputs": [],
   "source": []
  }
 ],
 "metadata": {
  "kernelspec": {
   "display_name": "Python 3",
   "language": "python",
   "name": "python3"
  },
  "language_info": {
   "codemirror_mode": {
    "name": "ipython",
    "version": 3
   },
   "file_extension": ".py",
   "mimetype": "text/x-python",
   "name": "python",
   "nbconvert_exporter": "python",
   "pygments_lexer": "ipython3",
   "version": "3.8.8"
  }
 },
 "nbformat": 4,
 "nbformat_minor": 5
}
