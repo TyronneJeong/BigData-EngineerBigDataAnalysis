{
 "cells": [
  {
   "cell_type": "markdown",
   "id": "56b95a1d",
   "metadata": {},
   "source": [
    "# DataFrame\n",
    "- 데이터 프레임은 여러개의 Series로 구성된 자료형이다.\n",
    "- 하나의 컬럼에는 동일 데이터 타입만을 갖는다."
   ]
  },
  {
   "cell_type": "code",
   "execution_count": 2,
   "id": "63361351",
   "metadata": {},
   "outputs": [],
   "source": [
    "import pandas as pd\n",
    "import numpy as np"
   ]
  },
  {
   "cell_type": "markdown",
   "id": "70e8b2eb",
   "metadata": {},
   "source": [
    "#### 데이터프레임 생성"
   ]
  },
  {
   "cell_type": "code",
   "execution_count": 14,
   "id": "6e9103b7",
   "metadata": {},
   "outputs": [
    {
     "data": {
      "text/plain": [
       "(0     John\n",
       " 1    Kally\n",
       " Name: name, dtype: object,\n",
       " 0     john@gmail.com\n",
       " 1    kally@gmail.com\n",
       " Name: email, dtype: object)"
      ]
     },
     "execution_count": 14,
     "metadata": {},
     "output_type": "execute_result"
    }
   ],
   "source": [
    "# 데이터 프레임 생성1 : 딕셔너리의 리스트\n",
    "datas1 = {\n",
    "    \"name\":[\"John\", \"Kally\"],\n",
    "    \"email\":[\"john@gmail.com\", \"kally@gmail.com\"]\n",
    "}\n",
    "df1 = pd.DataFrame(datas1)\n",
    "df1\n",
    "df1[\"name\"],df1[\"email\"]"
   ]
  },
  {
   "cell_type": "code",
   "execution_count": 15,
   "id": "8ff83495",
   "metadata": {},
   "outputs": [
    {
     "data": {
      "text/html": [
       "<div>\n",
       "<style scoped>\n",
       "    .dataframe tbody tr th:only-of-type {\n",
       "        vertical-align: middle;\n",
       "    }\n",
       "\n",
       "    .dataframe tbody tr th {\n",
       "        vertical-align: top;\n",
       "    }\n",
       "\n",
       "    .dataframe thead th {\n",
       "        text-align: right;\n",
       "    }\n",
       "</style>\n",
       "<table border=\"1\" class=\"dataframe\">\n",
       "  <thead>\n",
       "    <tr style=\"text-align: right;\">\n",
       "      <th></th>\n",
       "      <th>name</th>\n",
       "      <th>email</th>\n",
       "    </tr>\n",
       "  </thead>\n",
       "  <tbody>\n",
       "    <tr>\n",
       "      <th>0</th>\n",
       "      <td>John</td>\n",
       "      <td>John@gmail.com</td>\n",
       "    </tr>\n",
       "    <tr>\n",
       "      <th>1</th>\n",
       "      <td>Kally</td>\n",
       "      <td>Kally@gmail.com</td>\n",
       "    </tr>\n",
       "  </tbody>\n",
       "</table>\n",
       "</div>"
      ],
      "text/plain": [
       "    name            email\n",
       "0   John   John@gmail.com\n",
       "1  Kally  Kally@gmail.com"
      ]
     },
     "execution_count": 15,
     "metadata": {},
     "output_type": "execute_result"
    }
   ],
   "source": [
    "# 데이터 프레임 생성2 : 리스트의 딕셔너리\n",
    "datas2 = [\n",
    "    {\"name\":\"John\", \"email\":\"John@gmail.com\"},\n",
    "    {\"name\":\"Kally\", \"email\":\"Kally@gmail.com\"},\n",
    "]\n",
    "df2 = pd.DataFrame(datas2)\n",
    "df2\n",
    "df2[['name', 'email']]"
   ]
  },
  {
   "cell_type": "markdown",
   "id": "d30a3c65",
   "metadata": {},
   "source": [
    "#### 데이터프레임 인덱스 컨트롤"
   ]
  },
  {
   "cell_type": "code",
   "execution_count": 23,
   "id": "d435289e",
   "metadata": {},
   "outputs": [
    {
     "data": {
      "text/html": [
       "<div>\n",
       "<style scoped>\n",
       "    .dataframe tbody tr th:only-of-type {\n",
       "        vertical-align: middle;\n",
       "    }\n",
       "\n",
       "    .dataframe tbody tr th {\n",
       "        vertical-align: top;\n",
       "    }\n",
       "\n",
       "    .dataframe thead th {\n",
       "        text-align: right;\n",
       "    }\n",
       "</style>\n",
       "<table border=\"1\" class=\"dataframe\">\n",
       "  <thead>\n",
       "    <tr style=\"text-align: right;\">\n",
       "      <th></th>\n",
       "      <th>name</th>\n",
       "      <th>email</th>\n",
       "    </tr>\n",
       "  </thead>\n",
       "  <tbody>\n",
       "    <tr>\n",
       "      <th>one</th>\n",
       "      <td>John</td>\n",
       "      <td>John@gmail.com</td>\n",
       "    </tr>\n",
       "    <tr>\n",
       "      <th>two</th>\n",
       "      <td>Kally</td>\n",
       "      <td>Kally@gmail.com</td>\n",
       "    </tr>\n",
       "  </tbody>\n",
       "</table>\n",
       "</div>"
      ],
      "text/plain": [
       "      name            email\n",
       "one   John   John@gmail.com\n",
       "two  Kally  Kally@gmail.com"
      ]
     },
     "execution_count": 23,
     "metadata": {},
     "output_type": "execute_result"
    }
   ],
   "source": [
    "# 인덱스를 추가하는 방법\n",
    "df1 = pd.DataFrame(datas2, index=[\"one\", \"two\"])\n",
    "df1"
   ]
  },
  {
   "cell_type": "code",
   "execution_count": 43,
   "id": "44dab038",
   "metadata": {},
   "outputs": [
    {
     "name": "stdout",
     "output_type": "stream",
     "text": [
      "Index : >>  Index(['one', 'two'], dtype='object')\n",
      "Columns : >>  Index(['name', 'email'], dtype='object')\n",
      "Values : >>  ['John' 'John@gmail.com']\n",
      "\n"
     ]
    }
   ],
   "source": [
    "# 데이터프레임의 구성요소를 개별 호출이 가능하다.\n",
    "print(\"Index : >> \", df1.index)\n",
    "print(\"Columns : >> \", df1.columns)\n",
    "print(\"Values : >> \", df1.values[0])\n",
    "print()"
   ]
  },
  {
   "cell_type": "code",
   "execution_count": 44,
   "id": "de97bff9",
   "metadata": {},
   "outputs": [
    {
     "name": "stdout",
     "output_type": "stream",
     "text": [
      "name   email          \n",
      "John   John@gmail.com     1\n",
      "Kally  Kally@gmail.com    1\n",
      "dtype: int64\n",
      "MultiIndex([], names=['name', 'email'])\n",
      "[1 1]\n"
     ]
    }
   ],
   "source": [
    "# 인덱스가 변경되어 리턴 되는 예.\n",
    "print(df1.value_counts())\n",
    "\n",
    "# 인덱스 정보가 숫자가 아닌 데이터의 컬럼 정보로 변경되어 있다.\n",
    "print(df1.value_counts().index[:0])\n",
    "\n",
    "# value_counts 의 값은 값의 수가 된다.\n",
    "print(df1.value_counts().values)"
   ]
  },
  {
   "cell_type": "markdown",
   "id": "0f5e45eb",
   "metadata": {},
   "source": [
    "#### 데이터 프레임에서 특정 column 또는 row 선택 방법"
   ]
  },
  {
   "cell_type": "code",
   "execution_count": 60,
   "id": "eef0b288",
   "metadata": {},
   "outputs": [
    {
     "name": "stdout",
     "output_type": "stream",
     "text": [
      "name               John\n",
      "email    john@gmail.com\n",
      "Name: 0, dtype: object\n",
      "    name            email\n",
      "0   John   john@gmail.com\n",
      "1  Kally  kally@gmail.com\n",
      "John\n",
      "John\n"
     ]
    }
   ],
   "source": [
    "datas = {\n",
    "    \"name\":[\"John\", \"Kally\"],\n",
    "    \"email\":[\"john@gmail.com\", \"kally@gmail.com\"]\n",
    "}\n",
    "df = pd.DataFrame(datas)\n",
    "\n",
    "# loc 메서드로 row 를 선택\n",
    "print(df.loc[0])\n",
    "print(df.loc[0:1])\n",
    "\n",
    "# 특정 row에 컬럼명 또는 컬럼 인덱스 추출\n",
    "print(df.loc[0][\"name\"])\n",
    "print(df.loc[0][0])"
   ]
  },
  {
   "cell_type": "code",
   "execution_count": 66,
   "id": "4bdc9d60",
   "metadata": {},
   "outputs": [
    {
     "data": {
      "text/html": [
       "<div>\n",
       "<style scoped>\n",
       "    .dataframe tbody tr th:only-of-type {\n",
       "        vertical-align: middle;\n",
       "    }\n",
       "\n",
       "    .dataframe tbody tr th {\n",
       "        vertical-align: top;\n",
       "    }\n",
       "\n",
       "    .dataframe thead th {\n",
       "        text-align: right;\n",
       "    }\n",
       "</style>\n",
       "<table border=\"1\" class=\"dataframe\">\n",
       "  <thead>\n",
       "    <tr style=\"text-align: right;\">\n",
       "      <th></th>\n",
       "      <th>name</th>\n",
       "      <th>email</th>\n",
       "    </tr>\n",
       "  </thead>\n",
       "  <tbody>\n",
       "    <tr>\n",
       "      <th>0</th>\n",
       "      <td>Jepetto</td>\n",
       "      <td>john@gmail.com</td>\n",
       "    </tr>\n",
       "    <tr>\n",
       "      <th>1</th>\n",
       "      <td>Kally</td>\n",
       "      <td>kally@gmail.com</td>\n",
       "    </tr>\n",
       "    <tr>\n",
       "      <th>2</th>\n",
       "      <td>doru</td>\n",
       "      <td>doru@gmail.com</td>\n",
       "    </tr>\n",
       "  </tbody>\n",
       "</table>\n",
       "</div>"
      ],
      "text/plain": [
       "      name            email\n",
       "0  Jepetto   john@gmail.com\n",
       "1    Kally  kally@gmail.com\n",
       "2     doru   doru@gmail.com"
      ]
     },
     "execution_count": 66,
     "metadata": {},
     "output_type": "execute_result"
    }
   ],
   "source": [
    "# 특정 row 또는 column 정보 변경 또는 추가\n",
    "# 기존에 존재하는 index 의 경우 수정\n",
    "df.loc[0][0] = \"Jepetto\" \n",
    "\n",
    "# 존재하지 않는 index 의 경우 추가\n",
    "df.loc[2] = {\"name\":\"doru\", \"email\":\"doru@gmail.com\"} \n",
    "\n",
    "# 1개의 row 를 구성하는 여러 컬럼중 하나의 특성만 입력하는건 안된다.\n",
    "# df.loc[2][0] = \"Doro\" \n",
    "\n",
    "df"
   ]
  },
  {
   "cell_type": "code",
   "execution_count": 68,
   "id": "cbad8ace",
   "metadata": {},
   "outputs": [
    {
     "data": {
      "text/html": [
       "<div>\n",
       "<style scoped>\n",
       "    .dataframe tbody tr th:only-of-type {\n",
       "        vertical-align: middle;\n",
       "    }\n",
       "\n",
       "    .dataframe tbody tr th {\n",
       "        vertical-align: top;\n",
       "    }\n",
       "\n",
       "    .dataframe thead th {\n",
       "        text-align: right;\n",
       "    }\n",
       "</style>\n",
       "<table border=\"1\" class=\"dataframe\">\n",
       "  <thead>\n",
       "    <tr style=\"text-align: right;\">\n",
       "      <th></th>\n",
       "      <th>name</th>\n",
       "      <th>email</th>\n",
       "    </tr>\n",
       "  </thead>\n",
       "  <tbody>\n",
       "    <tr>\n",
       "      <th>0</th>\n",
       "      <td>Jepetto</td>\n",
       "      <td>john@gmail.com</td>\n",
       "    </tr>\n",
       "    <tr>\n",
       "      <th>1</th>\n",
       "      <td>Kally</td>\n",
       "      <td>kally@gmail.com</td>\n",
       "    </tr>\n",
       "    <tr>\n",
       "      <th>2</th>\n",
       "      <td>doru</td>\n",
       "      <td>doru@gmail.com</td>\n",
       "    </tr>\n",
       "  </tbody>\n",
       "</table>\n",
       "</div>"
      ],
      "text/plain": [
       "      name            email\n",
       "0  Jepetto   john@gmail.com\n",
       "1    Kally  kally@gmail.com\n",
       "2     doru   doru@gmail.com"
      ]
     },
     "execution_count": 68,
     "metadata": {},
     "output_type": "execute_result"
    }
   ],
   "source": [
    "# head와 tail\n",
    "df.head()\n",
    "df.tail()"
   ]
  },
  {
   "cell_type": "markdown",
   "id": "a6f0dbc5",
   "metadata": {},
   "source": [
    "#### apply 함수의 적용"
   ]
  },
  {
   "cell_type": "code",
   "execution_count": 77,
   "id": "2941111e",
   "metadata": {},
   "outputs": [
    {
     "name": "stdout",
     "output_type": "stream",
     "text": [
      "gmail\n"
     ]
    },
    {
     "data": {
      "text/html": [
       "<div>\n",
       "<style scoped>\n",
       "    .dataframe tbody tr th:only-of-type {\n",
       "        vertical-align: middle;\n",
       "    }\n",
       "\n",
       "    .dataframe tbody tr th {\n",
       "        vertical-align: top;\n",
       "    }\n",
       "\n",
       "    .dataframe thead th {\n",
       "        text-align: right;\n",
       "    }\n",
       "</style>\n",
       "<table border=\"1\" class=\"dataframe\">\n",
       "  <thead>\n",
       "    <tr style=\"text-align: right;\">\n",
       "      <th></th>\n",
       "      <th>name</th>\n",
       "      <th>email</th>\n",
       "      <th>domain</th>\n",
       "      <th>domain2</th>\n",
       "    </tr>\n",
       "  </thead>\n",
       "  <tbody>\n",
       "    <tr>\n",
       "      <th>0</th>\n",
       "      <td>Jepetto</td>\n",
       "      <td>john@gmail.com</td>\n",
       "      <td>gmail</td>\n",
       "      <td>gmail</td>\n",
       "    </tr>\n",
       "    <tr>\n",
       "      <th>1</th>\n",
       "      <td>Kally</td>\n",
       "      <td>kally@gmail.com</td>\n",
       "      <td>gmail</td>\n",
       "      <td>gmail</td>\n",
       "    </tr>\n",
       "    <tr>\n",
       "      <th>2</th>\n",
       "      <td>doru</td>\n",
       "      <td>doru@gmail.com</td>\n",
       "      <td>gmail</td>\n",
       "      <td>gmail</td>\n",
       "    </tr>\n",
       "  </tbody>\n",
       "</table>\n",
       "</div>"
      ],
      "text/plain": [
       "      name            email domain domain2\n",
       "0  Jepetto   john@gmail.com  gmail   gmail\n",
       "1    Kally  kally@gmail.com  gmail   gmail\n",
       "2     doru   doru@gmail.com  gmail   gmail"
      ]
     },
     "execution_count": 77,
     "metadata": {},
     "output_type": "execute_result"
    }
   ],
   "source": [
    "# email 의 컬럼의 도메인을 이용하여 새로운 컬럼 생성을 하고자 하는 경우\n",
    "def domain(email):\n",
    "    return email.split(\"@\")[1].split(\".\")[0]\n",
    "\n",
    "print(domain(df.loc[0][\"email\"]))\n",
    "\n",
    "# 데이터 프레임에 특정 함수를 적용 시킨 결과를 이용하고자 할때 apply 를 사용한다.\n",
    "df[\"domain\"] = df[\"email\"].apply(domain)\n",
    "df\n",
    "\n",
    "df[\"domain2\"] = df[\"email\"].apply(lambda email : email.split(\"@\")[1].split(\".\")[0])\n",
    "df"
   ]
  },
  {
   "cell_type": "markdown",
   "id": "0a8b5878",
   "metadata": {},
   "source": [
    "#### 컬럼명 변경"
   ]
  },
  {
   "cell_type": "code",
   "execution_count": 80,
   "id": "ab0bde20",
   "metadata": {},
   "outputs": [
    {
     "data": {
      "text/html": [
       "<div>\n",
       "<style scoped>\n",
       "    .dataframe tbody tr th:only-of-type {\n",
       "        vertical-align: middle;\n",
       "    }\n",
       "\n",
       "    .dataframe tbody tr th {\n",
       "        vertical-align: top;\n",
       "    }\n",
       "\n",
       "    .dataframe thead th {\n",
       "        text-align: right;\n",
       "    }\n",
       "</style>\n",
       "<table border=\"1\" class=\"dataframe\">\n",
       "  <thead>\n",
       "    <tr style=\"text-align: right;\">\n",
       "      <th></th>\n",
       "      <th>name</th>\n",
       "      <th>email</th>\n",
       "      <th>domain</th>\n",
       "      <th>subdomain</th>\n",
       "    </tr>\n",
       "  </thead>\n",
       "  <tbody>\n",
       "    <tr>\n",
       "      <th>0</th>\n",
       "      <td>Jepetto</td>\n",
       "      <td>john@gmail.com</td>\n",
       "      <td>gmail</td>\n",
       "      <td>gmail</td>\n",
       "    </tr>\n",
       "    <tr>\n",
       "      <th>1</th>\n",
       "      <td>Kally</td>\n",
       "      <td>kally@gmail.com</td>\n",
       "      <td>gmail</td>\n",
       "      <td>gmail</td>\n",
       "    </tr>\n",
       "    <tr>\n",
       "      <th>2</th>\n",
       "      <td>doru</td>\n",
       "      <td>doru@gmail.com</td>\n",
       "      <td>gmail</td>\n",
       "      <td>gmail</td>\n",
       "    </tr>\n",
       "  </tbody>\n",
       "</table>\n",
       "</div>"
      ],
      "text/plain": [
       "      name            email domain subdomain\n",
       "0  Jepetto   john@gmail.com  gmail     gmail\n",
       "1    Kally  kally@gmail.com  gmail     gmail\n",
       "2     doru   doru@gmail.com  gmail     gmail"
      ]
     },
     "execution_count": 80,
     "metadata": {},
     "output_type": "execute_result"
    }
   ],
   "source": [
    "# rename 메서드로 변경\n",
    "df.rename(columns={\"domain2\":\"subdomain\"}, inplace=True)\n",
    "df"
   ]
  },
  {
   "cell_type": "code",
   "execution_count": null,
   "id": "68145eda",
   "metadata": {},
   "outputs": [],
   "source": []
  }
 ],
 "metadata": {
  "kernelspec": {
   "display_name": "Python 3",
   "language": "python",
   "name": "python3"
  },
  "language_info": {
   "codemirror_mode": {
    "name": "ipython",
    "version": 3
   },
   "file_extension": ".py",
   "mimetype": "text/x-python",
   "name": "python",
   "nbconvert_exporter": "python",
   "pygments_lexer": "ipython3",
   "version": "3.8.8"
  }
 },
 "nbformat": 4,
 "nbformat_minor": 5
}
