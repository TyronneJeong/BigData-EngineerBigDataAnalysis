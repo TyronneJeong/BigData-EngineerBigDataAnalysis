{
 "cells": [
  {
   "cell_type": "markdown",
   "id": "10154e24",
   "metadata": {},
   "source": [
    "# 4. numpy 함수\n",
    "\n",
    "## 4.1 numpy 함수 개요\n",
    "\n",
    "### 가. numpy (numerical python)\n",
    "\n",
    "넘파이(numpy)는 과학 계산을 위한 파이썬 데이터 분석 패키지 입니다.다차원 배열을 처리하는데 필요한 여러 유용한 기능을 제공합니다. 데이터 분석을 위해서는 pandas 와 함께 필수적으로 숙지해야 하는 패키지이니 잘 익혀 두어야 합니다.\n",
    "\n",
    "### 나. 다차원 배열(ndarray)\n",
    "\n",
    "다차원 배열이란 같은 자료형의 데이터를 담을 수 있는 포괄적인 그릇이라고 할 수 있습니다. ndarray 는 리스트와 다르게 동일 자료형 만으로만 사용 가능 하며, **배열의 차원을 rank** 라 하고, 각 **차원의 크기를 shape** 라고 표현 합니다.\n",
    "\n",
    "예를 들어 행이 2이고 열이 3인 2차원 배열은 rank 가 2이고, shape는 (2, 3) 이라 부를 수 있습니다.\n",
    "\n",
    "\n",
    "※ 일반적인 배열에서 [][][]에서 x, y, z 를 각 row, column, dimension 이라 정의한다.\n",
    "\n",
    "\n",
    "### 다. numpy 주요 함수\n",
    "\n",
    "넘파이는 자료를 다루는 함수 이기 때문에 다양한 연산 기능을 제공합니다. 절대값(abs), 제곱근(sqrt), 로그(Log)등이 대표적이며 numpy 다음 . 연산자로 호출 가능합니다.\n",
    "\n",
    "|함수|설명|사용법|\n",
    "|:--|:--|:--|\n",
    "|abs, fabs|절대값을 리턴, 복소수가 아닌 경우에는 빠른 연산을 위해 fabs 를 이용|numpy.abs(arr)|\n",
    "|sqrt|제곱근(루트)를 계산|numpy.sqrt(arr)|\n",
    "|square|제곱 계산|numpy.square(arr)|\n",
    "|exp|지수 계산|numpy.exp(arr)|\n",
    "|Log|로그 계산|numpy.log(arr)|\n",
    "|add|두 배열을 더한다|numpy.add(arr1, arr2)|\n",
    "|substract|첫 번째 배열에서 두번째 배열을 뺀다|numpy.subtract(arr1, arr2)|\n",
    "|multiply|두 배열을 곱한다.|numpy.multiply(arr1, arr2)|"
   ]
  },
  {
   "cell_type": "markdown",
   "id": "ca7dddb0",
   "metadata": {},
   "source": [
    "## 4.2 numpy 함수 다루기\n",
    "\n",
    "### 가. numpy 배열 생성\n",
    "\n",
    "넘파이를 사용하기 위해서는 매번 'import numpy as np' 를 수행하여야 합니다. as 란 alias(약어)의 의미로 np 로 줄여 쓰겠다는 의미입니다. 통산적으로 numpy 는 np 라는 약어를 사용합니다.\n",
    "\n",
    "데이터를 불러오지 않고 직접 코드에 입력할 때에는 np.array(리스트 형태의 데이터 입력) 로 입력 합니다.\n"
   ]
  },
  {
   "cell_type": "code",
   "execution_count": 3,
   "id": "89620ceb",
   "metadata": {},
   "outputs": [
    {
     "name": "stdout",
     "output_type": "stream",
     "text": [
      "[1 2 3 4]\n",
      "[1 2 3 4]\n"
     ]
    }
   ],
   "source": [
    "# numpy 배열 기본\n",
    "import numpy as np\n",
    "v1 = np.array([1, 2, 3, 4])\n",
    "print(v1)\n",
    "\n",
    "v2 = np.array((1, 2, 3, 4))\n",
    "print(v2)"
   ]
  },
  {
   "cell_type": "code",
   "execution_count": 12,
   "id": "169532e7",
   "metadata": {},
   "outputs": [
    {
     "name": "stdout",
     "output_type": "stream",
     "text": [
      "[0 1 2 3 4]\n",
      "[1 3 5 7 9]\n",
      "[3.5 5.5 7.5 9.5]\n",
      "[ 1  9 25 49 81]\n",
      "[  1  27 125 343 729]\n"
     ]
    }
   ],
   "source": [
    "# 연속 되거나 일정한 규칙을 가진 숫자\n",
    "v1 = np.arange(5) # 0에서 5 까지의 숫자\n",
    "print(v1)\n",
    "\n",
    "# 연속 되거나 일정한 규칙을 가진 숫자\n",
    "v2 = np.arange(1, 10, 2, dtype=int) # 1에서 10까지 2씩 증가.\n",
    "v3 = np.arange(3.5, 10.5, 2, dtype=float) # float 형 숫자 3.5에서 10.5 까지 2씩 증가\n",
    "print(v2)\n",
    "print(v3)\n",
    "\n",
    "# 제곱값 생성\n",
    "v4 = np.arange(1, 10, 2)**2 # 2씩 증가하는 숫자들의 제곱 값. 1, 3, 5, 7, 9 의 제곱 값.\n",
    "print(v4)\n",
    "\n",
    "# 세제곱값 생성\n",
    "v5 = np.arange(1, 10, 2)**3 # 2씩 증가하는 숫자들의 세제곱 값. 1, 3, 5, 7, 9 의 세제곱. 1, 27,125, 343, 729\n",
    "print(v5)"
   ]
  },
  {
   "cell_type": "markdown",
   "id": "3e3e5c60",
   "metadata": {},
   "source": [
    "### 나.행렬 만들기\n",
    "\n",
    "넘파이의 배열을 다른 형태의 배열로 변환하는 것도 가능 하다. *예) 1*12 를 2*6의 배열로, 3*4를 2*6의 배열로 등*\n",
    "\n",
    "- 명령어 : np.reshape(차원, 행, 렬, order='C' or 'F')\n",
    "- order='C' : 값을 행부터 채워 넣음\n",
    "- order='F' : 값을 열부터 채워 넣음"
   ]
  },
  {
   "cell_type": "code",
   "execution_count": 19,
   "id": "6979efef",
   "metadata": {},
   "outputs": [
    {
     "name": "stdout",
     "output_type": "stream",
     "text": [
      "[ 0  1  2  3  4  5  6  7  8  9 10 11]\n",
      "[[ 0  1  2  3  4  5]\n",
      " [ 6  7  8  9 10 11]]\n",
      "[[ 0  2  4  6  8 10]\n",
      " [ 1  3  5  7  9 11]]\n"
     ]
    }
   ],
   "source": [
    "# 행렬 만들기\n",
    "v1 = np.arange(12)\n",
    "print(v1)\n",
    "\n",
    "v2 = v1.reshape(2, 6) # 2*6 배열로 변환 (기본적으로 값을 행부터 채워 넣음 default order='C') (Z방향)\n",
    "print(v2)\n",
    "\n",
    "v3 = v1.reshape(2, 6, order = 'F') # 2*6 배열로 변환. 값을 열부터 채워 넣음 (N 방향)\n",
    "print(v3)"
   ]
  },
  {
   "cell_type": "code",
   "execution_count": 31,
   "id": "6f611ffe",
   "metadata": {},
   "outputs": [
    {
     "name": "stdout",
     "output_type": "stream",
     "text": [
      "[[1 2]\n",
      " [3 4]]\n",
      "[[2 4]\n",
      " [6 8]]\n",
      "[[0 0]\n",
      " [0 0]]\n",
      "[[ 1  4]\n",
      " [ 9 16]]\n",
      "[[ 7 10]\n",
      " [15 22]]\n",
      "(2, 2)\n"
     ]
    }
   ],
   "source": [
    "# 행렬 끼리의 연산\n",
    "v1 = np.arange(1, 5).reshape(2, 2) # 메서드 체이닝\n",
    "print(v1)\n",
    "\n",
    "# 덧셈 - shape 의 추가가 아닌 값의 덧셈이 수행 됨\n",
    "print(np.add(v1,v1))\n",
    "\n",
    "# 뺼셈\n",
    "print(np.subtract(v1, v1))\n",
    "\n",
    "# 곱셈\n",
    "print(np.multiply(v1, v1))\n",
    "\n",
    "# 행렬연산\n",
    "print(np.dot(v1, v1)) \n",
    "print(np.dot(v1, v1).shape) "
   ]
  },
  {
   "cell_type": "markdown",
   "id": "55b46124",
   "metadata": {},
   "source": [
    "**dot : 1차원 배열의 경우 두 배열의 동일한 위치의 숫자들 끼리 곱하고 이를 모두 더한 값이다.**  \n",
    "ex) 현재 [1, 2, 3], [2, 3, 4]의 경우 \n",
    "1*2 + 2*3 + 3*4 = 20이 된다.\n",
    "\n",
    "대상 행렬이 2차원 행렬인 경우 행렬간 곱이 실행 된다.\n",
    "[a, b] dot [c, d] 행렬의 경우. 아래와 같은 연산이 실행 된다.\n",
    "ex) [ac, ad], [bc, bd]\n",
    "\n",
    "![행렬의곱셈](./extrafiles/행렬의곱.png)\n",
    "\n",
    "\n",
    "\n",
    "\n",
    "ex) # 따라서\n",
    "\n",
    "|행렬  A|    |행렬  B|      |행렬  C|\n",
    "|:------|    |:------|      |:----------:|\n",
    "|0, 1|       |0, 1, 2|      |&nbsp;3, &nbsp;&nbsp;4, &nbsp;&nbsp;5|\n",
    "|2, 3|   X   |3, 4, 5| =    |&nbsp;9, 14, 19|\n",
    "|4, 5|       ||             |15, 24, 33|\n",
    "\n",
    "exp) *행렬 A 의 좌변 은 첫번째 줄, 행렬 A 의 우변은 은 두번째 줄과 각 곱한 후 각 위치별 좌, 우 변의 값을 더한다.*  \n",
    "[&nbsp;0+3, &nbsp;&nbsp;0+4, &nbsp;&nbsp;0+5]  \n",
    "[&nbsp;0+9, 2+12, 4+15]  \n",
    "[0+15,4+20, 8+25]  \n"
   ]
  },
  {
   "cell_type": "markdown",
   "id": "fb216ec5",
   "metadata": {},
   "source": [
    "### 다. 다차원 배열 만들기\n",
    "\n",
    "3차원 배열의 작성 예. 일반적인 데이터 분석에서는 자주 사용되진 않지만, 이미지 처리에서는 종종 활용된다."
   ]
  },
  {
   "cell_type": "code",
   "execution_count": 33,
   "id": "47e541c0",
   "metadata": {},
   "outputs": [
    {
     "name": "stdout",
     "output_type": "stream",
     "text": [
      "[ 0  1  2  3  4  5  6  7  8  9 10 11]\n",
      "[[[ 0  6]\n",
      "  [ 2  8]\n",
      "  [ 4 10]]\n",
      "\n",
      " [[ 1  7]\n",
      "  [ 3  9]\n",
      "  [ 5 11]]]\n",
      "(2, 3, 2)\n"
     ]
    }
   ],
   "source": [
    "# 다차원 행렬 만들기\n",
    "v1 = np.arange(12)\n",
    "print(v1)\n",
    "v2 = v1.reshape(2, 3, 2, order='F') # 2*3*2 행렬로 리쉐잎\n",
    "print(v2)\n",
    "print(v2.shape)"
   ]
  },
  {
   "cell_type": "code",
   "execution_count": 37,
   "id": "210d517d",
   "metadata": {},
   "outputs": [
    {
     "name": "stdout",
     "output_type": "stream",
     "text": [
      "[3.5 5.5 7.5 9.5]\n",
      "[[1 2]\n",
      " [3 4]]\n",
      "9.5\n",
      "1\n",
      "float64\n",
      "(2, 2)\n"
     ]
    }
   ],
   "source": [
    "# 다차원 배열에서 요소의 최대값 및 최소값 반환\n",
    "v3 = np.arange(3.5, 10.5, 2, dtype=float)\n",
    "print(v3)\n",
    "v4 = np.arange(1, 5).reshape(2, 2)\n",
    "print(v4)\n",
    "\n",
    "print(np.amax(v3)) # v3 행렬의 최대 값\n",
    "print(np.amin(v4)) # v4 행렬의 최소 값\n",
    "print(v3.dtype)  # 저장된 데이터 타입\n",
    "print(v4.shape)  # 행렬의 모양"
   ]
  }
 ],
 "metadata": {
  "kernelspec": {
   "display_name": "Python 3",
   "language": "python",
   "name": "python3"
  },
  "language_info": {
   "codemirror_mode": {
    "name": "ipython",
    "version": 3
   },
   "file_extension": ".py",
   "mimetype": "text/x-python",
   "name": "python",
   "nbconvert_exporter": "python",
   "pygments_lexer": "ipython3",
   "version": "3.8.8"
  }
 },
 "nbformat": 4,
 "nbformat_minor": 5
}
