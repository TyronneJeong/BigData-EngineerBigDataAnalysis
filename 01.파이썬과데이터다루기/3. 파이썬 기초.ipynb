{
 "cells": [
  {
   "cell_type": "markdown",
   "id": "c5240962",
   "metadata": {},
   "source": [
    "# 3. 파이썬 기초\n",
    "## 3.1 파이썬 자료형\n",
    "\n",
    "파이썬의 자료형은 아래 보는 것 처럼, **숫자형, 문자형, 리스트(List), 튜플(Tuple), 집합(Set), 사전(Dict), 논리(Boolean)등** 으로 구분 됩니다.\n",
    "\n",
    "[파이썬 기본 자료형]\n",
    "\n",
    "|유형|유형|예시|   \n",
    "|--|--|--|\n",
    "|숫자형(정수)|Integer|123, -48, 0|\n",
    "|숫자형(실수)|Float|3.14, -5.98, 8.0|\n",
    "|문자형|String|\"Hello\", \"World\"|\n",
    "|리스트|List|[1, 2, 3, 4, 5], [a, b, c, d, e]|\n",
    "|튜플|Tuple|(1, 2, 3, 4, 5), (a, b, c, d, e)|\n",
    "|집합|Set|set(\"hello\"), set([1, 2, 3])|\n",
    "|사전|DIctionary|{'hello':'world', 'python':'programming'}|\n",
    "|논리/불린|Boolean| True or False|\n"
   ]
  },
  {
   "cell_type": "markdown",
   "id": "4f580c69",
   "metadata": {},
   "source": [
    "### 가. 숫자형\n",
    "\n",
    "숫자형에는 익히 알듯이 정수형(Integer), 실수형(Floating point), 8진수(Octal), 16진수(Hexadecimal) 등이 있다."
   ]
  },
  {
   "cell_type": "code",
   "execution_count": 2,
   "id": "e90ef696",
   "metadata": {},
   "outputs": [
    {
     "data": {
      "text/plain": [
       "-0.4000000000000057"
      ]
     },
     "execution_count": 2,
     "metadata": {},
     "output_type": "execute_result"
    }
   ],
   "source": [
    "# 정수형, 실수형\n",
    "a = 123\n",
    "b = -123.4\n",
    "a+b"
   ]
  },
  {
   "cell_type": "code",
   "execution_count": 4,
   "id": "d5f919f9",
   "metadata": {},
   "outputs": [
    {
     "data": {
      "text/plain": [
       "48"
      ]
     },
     "execution_count": 4,
     "metadata": {},
     "output_type": "execute_result"
    }
   ],
   "source": [
    "# 8진수의 계산 예\n",
    "c = 0o34\n",
    "d = 0o24\n",
    "c+d"
   ]
  },
  {
   "cell_type": "code",
   "execution_count": 5,
   "id": "7fe4a8a0",
   "metadata": {},
   "outputs": [
    {
     "data": {
      "text/plain": [
       "297"
      ]
     },
     "execution_count": 5,
     "metadata": {},
     "output_type": "execute_result"
    }
   ],
   "source": [
    "# 16진수의 계산 예\n",
    "e = 0x2A\n",
    "f = 0xFF\n",
    "e+f"
   ]
  },
  {
   "cell_type": "markdown",
   "id": "cd9d43a0",
   "metadata": {},
   "source": [
    "### 나. 문자형\n",
    "문자형은 단일 인용('') 과 이중 인용(\"\") 표시를 사용하여 표현 한다."
   ]
  },
  {
   "cell_type": "code",
   "execution_count": 6,
   "id": "030550cf",
   "metadata": {},
   "outputs": [
    {
     "name": "stdout",
     "output_type": "stream",
     "text": [
      "WiseInCompany\n",
      "WiseInCompany\n",
      "WiseInCompany\n",
      "123\n"
     ]
    }
   ],
   "source": [
    "# 문자열\n",
    "s0 = 'WiseInCompany'\n",
    "s1 = \"WiseInCompany\"\n",
    "s2 = '''WiseInCompany'''\n",
    "s3 = \"123\"\n",
    "print(s0)\n",
    "print(s1)\n",
    "print(s2)\n",
    "print(s3)"
   ]
  },
  {
   "cell_type": "code",
   "execution_count": 7,
   "id": "29ed486b",
   "metadata": {
    "scrolled": true
   },
   "outputs": [
    {
     "name": "stdout",
     "output_type": "stream",
     "text": [
      "WiseInCompany\n",
      "WideInCompanyWideInCompany\n"
     ]
    }
   ],
   "source": [
    "# 문자열 연산하기\n",
    "a = \"Wise\"\n",
    "b=\"InCompany\"\n",
    "print(a+b)\n",
    "a = \"WideInCompany\"\n",
    "print(a*2)"
   ]
  },
  {
   "cell_type": "code",
   "execution_count": 8,
   "id": "1d06ebc4",
   "metadata": {},
   "outputs": [
    {
     "name": "stdout",
     "output_type": "stream",
     "text": [
      "e\n",
      "a\n",
      "Wise In Company\n",
      " In Company\n",
      "Wise\n"
     ]
    }
   ],
   "source": [
    "# 문자열 인덱싱 및 슬라이싱\n",
    "a = \"Wise In Company\"\n",
    "print(a[3])\n",
    "print(a[-3])\n",
    "print(a[0:15])\n",
    "print(a[4:])\n",
    "print(a[0:4])"
   ]
  },
  {
   "cell_type": "markdown",
   "id": "9efcc9e5",
   "metadata": {},
   "source": [
    "## 다. 리스트\n",
    "리스트는 한곳에 정수, 실수, 문자열을 모두 담을 수 있는 자료형이며, 순서가 보장된다."
   ]
  },
  {
   "cell_type": "code",
   "execution_count": 12,
   "id": "97fbe7ba",
   "metadata": {},
   "outputs": [
    {
     "name": "stdout",
     "output_type": "stream",
     "text": [
      "[1, 2, 3, 4, 5]\n",
      "1\n",
      "5\n",
      "[1, 2, 3, 4, 5]\n",
      "[1, 2, 3, 4, 5]\n",
      "[3, 4, 5]\n"
     ]
    }
   ],
   "source": [
    "# 리스트\n",
    "a= [1, 2, 3, 4, 5]\n",
    "print(a)\n",
    "\n",
    "# 리스트 인덱실\n",
    "a = [1, 2, 3, 4, 5]\n",
    "print(a[0])\n",
    "print(a[-1])\n",
    "\n",
    "# 리스트 슬라이싱\n",
    "a = [1, 2, 3, 4, 5]\n",
    "print(a[0:5])\n",
    "print(a[:5])\n",
    "print(a[2:])"
   ]
  },
  {
   "cell_type": "code",
   "execution_count": 13,
   "id": "4560a882",
   "metadata": {},
   "outputs": [
    {
     "name": "stdout",
     "output_type": "stream",
     "text": [
      "[0, 3, 4, 5, 6]\n"
     ]
    }
   ],
   "source": [
    "# 리스트 요소 추가/수정/삭제\n",
    "a = [1, 2, 3, 4, 5]\n",
    "a.append(6)\n",
    "a[0] = 0\n",
    "del a[1]\n",
    "print(a)"
   ]
  },
  {
   "cell_type": "code",
   "execution_count": 14,
   "id": "be506ef1",
   "metadata": {},
   "outputs": [
    {
     "name": "stdout",
     "output_type": "stream",
     "text": [
      "[1, 2, 3, 4, 5]\n",
      "[1, 2, 1, 2, 1, 2]\n"
     ]
    }
   ],
   "source": [
    "# 리스트 병합 및 반복\n",
    "a = [1, 2]\n",
    "b = [3, 4, 5]\n",
    "c = a + b\n",
    "print(c)\n",
    "d = a * 3\n",
    "print(d)"
   ]
  },
  {
   "cell_type": "markdown",
   "id": "a1dff772",
   "metadata": {},
   "source": [
    "### 라. 튜플(Tuple)\n",
    "\n",
    "튜플은 리스트와 유사하나 튜플은 리스트와 다르게 그 값을 추가, 삭제, 수정이 불가능 하다. 값을 변화 시킬 수 없다는 점만 제외하면 리스트와 동일한 자료형이다. 아래처럼 인덱싱과 슬라이싱 등이 가능하다."
   ]
  },
  {
   "cell_type": "code",
   "execution_count": 15,
   "id": "4278df9d",
   "metadata": {},
   "outputs": [
    {
     "name": "stdout",
     "output_type": "stream",
     "text": [
      "2\n",
      "(1, 2, 3)\n"
     ]
    }
   ],
   "source": [
    "# 튜플\n",
    "t = (1, 2, 3, 4, 5)\n",
    "\n",
    "# 튜플 인덱싱 및 슬라이싱\n",
    "t1 = (1, 2, 3)\n",
    "print(t[1]); # 인덱싱\n",
    "print(t[0:3]) # 슬라이싱"
   ]
  },
  {
   "cell_type": "code",
   "execution_count": 17,
   "id": "1a469a33",
   "metadata": {},
   "outputs": [
    {
     "name": "stdout",
     "output_type": "stream",
     "text": [
      "(1, 2, 3, 4, 5)\n",
      "(1, 2, 1, 2, 1, 2)\n"
     ]
    }
   ],
   "source": [
    "# 튜플 병합 및 반복\n",
    "a = (1, 2)\n",
    "b = (3, 4, 5)\n",
    "c = a + b\n",
    "print(c)\n",
    "d = a * 3\n",
    "print(d)"
   ]
  },
  {
   "cell_type": "code",
   "execution_count": 21,
   "id": "47756ac0",
   "metadata": {},
   "outputs": [
    {
     "name": "stdout",
     "output_type": "stream",
     "text": [
      "('David1', 'Kim1')\n",
      "Kim2 ,  David2\n",
      "Kim1 ,  David1\n"
     ]
    }
   ],
   "source": [
    "# 튜플의 변수 할당\n",
    "name = (\"David1\", \"Kim1\")\n",
    "print(name)\n",
    "firstname, lastname = (\"David2\", \"Kim2\")\n",
    "print(lastname, \", \", firstname)\n",
    "firstname, lastname = name\n",
    "print(lastname, \", \", firstname)"
   ]
  },
  {
   "cell_type": "markdown",
   "id": "0718d657",
   "metadata": {},
   "source": [
    "### 마. 집합\n",
    "집합은 리스트나 튜플과 달리 순서를 보장 하지 않는다. 또한 중복된 값이 들어올수 없는 자료형이다. 중괄호 ({}) 로 표기하며 단어가방 (Bag of Words)를 만들거나 제품목록을 구성할떄 유리한 자료형이다.\n",
    "차집합, 합집합, 교집합 (-, +, &) 등으로 집합간 연산이 가능하다."
   ]
  },
  {
   "cell_type": "code",
   "execution_count": 23,
   "id": "90882a4c",
   "metadata": {},
   "outputs": [
    {
     "name": "stdout",
     "output_type": "stream",
     "text": [
      "{1, 2, 3}\n"
     ]
    }
   ],
   "source": [
    "# 집합\n",
    "set = {1, 1, 2, 3}\n",
    "print(set)"
   ]
  },
  {
   "cell_type": "code",
   "execution_count": 27,
   "id": "9827407a",
   "metadata": {},
   "outputs": [
    {
     "name": "stdout",
     "output_type": "stream",
     "text": [
      "{1, 2, 3, 4}\n"
     ]
    }
   ],
   "source": [
    "# 집합 추가 및 삭제 1\n",
    "set = {1, 1, 2, 3}\n",
    "set.add(4)\n",
    "print(set)"
   ]
  },
  {
   "cell_type": "code",
   "execution_count": 29,
   "id": "951ebf29",
   "metadata": {},
   "outputs": [
    {
     "name": "stdout",
     "output_type": "stream",
     "text": [
      "{1, 2, 3, 4, 5, 6}\n"
     ]
    }
   ],
   "source": [
    "# 집합 추가 및 삭제 2\n",
    "set = {1, 1, 2, 3}\n",
    "set.update({4, 5, 6}) # 여러개의 요소 추가\n",
    "print(set)    "
   ]
  },
  {
   "cell_type": "code",
   "execution_count": 30,
   "id": "bee20464",
   "metadata": {},
   "outputs": [
    {
     "data": {
      "text/plain": [
       "{2, 3, 4, 5, 6}"
      ]
     },
     "execution_count": 30,
     "metadata": {},
     "output_type": "execute_result"
    }
   ],
   "source": [
    "# 하나의 요소를 삭제\n",
    "set.remove(1)\n",
    "set"
   ]
  },
  {
   "cell_type": "code",
   "execution_count": 32,
   "id": "91805e18",
   "metadata": {},
   "outputs": [
    {
     "data": {
      "text/plain": [
       "set()"
      ]
     },
     "execution_count": 32,
     "metadata": {},
     "output_type": "execute_result"
    }
   ],
   "source": [
    "# 요소 모두 삭제\n",
    "set.clear()\n",
    "set"
   ]
  },
  {
   "cell_type": "code",
   "execution_count": 34,
   "id": "d69f5a06",
   "metadata": {},
   "outputs": [
    {
     "name": "stdout",
     "output_type": "stream",
     "text": [
      "{1, 3}\n",
      "{1, 2, 3, 4}\n",
      "{2}\n"
     ]
    }
   ],
   "source": [
    "# 집합 연산\n",
    "a = {1, 2, 3}\n",
    "b = {1, 3, 4}\n",
    "\n",
    "# 교집합\n",
    "c = a & b\n",
    "print(c)\n",
    "\n",
    "# 합집합\n",
    "d = a | b\n",
    "print(d)\n",
    "\n",
    "# 차집합\n",
    "e = a - b\n",
    "print(e)"
   ]
  },
  {
   "cell_type": "markdown",
   "id": "20d6d285",
   "metadata": {},
   "source": [
    "### 바. 사전(Dictionary)\n",
    "사전은 키와 벨류로 이루어진 자료형이다. 집합 처럼 중괄호로 표현하지만 <K, V> 형태의 구조를 가진것이 특징이다. 키를 이용하여 값을 조회하거나 수정 한다."
   ]
  },
  {
   "cell_type": "code",
   "execution_count": 35,
   "id": "493c8129",
   "metadata": {},
   "outputs": [
    {
     "data": {
      "text/plain": [
       "90"
      ]
     },
     "execution_count": 35,
     "metadata": {},
     "output_type": "execute_result"
    }
   ],
   "source": [
    "# 사전\n",
    "test = {\"Kim\":90, \"Jeong\":80, \"Park\":75}\n",
    "test[\"Kim\"] # 키 이용"
   ]
  },
  {
   "cell_type": "code",
   "execution_count": 36,
   "id": "4b3dd746",
   "metadata": {},
   "outputs": [
    {
     "name": "stdout",
     "output_type": "stream",
     "text": [
      "{'Kim': 90, 'Jeong': 85, 'Cho': 95}\n"
     ]
    }
   ],
   "source": [
    "# 사전 추가/수정/삭제\n",
    "test = {\"Kim\":90, \"Jeong\":80, \"Park\":75}\n",
    "test[\"Jeong\"] = 85\n",
    "test[\"Cho\"] = 95\n",
    "del test[\"Park\"] # 요소 삭제 명령은 del\n",
    "print(test)"
   ]
  },
  {
   "cell_type": "code",
   "execution_count": 37,
   "id": "c3fd5afc",
   "metadata": {},
   "outputs": [
    {
     "name": "stdout",
     "output_type": "stream",
     "text": [
      "dict_keys(['Kim', 'Jeong', 'Park'])\n",
      "dict_values([90, 80, 75])\n"
     ]
    }
   ],
   "source": [
    "# 딕셔너리의 키 또는 벨류만 가져오기\n",
    "test = {\"Kim\":90, \"Jeong\":80, \"Park\":75}\n",
    "print(test.keys()) # 키 가져오기\n",
    "print(test.values()) # 값 가져오기"
   ]
  },
  {
   "cell_type": "markdown",
   "id": "2b273c16",
   "metadata": {},
   "source": [
    "## 3.2 if 문\n",
    "\n",
    "주어진 조건에 따라 코드를 실행하는 문법이다.\n",
    "```python\n",
    "if (조건문):\n",
    "    명령어 1\n",
    "elif (조건문):\n",
    "    명령어 2\n",
    "else:\n",
    "    명령어 3\n",
    "```"
   ]
  },
  {
   "cell_type": "code",
   "execution_count": 38,
   "id": "247cdb20",
   "metadata": {},
   "outputs": [
    {
     "name": "stdout",
     "output_type": "stream",
     "text": [
      "걍 걸어가!\n"
     ]
    }
   ],
   "source": [
    "# if 문 예시\n",
    "money = 4000\n",
    "if money == 3000:\n",
    "    print(\"KTX 타고 가자\")\n",
    "elif money >= 50000:\n",
    "    print(\"버스 타고 가자\")\n",
    "else:\n",
    "    print(\"걍 걸어가!\")"
   ]
  },
  {
   "cell_type": "markdown",
   "id": "19d80a72",
   "metadata": {},
   "source": [
    "## 3.3 반복문\n",
    "\n",
    "반복문은 작성된 코드를 여러번 반복 수행할때 사용되는 문법이다. 반복문은 for 문과 while 문이 존재한다.\n",
    "\n",
    "### 가. for 문\n",
    "\n",
    "for 문의 형식은 첫 줄 for 다음의 변수는 개발자가 임의로 정한 문자를 사용하며, in 다음은 리스트, 튜플, 문자열등이 올 수 있습니다.\n",
    "\n",
    "```python\n",
    "for 변수 in 리스트/튜플/문자열:\n",
    "    수행할 문장1\n",
    "    수행할 문장2\n",
    "    ...\n",
    "``` "
   ]
  },
  {
   "cell_type": "code",
   "execution_count": 39,
   "id": "b7bf0575",
   "metadata": {},
   "outputs": [
    {
     "name": "stdout",
     "output_type": "stream",
     "text": [
      "55\n"
     ]
    }
   ],
   "source": [
    "# for 문 기본\n",
    "sum = 0\n",
    "for i in range(11):\n",
    "    sum = sum + i\n",
    "print(sum)"
   ]
  },
  {
   "cell_type": "code",
   "execution_count": 40,
   "id": "f734fc8a",
   "metadata": {},
   "outputs": [
    {
     "name": "stdout",
     "output_type": "stream",
     "text": [
      "WIse\n",
      "In\n",
      "Company\n"
     ]
    }
   ],
   "source": [
    "# for 문 리스트 출력\n",
    "list = [\"WIse\", \"In\", \"Company\"]\n",
    "for s in list:\n",
    "    print(s)"
   ]
  },
  {
   "cell_type": "markdown",
   "id": "afa1e330",
   "metadata": {},
   "source": [
    "### 나. while 문\n",
    "\n",
    "while 문은 특정 조건을 만족할때 까지 계속 반복되는 문법이다. while 다음의 조건문이 충족될 때, 즉 참(True) 일때 반복 수행되고, 더이상 조건이 충족 되지 않을떄 (False)일때 수행을 종료한다.\n",
    "\n",
    "```python\n",
    "while <조건문>:\n",
    "    수행할 문장1\n",
    "    수행할 문장2\n",
    "    ...\n",
    "```"
   ]
  },
  {
   "cell_type": "code",
   "execution_count": 42,
   "id": "abfef23c",
   "metadata": {},
   "outputs": [
    {
     "name": "stdout",
     "output_type": "stream",
     "text": [
      "0\n",
      "1\n",
      "2\n",
      "3\n",
      "4\n",
      "5\n",
      "6\n",
      "7\n",
      "8\n",
      "9\n"
     ]
    }
   ],
   "source": [
    "# while 문 기본\n",
    "i = 0\n",
    "while i < 10:\n",
    "    print(i)\n",
    "    i = i + 1"
   ]
  },
  {
   "cell_type": "code",
   "execution_count": 45,
   "id": "0ea750be",
   "metadata": {},
   "outputs": [
    {
     "name": "stdout",
     "output_type": "stream",
     "text": [
      "apple\n",
      "banana\n",
      "bread\n"
     ]
    }
   ],
   "source": [
    "# while 문 리스트 출력\n",
    "food = [\"apple\", 'banana', \"bread\"]\n",
    "i = 0\n",
    "while i < len(food):\n",
    "    print(food[i])\n",
    "    i = i + 1"
   ]
  }
 ],
 "metadata": {
  "kernelspec": {
   "display_name": "Python 3",
   "language": "python",
   "name": "python3"
  },
  "language_info": {
   "codemirror_mode": {
    "name": "ipython",
    "version": 3
   },
   "file_extension": ".py",
   "mimetype": "text/x-python",
   "name": "python",
   "nbconvert_exporter": "python",
   "pygments_lexer": "ipython3",
   "version": "3.8.8"
  }
 },
 "nbformat": 4,
 "nbformat_minor": 5
}
