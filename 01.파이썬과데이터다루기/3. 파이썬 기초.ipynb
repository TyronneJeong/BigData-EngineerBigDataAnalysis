{
 "cells": [
  {
   "cell_type": "markdown",
   "id": "1ed55500",
   "metadata": {},
   "source": [
    "# 3. 파이썬 기초\n",
    "## 3.1 파이썬 자료형\n",
    "\n",
    "파이썬의 자료형은 아래 보는 것 처럼, **숫자형, 문자형, 리스트(List), 튜플(Tuple), 집합(Set), 사전(Dict), 논리(Boolean)등** 으로 구분 됩니다.\n",
    "\n",
    "[파이썬 기본 자료형]\n",
    "\n",
    "|유형|유형|예시|   \n",
    "|--|--|--|\n",
    "|숫자형(정수)|Integer|123, -48, 0|\n",
    "|숫자형(실수)|Float|3.14, -5.98, 8.0|\n",
    "|문자형|String|\"Hello\", \"World\"|\n",
    "|리스트|List|[1, 2, 3, 4, 5], [a, b, c, d, e]|\n",
    "|튜플|Tuple|(1, 2, 3, 4, 5), (a, b, c, d, e)|\n",
    "|집합|Set|set(\"hello\"), set([1, 2, 3])|\n",
    "|사전|DIctionary|{'hello':'world', 'python':'programming'}|\n",
    "|논리/불린|Boolean| True or False|\n"
   ]
  },
  {
   "cell_type": "markdown",
   "id": "e1d0e8e3",
   "metadata": {},
   "source": [
    "### 가. 숫자형\n",
    "\n",
    "숫자형에는 익히 알듯이 정수형(Integer), 실수형(Floating point), 8진수(Octal), 16진수(Hexadecimal) 등이 있다."
   ]
  },
  {
   "cell_type": "code",
   "execution_count": 2,
   "id": "bd0053f4",
   "metadata": {},
   "outputs": [
    {
     "data": {
      "text/plain": [
       "-0.4000000000000057"
      ]
     },
     "execution_count": 2,
     "metadata": {},
     "output_type": "execute_result"
    }
   ],
   "source": [
    "# 정수형, 실수형\n",
    "a = 123\n",
    "b = -123.4\n",
    "a+b"
   ]
  },
  {
   "cell_type": "code",
   "execution_count": 4,
   "id": "4d78ba72",
   "metadata": {},
   "outputs": [
    {
     "data": {
      "text/plain": [
       "48"
      ]
     },
     "execution_count": 4,
     "metadata": {},
     "output_type": "execute_result"
    }
   ],
   "source": [
    "# 8진수의 계산 예\n",
    "c = 0o34\n",
    "d = 0o24\n",
    "c+d"
   ]
  },
  {
   "cell_type": "code",
   "execution_count": 5,
   "id": "8cc7d17c",
   "metadata": {},
   "outputs": [
    {
     "data": {
      "text/plain": [
       "297"
      ]
     },
     "execution_count": 5,
     "metadata": {},
     "output_type": "execute_result"
    }
   ],
   "source": [
    "# 16진수의 계산 예\n",
    "e = 0x2A\n",
    "f = 0xFF\n",
    "e+f"
   ]
  },
  {
   "cell_type": "markdown",
   "id": "9bccb835",
   "metadata": {},
   "source": [
    "### 나. 문자형\n",
    "문자형은 단일 인용('') 과 이중 인용(\"\") 표시를 사용하여 표현 한다."
   ]
  },
  {
   "cell_type": "code",
   "execution_count": 6,
   "id": "3d58256f",
   "metadata": {},
   "outputs": [
    {
     "name": "stdout",
     "output_type": "stream",
     "text": [
      "WiseInCompany\n",
      "WiseInCompany\n",
      "WiseInCompany\n",
      "123\n"
     ]
    }
   ],
   "source": [
    "# 문자열\n",
    "s0 = 'WiseInCompany'\n",
    "s1 = \"WiseInCompany\"\n",
    "s2 = '''WiseInCompany'''\n",
    "s3 = \"123\"\n",
    "print(s0)\n",
    "print(s1)\n",
    "print(s2)\n",
    "print(s3)"
   ]
  },
  {
   "cell_type": "code",
   "execution_count": 7,
   "id": "4377832e",
   "metadata": {},
   "outputs": [
    {
     "name": "stdout",
     "output_type": "stream",
     "text": [
      "WiseInCompany\n",
      "WideInCompanyWideInCompany\n"
     ]
    }
   ],
   "source": [
    "# 문자열 연산하기\n",
    "a = \"Wise\"\n",
    "b=\"InCompany\"\n",
    "print(a+b)\n",
    "a = \"WideInCompany\"\n",
    "print(a*2)"
   ]
  },
  {
   "cell_type": "code",
   "execution_count": 8,
   "id": "71078a5c",
   "metadata": {},
   "outputs": [
    {
     "name": "stdout",
     "output_type": "stream",
     "text": [
      "e\n",
      "a\n",
      "Wise In Company\n",
      " In Company\n",
      "Wise\n"
     ]
    }
   ],
   "source": [
    "# 문자열 인덱싱 및 슬라이싱\n",
    "a = \"Wise In Company\"\n",
    "print(a[3])\n",
    "print(a[-3])\n",
    "print(a[0:15])\n",
    "print(a[4:])\n",
    "print(a[0:4])"
   ]
  },
  {
   "cell_type": "markdown",
   "id": "5518f178",
   "metadata": {},
   "source": [
    "## 다. 리스트\n",
    "리스트는 한곳에 정수, 실수, 문자열을 모두 담을 수 있는 자료형이며, 순서가 보장된다."
   ]
  },
  {
   "cell_type": "code",
   "execution_count": 12,
   "id": "94c65e68",
   "metadata": {},
   "outputs": [
    {
     "name": "stdout",
     "output_type": "stream",
     "text": [
      "[1, 2, 3, 4, 5]\n",
      "1\n",
      "5\n",
      "[1, 2, 3, 4, 5]\n",
      "[1, 2, 3, 4, 5]\n",
      "[3, 4, 5]\n"
     ]
    }
   ],
   "source": [
    "# 리스트\n",
    "a= [1, 2, 3, 4, 5]\n",
    "print(a)\n",
    "\n",
    "# 리스트 인덱실\n",
    "a = [1, 2, 3, 4, 5]\n",
    "print(a[0])\n",
    "print(a[-1])\n",
    "\n",
    "# 리스트 슬라이싱\n",
    "a = [1, 2, 3, 4, 5]\n",
    "print(a[0:5])\n",
    "print(a[:5])\n",
    "print(a[2:])"
   ]
  },
  {
   "cell_type": "code",
   "execution_count": 13,
   "id": "bdcf7753",
   "metadata": {},
   "outputs": [
    {
     "name": "stdout",
     "output_type": "stream",
     "text": [
      "[0, 3, 4, 5, 6]\n"
     ]
    }
   ],
   "source": [
    "# 리스트 요소 추가/수정/삭제\n",
    "a = [1, 2, 3, 4, 5]\n",
    "a.append(6)\n",
    "a[0] = 0\n",
    "del a[1]\n",
    "print(a)"
   ]
  },
  {
   "cell_type": "code",
   "execution_count": null,
   "id": "0efea610",
   "metadata": {},
   "outputs": [],
   "source": []
  }
 ],
 "metadata": {
  "kernelspec": {
   "display_name": "Python 3",
   "language": "python",
   "name": "python3"
  },
  "language_info": {
   "codemirror_mode": {
    "name": "ipython",
    "version": 3
   },
   "file_extension": ".py",
   "mimetype": "text/x-python",
   "name": "python",
   "nbconvert_exporter": "python",
   "pygments_lexer": "ipython3",
   "version": "3.8.8"
  }
 },
 "nbformat": 4,
 "nbformat_minor": 5
}
