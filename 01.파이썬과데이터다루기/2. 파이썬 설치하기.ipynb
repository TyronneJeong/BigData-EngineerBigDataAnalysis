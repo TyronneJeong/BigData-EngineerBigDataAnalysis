{
 "cells": [
  {
   "cell_type": "markdown",
   "id": "f1640047",
   "metadata": {},
   "source": [
    "# 2. 파이썬 설치하기\n",
    "#### 실기시험은 클라우드 기반 오픈 코딩 웹 사이트에서 진행된다.\n",
    "\n",
    "## 2.1 아나콘다 설치하기\n",
    "파이썬을 따로 설치하는 것보다 아나콘다를 설치하는 것을 권장한다.\n",
    "- [Anaconda](https://www.anaconda.com/)"
   ]
  },
  {
   "cell_type": "markdown",
   "id": "94ef339e",
   "metadata": {},
   "source": [
    "## 2.2 주피터 노트북 둘러보기\n",
    "- 생략"
   ]
  },
  {
   "cell_type": "markdown",
   "id": "1139e52c",
   "metadata": {},
   "source": [
    "## 2.3 패키지/라이브러리 설치\n",
    "\n",
    "데이터 다루기 및 데이터 분석에서 주로 사용되는 패키지를 살펴보자\n",
    "\n",
    "|패키지명 | 설명 | 웹 사이트 | 설치여부\n",
    "|:--|:--|:--|:--|\n",
    "|Numpy       |수치해석, 특히 선형대수 계산 기능 제공|http://www.numpy.org/|\n",
    "|Panda       |테이블 형태의 데이터를 다루기 위한 데이터 프레임 자료형 제공|http://pandas.pydata.org/|\n",
    "|Scipy       |고급수학함수, 수치적미적분, 미분방정식 계산, 최적화등 다양한 과학 기술 계산기능 제공|http://www.scipy.org/|\n",
    "|Sympy       |인수분해, 미분, 적분등 심볼릭 연산 제공|http://www.sympy.org/|\n",
    "|StatsModels |통계 및 회귀 분석이나 시계열 분석을 위한 라이브러리 제공 |http://www.statsmodels.org/|\n",
    "|Matplotlib  |각종 그래프 챠트 등을 그리기 위한 시각화 도구 제공|http://www.matplotlib.org/|\n",
    "|Seaborn     |Matplotlib 이상의 고급 통계 차트를 그리기 위한 시각화 도구 제공|http://stanford.edu/~mwaskom/sofrware/seaborn/|\n",
    "|Bokeh       |주피터 노트북이나 웹살에서 자바스크립트를 이용하여 차트를 그려주는 도구|http://bokeh.pydata.org/|\n",
    "|Scikit-Learn|대부분의 머신러닝 모형 제공|http://scikit-learn.org/|\n",
    "|TensorFlow  |신경망 모형 등의 딥러닝 모형 제공 패키지|http://www.tensorflow.org/| 별도설치필요\n",
    "|Keras       |신경망 모형 패키지로 텐서 플로우와 더불어 사용|http://keras.io/| 별도설치필요"
   ]
  }
 ],
 "metadata": {
  "kernelspec": {
   "display_name": "Python 3",
   "language": "python",
   "name": "python3"
  },
  "language_info": {
   "codemirror_mode": {
    "name": "ipython",
    "version": 3
   },
   "file_extension": ".py",
   "mimetype": "text/x-python",
   "name": "python",
   "nbconvert_exporter": "python",
   "pygments_lexer": "ipython3",
   "version": "3.8.8"
  }
 },
 "nbformat": 4,
 "nbformat_minor": 5
}
