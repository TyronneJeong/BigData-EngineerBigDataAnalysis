{
 "cells": [
  {
   "cell_type": "markdown",
   "id": "d34b475e",
   "metadata": {},
   "source": [
    "# 1. 단변량 데이터 탐색\n",
    "\n",
    "먼저 한변수 씩 데이터를 탐색해 보겠습니다. 각 컬럼(변수)의 개수와 자료형태를 확인합니다.\n"
   ]
  },
  {
   "cell_type": "code",
   "execution_count": 3,
   "id": "1546e4a8",
   "metadata": {},
   "outputs": [
    {
     "name": "stdout",
     "output_type": "stream",
     "text": [
      "<class 'pandas.core.frame.DataFrame'>\n",
      "RangeIndex: 209 entries, 0 to 208\n",
      "Data columns (total 4 columns):\n",
      " #   Column    Non-Null Count  Dtype  \n",
      "---  ------    --------------  -----  \n",
      " 0   salary    209 non-null    int64  \n",
      " 1   sales     209 non-null    float64\n",
      " 2   roe       209 non-null    float64\n",
      " 3   industry  209 non-null    int64  \n",
      "dtypes: float64(2), int64(2)\n",
      "memory usage: 6.7 KB\n"
     ]
    }
   ],
   "source": [
    "# CEO Salary 데이터 탐색\n",
    "import pandas as pd\n",
    "data = pd.read_csv('./extrafiles/Ex_CEOSalary.csv', encoding='utf-8')\n",
    "data.info()"
   ]
  },
  {
   "cell_type": "code",
   "execution_count": 3,
   "id": "bfbf1e9f",
   "metadata": {},
   "outputs": [
    {
     "data": {
      "text/html": [
       "<div>\n",
       "<style scoped>\n",
       "    .dataframe tbody tr th:only-of-type {\n",
       "        vertical-align: middle;\n",
       "    }\n",
       "\n",
       "    .dataframe tbody tr th {\n",
       "        vertical-align: top;\n",
       "    }\n",
       "\n",
       "    .dataframe thead th {\n",
       "        text-align: right;\n",
       "    }\n",
       "</style>\n",
       "<table border=\"1\" class=\"dataframe\">\n",
       "  <thead>\n",
       "    <tr style=\"text-align: right;\">\n",
       "      <th></th>\n",
       "      <th>salary</th>\n",
       "      <th>sales</th>\n",
       "      <th>roe</th>\n",
       "      <th>industry</th>\n",
       "    </tr>\n",
       "  </thead>\n",
       "  <tbody>\n",
       "    <tr>\n",
       "      <th>0</th>\n",
       "      <td>1095</td>\n",
       "      <td>27595.000000</td>\n",
       "      <td>14.1</td>\n",
       "      <td>1</td>\n",
       "    </tr>\n",
       "    <tr>\n",
       "      <th>1</th>\n",
       "      <td>1001</td>\n",
       "      <td>9958.000000</td>\n",
       "      <td>10.9</td>\n",
       "      <td>1</td>\n",
       "    </tr>\n",
       "    <tr>\n",
       "      <th>2</th>\n",
       "      <td>1122</td>\n",
       "      <td>6125.899902</td>\n",
       "      <td>23.5</td>\n",
       "      <td>1</td>\n",
       "    </tr>\n",
       "    <tr>\n",
       "      <th>3</th>\n",
       "      <td>578</td>\n",
       "      <td>16246.000000</td>\n",
       "      <td>5.9</td>\n",
       "      <td>1</td>\n",
       "    </tr>\n",
       "    <tr>\n",
       "      <th>4</th>\n",
       "      <td>1368</td>\n",
       "      <td>21783.199219</td>\n",
       "      <td>13.8</td>\n",
       "      <td>1</td>\n",
       "    </tr>\n",
       "  </tbody>\n",
       "</table>\n",
       "</div>"
      ],
      "text/plain": [
       "   salary         sales   roe  industry\n",
       "0    1095  27595.000000  14.1         1\n",
       "1    1001   9958.000000  10.9         1\n",
       "2    1122   6125.899902  23.5         1\n",
       "3     578  16246.000000   5.9         1\n",
       "4    1368  21783.199219  13.8         1"
      ]
     },
     "execution_count": 3,
     "metadata": {},
     "output_type": "execute_result"
    }
   ],
   "source": [
    "# 자료의 특성 과 구조를 파악\n",
    "data.head()"
   ]
  },
  {
   "cell_type": "markdown",
   "id": "8ca9f2c0",
   "metadata": {},
   "source": [
    "이 자료는 기업의 매출과 수익이 CEO 의 연봉에 미치는 영향관계를 분석하기 위한 데이터 입니다. 따라서 **독립변수(특성치)는 sales 과 roe** 가 되고 **종속 변수는 salary** 가 되겠습니다."
   ]
  },
  {
   "cell_type": "markdown",
   "id": "19c76f6f",
   "metadata": {},
   "source": [
    "## 1.1 범주형 자료의 탐색\n",
    "\n",
    "변수중 'industry'는 범주형 변수 (categorical variable) 입니다. 각 숫자는 산업유형을 의미하며, 각 범주별 빈도를 파악 하기 위해서 value_count() 명령을 수행 하여 봅니다.\n"
   ]
  },
  {
   "cell_type": "code",
   "execution_count": 5,
   "id": "b923de3c",
   "metadata": {},
   "outputs": [
    {
     "data": {
      "text/plain": [
       "1    72\n",
       "3    60\n",
       "2    46\n",
       "4    31\n",
       "Name: industry, dtype: int64"
      ]
     },
     "execution_count": 5,
     "metadata": {},
     "output_type": "execute_result"
    }
   ],
   "source": [
    "data['industry'].value_counts()"
   ]
  },
  {
   "cell_type": "code",
   "execution_count": 7,
   "id": "5e6eca39",
   "metadata": {},
   "outputs": [
    {
     "data": {
      "text/plain": [
       "Service    72\n",
       "Finance    60\n",
       "IT         46\n",
       "Others     31\n",
       "Name: industry, dtype: int64"
      ]
     },
     "execution_count": 7,
     "metadata": {},
     "output_type": "execute_result"
    }
   ],
   "source": [
    "# 각 데이터에 라벨을 부여 해 식별성을 높여 본다.\n",
    "data['industry'] = data['industry'].replace([1, 2, 3, 4], ['Service', 'IT', 'Finance', 'Others'])\n",
    "data['industry'].value_counts()"
   ]
  },
  {
   "cell_type": "code",
   "execution_count": 8,
   "id": "2361f4c1",
   "metadata": {},
   "outputs": [
    {
     "data": {
      "text/plain": [
       "<AxesSubplot:ylabel='industry'>"
      ]
     },
     "execution_count": 8,
     "metadata": {},
     "output_type": "execute_result"
    },
    {
     "data": {
      "image/png": "[encoded data removed]",
      "text/plain": [
       "<Figure size 432x288 with 1 Axes>"
      ]
     },
     "metadata": {},
     "output_type": "display_data"
    }
   ],
   "source": [
    "# matplotlib inline\n",
    "\n",
    "%matplotlib inline\n",
    "data['industry'].value_counts().plot(kind=\"pie\") # pandas 에서 matplotlib 을 바로 호출 할 수 있네."
   ]
  },
  {
   "cell_type": "code",
   "execution_count": 9,
   "id": "d48a5374",
   "metadata": {},
   "outputs": [
    {
     "data": {
      "text/plain": [
       "<AxesSubplot:>"
      ]
     },
     "execution_count": 9,
     "metadata": {},
     "output_type": "execute_result"
    },
    {
     "data": {
      "image/png": "[encoded data removed]",
      "text/plain": [
       "<Figure size 432x288 with 1 Axes>"
      ]
     },
     "metadata": {
      "needs_background": "light"
     },
     "output_type": "display_data"
    }
   ],
   "source": [
    "data['industry'].value_counts().plot(kind=\"bar\")"
   ]
  },
  {
   "cell_type": "markdown",
   "id": "8f153fde",
   "metadata": {},
   "source": [
    "## 1.2 연속형 자료의 탐색\n",
    "\n",
    "범주형이 아닌 **연속형(숫자형) 자료는 describe() 함수를 이용하여 기술통계량(descriptive statistics) 을 확인** 할 수 있다."
   ]
  },
  {
   "cell_type": "code",
   "execution_count": 10,
   "id": "3f5a2c92",
   "metadata": {},
   "outputs": [
    {
     "data": {
      "text/html": [
       "<div>\n",
       "<style scoped>\n",
       "    .dataframe tbody tr th:only-of-type {\n",
       "        vertical-align: middle;\n",
       "    }\n",
       "\n",
       "    .dataframe tbody tr th {\n",
       "        vertical-align: top;\n",
       "    }\n",
       "\n",
       "    .dataframe thead th {\n",
       "        text-align: right;\n",
       "    }\n",
       "</style>\n",
       "<table border=\"1\" class=\"dataframe\">\n",
       "  <thead>\n",
       "    <tr style=\"text-align: right;\">\n",
       "      <th></th>\n",
       "      <th>salary</th>\n",
       "      <th>sales</th>\n",
       "      <th>roe</th>\n",
       "    </tr>\n",
       "  </thead>\n",
       "  <tbody>\n",
       "    <tr>\n",
       "      <th>count</th>\n",
       "      <td>209.000000</td>\n",
       "      <td>209.000000</td>\n",
       "      <td>209.000000</td>\n",
       "    </tr>\n",
       "    <tr>\n",
       "      <th>mean</th>\n",
       "      <td>1281.119617</td>\n",
       "      <td>6923.793282</td>\n",
       "      <td>17.184211</td>\n",
       "    </tr>\n",
       "    <tr>\n",
       "      <th>std</th>\n",
       "      <td>1372.345308</td>\n",
       "      <td>10633.271088</td>\n",
       "      <td>8.518509</td>\n",
       "    </tr>\n",
       "    <tr>\n",
       "      <th>min</th>\n",
       "      <td>223.000000</td>\n",
       "      <td>175.199997</td>\n",
       "      <td>0.500000</td>\n",
       "    </tr>\n",
       "    <tr>\n",
       "      <th>25%</th>\n",
       "      <td>736.000000</td>\n",
       "      <td>2210.300049</td>\n",
       "      <td>12.400000</td>\n",
       "    </tr>\n",
       "    <tr>\n",
       "      <th>50%</th>\n",
       "      <td>1039.000000</td>\n",
       "      <td>3705.199951</td>\n",
       "      <td>15.500000</td>\n",
       "    </tr>\n",
       "    <tr>\n",
       "      <th>75%</th>\n",
       "      <td>1407.000000</td>\n",
       "      <td>7177.000000</td>\n",
       "      <td>20.000000</td>\n",
       "    </tr>\n",
       "    <tr>\n",
       "      <th>max</th>\n",
       "      <td>14822.000000</td>\n",
       "      <td>97649.898438</td>\n",
       "      <td>56.299999</td>\n",
       "    </tr>\n",
       "  </tbody>\n",
       "</table>\n",
       "</div>"
      ],
      "text/plain": [
       "             salary         sales         roe\n",
       "count    209.000000    209.000000  209.000000\n",
       "mean    1281.119617   6923.793282   17.184211\n",
       "std     1372.345308  10633.271088    8.518509\n",
       "min      223.000000    175.199997    0.500000\n",
       "25%      736.000000   2210.300049   12.400000\n",
       "50%     1039.000000   3705.199951   15.500000\n",
       "75%     1407.000000   7177.000000   20.000000\n",
       "max    14822.000000  97649.898438   56.299999"
      ]
     },
     "execution_count": 10,
     "metadata": {},
     "output_type": "execute_result"
    }
   ],
   "source": [
    "# 기술통계량 조회\n",
    "data.describe()"
   ]
  },
  {
   "cell_type": "markdown",
   "id": "00c682c9",
   "metadata": {},
   "source": [
    "`여기서 주목 해야 할 숫자는 평균(mean)과 중위수(50%)의 차이가 크지 않은지 이다.` **평균과 중위수의 차이가 적을 수록 이상치가 적은 데이터**를 의미한다. roe 의 평균과 중위수는 각각 17.2 15.5로 유사한 반면, salary(1281, 1039) 와 sales(6923, 3705) 는 평균과 중위수 차이가 크다. 때문에 두개의 변수에서는 이상치가 다수 존재할 것으로 예상 할 수 있다.\n",
    "\n",
    "자료의 분포를 조금 더 구체적으로 확인 하기 위해 **왜도(skewness)와 첨도(kurtosis)를 살펴 정규분포를 따르는지 확인** 할 수 있다."
   ]
  },
  {
   "cell_type": "code",
   "execution_count": 11,
   "id": "511c7d69",
   "metadata": {},
   "outputs": [
    {
     "data": {
      "text/plain": [
       "salary    6.904577\n",
       "sales     5.035336\n",
       "roe       1.572126\n",
       "dtype: float64"
      ]
     },
     "execution_count": 11,
     "metadata": {},
     "output_type": "execute_result"
    }
   ],
   "source": [
    "# 왜도\n",
    "data.skew()"
   ]
  },
  {
   "cell_type": "markdown",
   "id": "a387f945",
   "metadata": {},
   "source": [
    "> **[해석]**\n",
    "> 1. salary와 slaes 의 왜도가 모두 2보다 크며, 양의 값으로 우측 꼬리 분포 형태를 보일것으로 판단된다.\n",
    "> 2. 왜도는 0일때 정규분포와 일치하는 대칭 형태가 된다.\n",
    "> 3. 왜도가 2보다 클 경우 어느 한쪽으로 치우친 그래프가 된다.\n",
    "> 4. 왜도가 음수(-)이면 오른쪽에 자료가 더 많고 이상치는 작은 값들이 있다는 의미이다.\n",
    "> 5. 왜도가 양수(+)이면 왼쪽에 자료가 더 많고 이상치는 큰 값에 많이 있다는 의미이다."
   ]
  },
  {
   "cell_type": "code",
   "execution_count": 12,
   "id": "4a8c8e27",
   "metadata": {},
   "outputs": [
    {
     "data": {
      "text/plain": [
       "salary    58.971229\n",
       "sales     33.115193\n",
       "roe        3.797366\n",
       "dtype: float64"
      ]
     },
     "execution_count": 12,
     "metadata": {},
     "output_type": "execute_result"
    }
   ],
   "source": [
    "# 첨도\n",
    "data.kurtosis()"
   ]
  },
  {
   "cell_type": "markdown",
   "id": "7ce76542",
   "metadata": {},
   "source": [
    "> **[해석]**\n",
    "> 1. 첨도는 salary 와 sales 에 각각 59, 33 으로 높다.\n",
    "> 2. 첨도는 0에 가까울수록 정규분포를 따르게 된다.\n",
    "> 3. 값이 큰 수록 중심에 자료가 집중 되어 있다는 의미이다.\n"
   ]
  },
  {
   "cell_type": "markdown",
   "id": "851409e9",
   "metadata": {},
   "source": [
    "**그외 기술 통계량 함수들**\n",
    "\n",
    "|함수|설명|\n",
    "|:--|:--|\n",
    "|count|N/A 값을 제외한 값의 수를 반환|\n",
    "|describe|시리즈 혹은 데이터 프레임의 각 열에 대한 기술 통계값 리턴|\n",
    "|min, max|최소, 최대값|\n",
    "|argmin, argmax|최소, 최대값을 가지고 있는 색인의 위치|\n",
    "|idxmin, idxmax|최소 최대값을 가지고 있는 색인의 값|\n",
    "|quantile|0부터 1까지의 분위수 계산|\n",
    "|sum|합|\n",
    "|mean|평균|\n",
    "|median|중위값|\n",
    "|mad|평균값에서 절대 평균편차|\n",
    "|var|표본분산|\n",
    "|std|표본 정규분산|\n",
    "|skew|표본 비대칭도|\n",
    "|kurt|표본 첨도|\n",
    "|cumsum|누적 합|\n",
    "|cummin, cummax|누적 최소값, 누적최대값|\n",
    "|cumprod|누적 곱|\n",
    "|diff|1차 산술자(시계열 데이터 사용시 유용)|\n",
    "|pct_change|퍼센트 변화율 계산|\n",
    "|corr|데이터 프레임내 모든 변수간 상관관계를 계산하여 리턴|\n",
    "|cov|데이터 프레임내 모든 변수 간 공분산을 계산하여 리턴|\n",
    "\n",
    "\n",
    "**연속형 자료의 형태를 확인하기 쉬운 방법은 각 변수의 분포를 히스토그램(histogram)으로 확인해 보는 것**이다. 이를 통해 정규성 여부, 이상치 존재여부등을 시각적으로 손쉽게 파악이 가능하다.\n"
   ]
  },
  {
   "cell_type": "code",
   "execution_count": 4,
   "id": "34d96d15",
   "metadata": {},
   "outputs": [
    {
     "data": {
      "text/plain": [
       "array([[<AxesSubplot:title={'center':'salary'}>,\n",
       "        <AxesSubplot:title={'center':'sales'}>],\n",
       "       [<AxesSubplot:title={'center':'roe'}>,\n",
       "        <AxesSubplot:title={'center':'industry'}>]], dtype=object)"
      ]
     },
     "execution_count": 4,
     "metadata": {},
     "output_type": "execute_result"
    },
    {
     "data": {
      "image/png": "[encoded data removed]",
      "text/plain": [
       "<Figure size 1440x1080 with 4 Axes>"
      ]
     },
     "metadata": {
      "needs_background": "light"
     },
     "output_type": "display_data"
    }
   ],
   "source": [
    "# 데이터 셋내 모든 변수의 히스토 그램 출력\n",
    "\n",
    "import matplotlib.pyplot as plt\n",
    "data.hist(bins=50, figsize=(20, 15))"
   ]
  },
  {
   "cell_type": "code",
   "execution_count": 5,
   "id": "427b1f4b",
   "metadata": {},
   "outputs": [
    {
     "data": {
      "text/plain": [
       "<AxesSubplot:>"
      ]
     },
     "execution_count": 5,
     "metadata": {},
     "output_type": "execute_result"
    },
    {
     "data": {
      "image/png": "[encoded data removed]",
      "text/plain": [
       "<Figure size 1440x1080 with 1 Axes>"
      ]
     },
     "metadata": {
      "needs_background": "light"
     },
     "output_type": "display_data"
    }
   ],
   "source": [
    "# 데이터 셋 내 특정 변수에 대한 히스토그램을 출력\n",
    "data['salary'].hist(bins=50, figsize=(20, 15))"
   ]
  },
  {
   "cell_type": "code",
   "execution_count": 6,
   "id": "f337a050",
   "metadata": {},
   "outputs": [
    {
     "data": {
      "text/plain": [
       "<AxesSubplot:>"
      ]
     },
     "execution_count": 6,
     "metadata": {},
     "output_type": "execute_result"
    },
    {
     "data": {
      "image/png": "[encoded data removed]",
      "text/plain": [
       "<Figure size 1440x1080 with 1 Axes>"
      ]
     },
     "metadata": {
      "needs_background": "light"
     },
     "output_type": "display_data"
    }
   ],
   "source": [
    "# 데이터 셋 내 특정 변수에 대한 히스토그램을 출력\n",
    "data['sales'].hist(bins=50, figsize=(20, 15))"
   ]
  },
  {
   "cell_type": "markdown",
   "id": "21791261",
   "metadata": {},
   "source": [
    "기술 통계(hist) 와 왜도(skewness) 및 첨도(kurtosis) 를 확인 해본 결과, salary와 sales 모두 몇몇 큰 이상치(outlier)로 인해 문제가 발생하고 있다는 것을 확인 할 수 있다.  \n",
    "\n",
    "exp) **왜도와 첨도가 양수인 점을 들어 자료의 분포가 양의 부호로 편중 된 것을 확인 할 수 있었고, 히스토그램 시각화를 통해 실제 데이터가 정규 분포 형태가 아닌 왼쪽으로 집중된 데이터 임을 확인 할 수 있었다.**\n",
    "\n",
    "해당 데이터 편중 문제를 해결 하기 위해서는 2가지 방법을 선택 적용 해야 한다.\n",
    "\n",
    "1. **제거(delete)** : 일부 큰 값 또는 작은 값을 제거하여 정규성에 근사하게 만든다.\n",
    "2. **변환(transform)** : 이상치가 차지하는 비중을 줄이기 위해 log변환 또는 제곱근 변환을 통하여 데이터 왜곡의 정도를 줄인다."
   ]
  }
 ],
 "metadata": {
  "kernelspec": {
   "display_name": "Python 3",
   "language": "python",
   "name": "python3"
  },
  "language_info": {
   "codemirror_mode": {
    "name": "ipython",
    "version": 3
   },
   "file_extension": ".py",
   "mimetype": "text/x-python",
   "name": "python",
   "nbconvert_exporter": "python",
   "pygments_lexer": "ipython3",
   "version": "3.8.8"
  }
 },
 "nbformat": 4,
 "nbformat_minor": 5
}
