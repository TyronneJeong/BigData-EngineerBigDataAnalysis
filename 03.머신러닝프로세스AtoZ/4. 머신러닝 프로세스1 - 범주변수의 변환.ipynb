{
 "cells": [
  {
   "cell_type": "markdown",
   "id": "77012e76",
   "metadata": {},
   "source": [
    "# 4. 머신러닝 프로세스1 - 범주변수의 변환\n",
    "\n",
    "이번 장 부터는 특징변수(독립변수)가 범주형 변수일 때 이를 **원핫인코딩(one-hot_encoding)** 처리하는 작업을 진행하여 보겠습니다.  \n",
    "앞선 머신러닝 프로세스에서 남여를 1과 2의 카테고리값으로 사용하던 부분을 남성의 여부, 여성의 여부 라는 두개의 컬럼으로 분리하여 사용하였는데. 이는 <u>범주형 변수의 값이 데이터의 크기 비교가 가능한 연속형 변수처럼 해석 될 여지가 있기 때문</u>입니다.  \n",
    "\n",
    "때문에 **범주형 변수의 경우 각 케이스에 해당 여부를 1 또는 0으로 변경하여 나열하는 것이 원핫인코딩** 입니다. 그리고 <u>이때 범주형 변수를 카테고리별로 나누어 0,1을 담도록 분리된 변수들을 더미변수(dummy variable)</u> 라고 합니다.\n",
    "\n",
    "[범주형 자료의 원핫 인코딩 예시]\n",
    "\n",
    "\n",
    "|거주지 |>>| 거주지_서울 |거주지_경기 |거주지_지방|\n",
    "|:--:|:--:|:--:|:--:|:--:|\n",
    "|1(서울)|>>|1|0|0|\n",
    "|2(경기)|>>|0|1|0|\n",
    "|3(지방)|>>|0|0|1|\n",
    "\n",
    "\n",
    "- pd.get_dummies(X)\n"
   ]
  },
  {
   "cell_type": "code",
   "execution_count": null,
   "id": "88f258c4",
   "metadata": {},
   "outputs": [],
   "source": []
  }
 ],
 "metadata": {
  "kernelspec": {
   "display_name": "Python 3",
   "language": "python",
   "name": "python3"
  },
  "language_info": {
   "codemirror_mode": {
    "name": "ipython",
    "version": 3
   },
   "file_extension": ".py",
   "mimetype": "text/x-python",
   "name": "python",
   "nbconvert_exporter": "python",
   "pygments_lexer": "ipython3",
   "version": "3.8.8"
  }
 },
 "nbformat": 4,
 "nbformat_minor": 5
}
