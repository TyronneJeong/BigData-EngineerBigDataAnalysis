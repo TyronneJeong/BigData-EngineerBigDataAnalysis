{
 "cells": [
  {
   "cell_type": "markdown",
   "id": "109b19b6",
   "metadata": {},
   "source": [
    "# 8. 머신러닝 프로세스5 - 모델평가\n",
    "\n",
    "**앞서 진행한 Logistic Regression 모델의 하이퍼 파리미터 C=10 을 최종 모델로 하여 모델 평가를 진행**하여 보겠습니다.\n"
   ]
  },
  {
   "cell_type": "code",
   "execution_count": 1,
   "id": "1274eead",
   "metadata": {},
   "outputs": [],
   "source": [
    "# 경고 레벨 조정\n",
    "import warnings\n",
    "warnings.filterwarnings(\"ignore\")\n",
    "\n",
    "# 데이터 로드\n",
    "import pandas as pd\n",
    "data=pd.read_csv('./extrafiles/Fvote.csv', encoding='utf-8')\n",
    "\n",
    "# 독립변수 종속 변수 분리\n",
    "X = data[data.columns[1:13]]\n",
    "y = data[['vote']]\n",
    "\n",
    "# 훈련 및 테스트 데이터 분리\n",
    "from sklearn.model_selection import train_test_split\n",
    "X_train, X_test, y_train, y_test = train_test_split(X, y, stratify=y, random_state=42)"
   ]
  },
  {
   "cell_type": "code",
   "execution_count": 11,
   "id": "0bddaf8b",
   "metadata": {},
   "outputs": [
    {
     "name": "stdout",
     "output_type": "stream",
     "text": [
      "훈련 데이터 정확도 :  0.740506329113924\n",
      "테스트 데이터 정확도 :  0.6792452830188679\n"
     ]
    }
   ],
   "source": [
    "# LogsticRegression 적용\n",
    "from sklearn.linear_model import LogisticRegression\n",
    "\n",
    "# 로지스틱 회귀 모델 적용\n",
    "Final_model = LogisticRegression(C=10)\n",
    "Final_model.fit(X_train, y_train)\n",
    "\n",
    "# 훈련데이터 예측치 산출\n",
    "pred_train = Final_model.predict(X_train)\n",
    "\n",
    "# 훈련데이터 정확도 계산\n",
    "print(\"훈련 데이터 정확도 : \", Final_model.score(X_train, y_train))\n",
    "\n",
    "# 테스트 데이터 예측치 산출\n",
    "pred_test = Final_model.predict(X_test)\n",
    "\n",
    "# 테스트 데이터 정확도 계산\n",
    "print(\"테스트 데이터 정확도 : \", Final_model.score(X_test, y_test))"
   ]
  },
  {
   "cell_type": "markdown",
   "id": "0bdfbc41",
   "metadata": {},
   "source": [
    "![오차행렬](./extrafiles/matrix.png)"
   ]
  },
  {
   "cell_type": "code",
   "execution_count": 12,
   "id": "0abb0ca1",
   "metadata": {},
   "outputs": [
    {
     "name": "stdout",
     "output_type": "stream",
     "text": [
      "훈련데이터 오차행렬 : \n",
      " [[ 12  34]\n",
      " [  7 105]]\n"
     ]
    }
   ],
   "source": [
    "# 훈련데이터 혼동행렬 작성\n",
    "from sklearn.metrics import confusion_matrix\n",
    "confusion_train = confusion_matrix(y_train, pred_train)\n",
    "print(\"훈련데이터 오차행렬 : \\n\", confusion_train)"
   ]
  },
  {
   "cell_type": "code",
   "execution_count": 13,
   "id": "56fca4e9",
   "metadata": {},
   "outputs": [
    {
     "name": "stdout",
     "output_type": "stream",
     "text": [
      "분류예측 레포트:\n",
      "               precision    recall  f1-score   support\n",
      "\n",
      "           0       0.63      0.26      0.37        46\n",
      "           1       0.76      0.94      0.84       112\n",
      "\n",
      "    accuracy                           0.74       158\n",
      "   macro avg       0.69      0.60      0.60       158\n",
      "weighted avg       0.72      0.74      0.70       158\n",
      "\n"
     ]
    }
   ],
   "source": [
    "# 훈련데이터 분류예측 레포트 작성\n",
    "from sklearn.metrics import classification_report\n",
    "cfreport_train = classification_report(y_train, pred_train)\n",
    "print(\"훈련데이터 분류예측 레포트:\\n\", cfreport_train)"
   ]
  },
  {
   "cell_type": "code",
   "execution_count": 14,
   "id": "16b05dcb",
   "metadata": {},
   "outputs": [
    {
     "name": "stdout",
     "output_type": "stream",
     "text": [
      "테스트데이터 오차행렬 : \n",
      " [[ 3 12]\n",
      " [ 5 33]]\n"
     ]
    }
   ],
   "source": [
    "# 테스트데이터 혼동행렬 작성\n",
    "from sklearn.metrics import confusion_matrix\n",
    "confusion_test = confusion_matrix(y_test, pred_test)\n",
    "print(\"테스트데이터 오차행렬 : \\n\", confusion_test)"
   ]
  },
  {
   "cell_type": "code",
   "execution_count": 15,
   "id": "930ccff6",
   "metadata": {},
   "outputs": [
    {
     "name": "stdout",
     "output_type": "stream",
     "text": [
      "테스트데이터 분류예측 레포트:\n",
      "               precision    recall  f1-score   support\n",
      "\n",
      "           0       0.38      0.20      0.26        15\n",
      "           1       0.73      0.87      0.80        38\n",
      "\n",
      "    accuracy                           0.68        53\n",
      "   macro avg       0.55      0.53      0.53        53\n",
      "weighted avg       0.63      0.68      0.64        53\n",
      "\n"
     ]
    }
   ],
   "source": [
    "# 테스트데이터 분류예측 레포트 작성\n",
    "from sklearn.metrics import classification_report\n",
    "cfreport_test = classification_report(y_test, pred_test)\n",
    "print(\"테스트데이터 분류예측 레포트:\\n\", cfreport_test)"
   ]
  },
  {
   "cell_type": "code",
   "execution_count": 19,
   "id": "938ecaf7",
   "metadata": {},
   "outputs": [
    {
     "data": {
      "text/plain": [
       "0.6350877192982456"
      ]
     },
     "execution_count": 19,
     "metadata": {},
     "output_type": "execute_result"
    }
   ],
   "source": [
    "# ROC Curve 계산\n",
    "from sklearn.metrics import roc_curve, auc\n",
    "from sklearn import metrics\n",
    "false_positive_rate, true_positive_rate, thresholds = roc_curve(y_test, Final_model.decision_function(X_test))\n",
    "roc_auc = metrics.roc_auc_score(y_test, Final_model.decision_function(X_test))\n",
    "roc_auc #1에 가까울수록 좋은 값"
   ]
  },
  {
   "cell_type": "code",
   "execution_count": 20,
   "id": "507a50bb",
   "metadata": {},
   "outputs": [
    {
     "data": {
      "image/png": "[encoded data removed]",
      "text/plain": [
       "<Figure size 432x288 with 1 Axes>"
      ]
     },
     "metadata": {
      "needs_background": "light"
     },
     "output_type": "display_data"
    }
   ],
   "source": [
    "# ROC Curve 도표 작성\n",
    "import matplotlib.pyplot as plt\n",
    "plt.title('Receiver Operating Charateristic')\n",
    "plt.xlabel('False Positive Rate (1 - Specificity)')\n",
    "plt.ylabel('True Positive Rate (Sensitivity)')\n",
    "\n",
    "plt.plot(false_positive_rate, true_positive_rate, 'b', label='Model (AUC = %0.2f)'% roc_auc)\n",
    "plt.plot([0,1], [1,1], 'y--')\n",
    "plt.plot([0,1], [0,1], 'r--')\n",
    "\n",
    "plt.legend(loc='lower right')\n",
    "plt.show()"
   ]
  },
  {
   "cell_type": "markdown",
   "id": "2cafdef5",
   "metadata": {},
   "source": [
    "종합적으로 좋은 결과는 아닙니다. 이유는 알고리즘의 문제보다 투표여부를 예측 분류하기에 충분한 특성 변수가 부족 했기 때문입니다. 좋은 결과는 좋은 모델보다 좋은 예측자에 의해 결정 됩니다."
   ]
  },
  {
   "cell_type": "code",
   "execution_count": null,
   "id": "e276cdfc",
   "metadata": {},
   "outputs": [],
   "source": []
  }
 ],
 "metadata": {
  "kernelspec": {
   "display_name": "Python 3",
   "language": "python",
   "name": "python3"
  },
  "language_info": {
   "codemirror_mode": {
    "name": "ipython",
    "version": 3
   },
   "file_extension": ".py",
   "mimetype": "text/x-python",
   "name": "python",
   "nbconvert_exporter": "python",
   "pygments_lexer": "ipython3",
   "version": "3.8.8"
  }
 },
 "nbformat": 4,
 "nbformat_minor": 5
}
