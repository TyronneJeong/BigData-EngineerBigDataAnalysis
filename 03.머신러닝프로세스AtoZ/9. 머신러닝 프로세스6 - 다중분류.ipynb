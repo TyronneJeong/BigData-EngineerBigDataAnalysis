{
 "cells": [
  {
   "cell_type": "markdown",
   "id": "7ad59502",
   "metadata": {},
   "source": [
    "# 9. 머신러닝 프로세스6 - 다중분류\n"
   ]
  },
  {
   "cell_type": "markdown",
   "id": "ca7b50ba",
   "metadata": {},
   "source": [
    "예측 결과가 투표여부의 이진분류가 아닌 **지지정당등과 같이 여러항에 해당하는 다중 분류 처리방법**에 대해 알아 보겠습니다."
   ]
  },
  {
   "cell_type": "code",
   "execution_count": 22,
   "id": "0fa2e167",
   "metadata": {},
   "outputs": [
    {
     "name": "stdout",
     "output_type": "stream",
     "text": [
      "parties\n",
      "4          83\n",
      "2          53\n",
      "1          50\n",
      "3          25\n",
      "dtype: int64\n"
     ]
    }
   ],
   "source": [
    "# 경고레벨 조정\n",
    "import warnings\n",
    "warnings.filterwarnings(\"ignore\")\n",
    "\n",
    "# 데이터 로드\n",
    "import pandas as pd\n",
    "data=pd.read_csv('./extrafiles/Fvote.csv', encoding='utf-8')\n",
    "\n",
    "# 독립변수와 종속 변수 분리\n",
    "X = data[data.columns[1:13]]\n",
    "y = data[['parties']]\n",
    "\n",
    "# y 값의 종류와 갯수\n",
    "print(y.value_counts())\n",
    "\n",
    "# 훈련 및 테스트 데이터 분리\n",
    "from sklearn.model_selection import train_test_split\n",
    "X_train, X_test, y_train, y_test = train_test_split(X, y, random_state=42, stratify=y)"
   ]
  },
  {
   "cell_type": "code",
   "execution_count": 10,
   "id": "a6e70838",
   "metadata": {},
   "outputs": [
    {
     "data": {
      "text/plain": [
       "LogisticRegression()"
      ]
     },
     "execution_count": 10,
     "metadata": {},
     "output_type": "execute_result"
    }
   ],
   "source": [
    "# LogisticRegression 적용\n",
    "from sklearn.linear_model import LogisticRegression\n",
    "model = LogisticRegression()\n",
    "model.fit(X_train, y_train)"
   ]
  },
  {
   "cell_type": "code",
   "execution_count": 11,
   "id": "07b424ba",
   "metadata": {},
   "outputs": [
    {
     "data": {
      "text/plain": [
       "0.6139240506329114"
      ]
     },
     "execution_count": 11,
     "metadata": {},
     "output_type": "execute_result"
    }
   ],
   "source": [
    "# 훈련데이터 예측값 도출\n",
    "pred_train = model.predict(X_train)\n",
    "model.score(X_train, y_train)"
   ]
  },
  {
   "cell_type": "code",
   "execution_count": 13,
   "id": "d415f8f3",
   "metadata": {},
   "outputs": [
    {
     "data": {
      "text/plain": [
       "0.5283018867924528"
      ]
     },
     "execution_count": 13,
     "metadata": {},
     "output_type": "execute_result"
    }
   ],
   "source": [
    "# 테스트데이터 예측값 도출\n",
    "pred_test = model.predict(X_test)\n",
    "model.score(X_test, y_test)"
   ]
  },
  {
   "cell_type": "markdown",
   "id": "3bb5e170",
   "metadata": {},
   "source": [
    "![다중분류 혼동행렬](./extrafiles/multimatrix.png)"
   ]
  },
  {
   "cell_type": "code",
   "execution_count": 34,
   "id": "87ae089c",
   "metadata": {},
   "outputs": [
    {
     "name": "stdout",
     "output_type": "stream",
     "text": [
      "1    35\n",
      "2    37\n",
      "3    11\n",
      "4    75\n",
      "dtype: int64\n",
      "훈련데이터 오차행렬 : \n",
      " [[21  2  3 11]\n",
      " [ 1 25  2 12]\n",
      " [ 6  2  5  6]\n",
      " [ 7  8  1 46]]\n"
     ]
    }
   ],
   "source": [
    "# 다중 분류의 혼동행렬 산출\n",
    "from sklearn.metrics import confusion_matrix\n",
    "\n",
    "# 산출결과값\n",
    "print(pd.DataFrame(pred_train).value_counts().sort_index())\n",
    "\n",
    "# 산출결과와 실제값과 비교\n",
    "confusion_train = confusion_matrix(y_train, pred_train)\n",
    "print(\"훈련데이터 오차행렬 : \\n\", confusion_train) # 1번 부터 순서대로 출력됨"
   ]
  },
  {
   "cell_type": "code",
   "execution_count": 26,
   "id": "cae13a9b",
   "metadata": {},
   "outputs": [
    {
     "name": "stdout",
     "output_type": "stream",
     "text": [
      "테스트데이터 오차행렬 : \n",
      " [[ 6  1  2  4]\n",
      " [ 1  9  1  2]\n",
      " [ 1  2  1  2]\n",
      " [ 2  5  2 12]]\n"
     ]
    }
   ],
   "source": [
    "# 테스트데이터 오차행렬\n",
    "confusion_test = confusion_matrix(y_test, pred_test)\n",
    "print(\"테스트데이터 오차행렬 : \\n\", confusion_test)"
   ]
  },
  {
   "cell_type": "code",
   "execution_count": 43,
   "id": "0400517f",
   "metadata": {},
   "outputs": [
    {
     "name": "stdout",
     "output_type": "stream",
     "text": [
      "Best Parameter : {'C': 0.1}\n",
      "Best Cross-validity Score : 0.544\n",
      "Test set Score : 0.585\n"
     ]
    }
   ],
   "source": [
    "# 그리드 서치. 하이퍼 파라미터를 유형별로 다 테스트 해 본후 가장 좋은 것을 추출한다.\n",
    "from sklearn.model_selection import GridSearchCV\n",
    "param_grid = {'C':[0.001, 0.01, 0.1, 1, 10, 100]}\n",
    "\n",
    "grid_search = GridSearchCV(LogisticRegression(), param_grid, cv=5, return_train_score=True)\n",
    "grid_search.fit(X_train, y_train)\n",
    "\n",
    "# 훈련데이터 파라미터 탐색 결과\n",
    "print(\"Best Parameter : {}\".format(grid_search.best_params_))\n",
    "print(\"Best Cross-validity Score : {:.3f}\".format(grid_search.best_score_))\n",
    "\n",
    "# 테스트데이터 모델 적용 결과\n",
    "print(\"Test set Score : {:.3f}\".format(grid_search.score(X_test, y_test)))"
   ]
  },
  {
   "cell_type": "code",
   "execution_count": 47,
   "id": "52ae1a48",
   "metadata": {},
   "outputs": [
    {
     "name": "stdout",
     "output_type": "stream",
     "text": [
      "Best Parameter : {'C': 21}\n",
      "Best Cross-validity Score : 0.525\n",
      "Test set Score : 0.509\n"
     ]
    }
   ],
   "source": [
    "# 랜덤탐색, 하이퍼 파라미터를 정해진 구간내에서 자유롭게 테스트 하여 가장 좋은 것을 추출한다.\n",
    "from sklearn.model_selection import RandomizedSearchCV\n",
    "from scipy.stats import randint\n",
    "param_distribs = {'C' : randint(low=0.001, high=100)}\n",
    "\n",
    "# 랜덤 탐색 기준 생성\n",
    "random_search = RandomizedSearchCV(LogisticRegression(), param_distributions = param_distribs, cv=5, return_train_score=True)\n",
    "\n",
    "# 기준 데이터 지정\n",
    "random_search.fit(X_train, y_train)\n",
    "\n",
    "# 훈련데이터 파라미터 탐색 결과\n",
    "print(\"Best Parameter : {}\".format(random_search.best_params_))\n",
    "print(\"Best Cross-validity Score : {:.3f}\".format(random_search.best_score_))\n",
    "\n",
    "# 테스트데이터 모델 적용 결과\n",
    "print(\"Test set Score : {:.3f}\".format(random_search.score(X_test, y_test)))"
   ]
  },
  {
   "cell_type": "markdown",
   "id": "b483ae5e",
   "metadata": {},
   "source": [
    "### Q. 여기서 C 값이란?\n",
    "정규화 강도 지수 작을수록 정규화를 강하게 한다.\n",
    "![C벨류](./extrafiles/cparam.jpg)\n"
   ]
  }
 ],
 "metadata": {
  "kernelspec": {
   "display_name": "Python 3",
   "language": "python",
   "name": "python3"
  },
  "language_info": {
   "codemirror_mode": {
    "name": "ipython",
    "version": 3
   },
   "file_extension": ".py",
   "mimetype": "text/x-python",
   "name": "python",
   "nbconvert_exporter": "python",
   "pygments_lexer": "ipython3",
   "version": "3.8.8"
  }
 },
 "nbformat": 4,
 "nbformat_minor": 5
}
