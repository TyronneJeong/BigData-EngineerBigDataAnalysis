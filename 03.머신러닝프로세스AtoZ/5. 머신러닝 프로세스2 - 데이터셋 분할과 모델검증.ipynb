{
 "cells": [
  {
   "cell_type": "markdown",
   "id": "a41cfd67",
   "metadata": {},
   "source": [
    "# 5. 머신러닝 프로세스2 - 데이터셋 분할과 모델검증\n",
    "\n",
    "모델을 검증하는 방법에 대해서는 다양한 방법을 알아두는 것이 좋습니다. 그럼에도 **train dataset 과 test dataset 을 구분하여 진행하는 것은 가장 일반적인 방법**입니다.또 딥러닝에서는 train dataset 을 (훈련용), (검증용) 두가지로 분리하여 훈련과 검증을 서로 비교한 후 test data 로 일반화를 파악하는 train-valid-test 데이터셋 구성을 사용하기도 합니다. (GAN:강화학습)"
   ]
  },
  {
   "cell_type": "markdown",
   "id": "731905cb",
   "metadata": {},
   "source": [
    "## 5.1 특성치(X), 레이블(y) 나누기"
   ]
  },
  {
   "cell_type": "code",
   "execution_count": 44,
   "id": "834ee5ee",
   "metadata": {},
   "outputs": [
    {
     "data": {
      "text/html": [
       "<div>\n",
       "<style scoped>\n",
       "    .dataframe tbody tr th:only-of-type {\n",
       "        vertical-align: middle;\n",
       "    }\n",
       "\n",
       "    .dataframe tbody tr th {\n",
       "        vertical-align: top;\n",
       "    }\n",
       "\n",
       "    .dataframe thead th {\n",
       "        text-align: right;\n",
       "    }\n",
       "</style>\n",
       "<table border=\"1\" class=\"dataframe\">\n",
       "  <thead>\n",
       "    <tr style=\"text-align: right;\">\n",
       "      <th></th>\n",
       "      <th>gender_female</th>\n",
       "      <th>gender_male</th>\n",
       "      <th>region_Chungcheung</th>\n",
       "      <th>region_Honam</th>\n",
       "      <th>region_Others</th>\n",
       "      <th>region_Sudo</th>\n",
       "      <th>region_Youngnam</th>\n",
       "      <th>edu</th>\n",
       "      <th>income</th>\n",
       "      <th>age</th>\n",
       "      <th>score_gov</th>\n",
       "      <th>score_progress</th>\n",
       "      <th>score_intention</th>\n",
       "      <th>vote</th>\n",
       "      <th>parties</th>\n",
       "    </tr>\n",
       "  </thead>\n",
       "  <tbody>\n",
       "    <tr>\n",
       "      <th>0</th>\n",
       "      <td>0</td>\n",
       "      <td>1</td>\n",
       "      <td>0</td>\n",
       "      <td>0</td>\n",
       "      <td>0</td>\n",
       "      <td>0</td>\n",
       "      <td>1</td>\n",
       "      <td>3</td>\n",
       "      <td>3</td>\n",
       "      <td>3</td>\n",
       "      <td>2</td>\n",
       "      <td>2</td>\n",
       "      <td>4.0</td>\n",
       "      <td>1</td>\n",
       "      <td>2</td>\n",
       "    </tr>\n",
       "    <tr>\n",
       "      <th>1</th>\n",
       "      <td>0</td>\n",
       "      <td>1</td>\n",
       "      <td>0</td>\n",
       "      <td>0</td>\n",
       "      <td>1</td>\n",
       "      <td>0</td>\n",
       "      <td>0</td>\n",
       "      <td>2</td>\n",
       "      <td>3</td>\n",
       "      <td>3</td>\n",
       "      <td>2</td>\n",
       "      <td>4</td>\n",
       "      <td>3.0</td>\n",
       "      <td>0</td>\n",
       "      <td>3</td>\n",
       "    </tr>\n",
       "    <tr>\n",
       "      <th>2</th>\n",
       "      <td>0</td>\n",
       "      <td>1</td>\n",
       "      <td>0</td>\n",
       "      <td>1</td>\n",
       "      <td>0</td>\n",
       "      <td>0</td>\n",
       "      <td>0</td>\n",
       "      <td>1</td>\n",
       "      <td>2</td>\n",
       "      <td>4</td>\n",
       "      <td>1</td>\n",
       "      <td>3</td>\n",
       "      <td>2.8</td>\n",
       "      <td>1</td>\n",
       "      <td>4</td>\n",
       "    </tr>\n",
       "    <tr>\n",
       "      <th>3</th>\n",
       "      <td>1</td>\n",
       "      <td>0</td>\n",
       "      <td>0</td>\n",
       "      <td>0</td>\n",
       "      <td>0</td>\n",
       "      <td>1</td>\n",
       "      <td>0</td>\n",
       "      <td>2</td>\n",
       "      <td>1</td>\n",
       "      <td>3</td>\n",
       "      <td>5</td>\n",
       "      <td>4</td>\n",
       "      <td>2.6</td>\n",
       "      <td>1</td>\n",
       "      <td>1</td>\n",
       "    </tr>\n",
       "    <tr>\n",
       "      <th>4</th>\n",
       "      <td>0</td>\n",
       "      <td>1</td>\n",
       "      <td>0</td>\n",
       "      <td>0</td>\n",
       "      <td>0</td>\n",
       "      <td>1</td>\n",
       "      <td>0</td>\n",
       "      <td>1</td>\n",
       "      <td>2</td>\n",
       "      <td>4</td>\n",
       "      <td>4</td>\n",
       "      <td>3</td>\n",
       "      <td>2.4</td>\n",
       "      <td>1</td>\n",
       "      <td>1</td>\n",
       "    </tr>\n",
       "  </tbody>\n",
       "</table>\n",
       "</div>"
      ],
      "text/plain": [
       "   gender_female  gender_male  region_Chungcheung  region_Honam  \\\n",
       "0              0            1                   0             0   \n",
       "1              0            1                   0             0   \n",
       "2              0            1                   0             1   \n",
       "3              1            0                   0             0   \n",
       "4              0            1                   0             0   \n",
       "\n",
       "   region_Others  region_Sudo  region_Youngnam  edu  income  age  score_gov  \\\n",
       "0              0            0                1    3       3    3          2   \n",
       "1              1            0                0    2       3    3          2   \n",
       "2              0            0                0    1       2    4          1   \n",
       "3              0            1                0    2       1    3          5   \n",
       "4              0            1                0    1       2    4          4   \n",
       "\n",
       "   score_progress  score_intention  vote  parties  \n",
       "0               2              4.0     1        2  \n",
       "1               4              3.0     0        3  \n",
       "2               3              2.8     1        4  \n",
       "3               4              2.6     1        1  \n",
       "4               3              2.4     1        1  "
      ]
     },
     "execution_count": 44,
     "metadata": {},
     "output_type": "execute_result"
    }
   ],
   "source": [
    "# 데이터셋 불어오기 및 확인\n",
    "import warnings\n",
    "warnings.filterwarnings(\"ignore\")\n",
    "\n",
    "import pandas as pd\n",
    "data = pd.read_csv('./extrafiles/Fvote.csv', encoding='utf=8')\n",
    "data.head()"
   ]
  },
  {
   "cell_type": "code",
   "execution_count": 51,
   "id": "643bc41a",
   "metadata": {},
   "outputs": [
    {
     "name": "stdout",
     "output_type": "stream",
     "text": [
      "Index(['gender_female', 'gender_male', 'region_Chungcheung', 'region_Honam',\n",
      "       'region_Others', 'region_Sudo', 'region_Youngnam', 'edu', 'income',\n",
      "       'age', 'score_gov', 'score_progress', 'score_intention', 'vote',\n",
      "       'parties'],\n",
      "      dtype='object')\n"
     ]
    }
   ],
   "source": [
    "# 특성변수(독립변수) 와 레이블(종속변수) 데이터셋 분리\n",
    "print(data.columns)\n",
    "\n",
    "# 방법 1 : 이름으로 분리\n",
    "X = data[['gender_female', 'gender_male', 'region_Chungcheung', 'region_Honam',\n",
    "       'region_Others', 'region_Sudo', 'region_Youngnam', 'edu', 'income',\n",
    "       'age', 'score_gov', 'score_progress', 'score_intention']]\n",
    "\n",
    "# 방법 2 : 인덱스로 분리\n",
    "X = data[data.columns[1:14]]\n",
    "\n",
    "\n",
    "# 방법 3 : loc 함수로 분리\n",
    "X = data.loc[:, 'gender_female':'score_intention']\n",
    "\n",
    "# 종속변수 분리\n",
    "y = data[['vote']]"
   ]
  },
  {
   "cell_type": "markdown",
   "id": "c524223f",
   "metadata": {},
   "source": [
    "## 5.2 train-test 데이터셋 나누기"
   ]
  },
  {
   "cell_type": "code",
   "execution_count": 52,
   "id": "9f4d4f75",
   "metadata": {},
   "outputs": [
    {
     "name": "stdout",
     "output_type": "stream",
     "text": [
      "(158, 13)\n",
      "(53, 13)\n",
      "0.6772151898734177\n",
      "0.6037735849056604\n"
     ]
    }
   ],
   "source": [
    "# 학습용 데이터와 테스트 데이터의 분리작업\n",
    "# stratify 는 범주형 자료의 분포 균형을 맞추어 주는 옵션이다.\n",
    "from sklearn.model_selection import train_test_split\n",
    "X_train, X_test, y_train, y_test = train_test_split(X, y, stratify=y, random_state=42) \n",
    "\n",
    "print(X_train.shape)\n",
    "print(X_test.shape)\n",
    "\n",
    "print(X_train['gender_male'].mean())\n",
    "print(X_test['gender_male'].mean())"
   ]
  },
  {
   "cell_type": "markdown",
   "id": "f63a4a2b",
   "metadata": {},
   "source": [
    "## 5.3 모델적용"
   ]
  },
  {
   "cell_type": "code",
   "execution_count": 53,
   "id": "2f0b7a67",
   "metadata": {},
   "outputs": [],
   "source": [
    "# LogisticRegression 알고리즘의 적용\n",
    "from sklearn.linear_model import LogisticRegression\n",
    "model = LogisticRegression()"
   ]
  },
  {
   "cell_type": "markdown",
   "id": "ab334e8a",
   "metadata": {},
   "source": [
    "### 가. 랜덤 없는 교차 검증 : cross_val_score\n",
    "- **교차검증** : 훈련용 데이터를 n 등분한후 n-1 개만을 훈련용 데이터로 생성하여 훈련을 시킵니다. 이후 제외되었던 데이터셋을 포함 한 후 n-1 개의 데이터셋으로 다시한번 훈련을 반복하여 총 n 번 반복하는 훈련을 교차 검증(cross validation)이라고 합니다. (K-FOLD 교차검증)\n"
   ]
  },
  {
   "cell_type": "code",
   "execution_count": 54,
   "id": "5523b978",
   "metadata": {},
   "outputs": [
    {
     "name": "stdout",
     "output_type": "stream",
     "text": [
      "5개 테스트 셋 정확도 : [0.71875    0.6875     0.8125     0.58064516 0.80645161]\n",
      "정확도 평균 :  0.7211693548387096\n"
     ]
    }
   ],
   "source": [
    "# 적용할 알고리즘 모델과 X, y 값 그리고 반복 횟수 cv 를 지정하여 교차검증 실행\n",
    "from sklearn.model_selection import cross_val_score\n",
    "scores = cross_val_score(model, X_train, y_train, cv=5)\n",
    "print(\"5개 테스트 셋 정확도 :\" ,  scores)\n",
    "print(\"정확도 평균 : \", scores.mean())"
   ]
  },
  {
   "cell_type": "markdown",
   "id": "fc066573",
   "metadata": {},
   "source": [
    "### 나. 랜덤 있는 교차 검증 : K-Fold\n",
    "\n",
    "앞서 적용한 cross_val_score 의 경우 데이터의 순서를 유지한채 n 개의 데이터셋으로 분할하여 검증을 수행합니다. 하지만 **만약 분석하고자 하는 대상이 순서에 편향이 있다면 해당 방식은 문제**가 됩니다. 따라서 <u>훈련데이터에서 그룹을 나눌 때 무작위 추출을 이용하는 방법이 K-Fold 교차검증에서 shuffle=True 형식으로 교차검증을 수행</u>하는 것입니다."
   ]
  },
  {
   "cell_type": "code",
   "execution_count": 55,
   "id": "3af547fc",
   "metadata": {},
   "outputs": [
    {
     "name": "stdout",
     "output_type": "stream",
     "text": [
      "5개 폴드의 정확도 :  [0.71875    0.6875     0.625      0.70967742 0.77419355]\n"
     ]
    }
   ],
   "source": [
    "from sklearn.model_selection import KFold\n",
    "kfold = KFold(n_splits=5, shuffle=True, random_state=42)\n",
    "scores = cross_val_score(model, X_train, y_train,cv=kfold)\n",
    "print(\"5개 폴드의 정확도 : \", scores)"
   ]
  },
  {
   "cell_type": "markdown",
   "id": "a9eefb04",
   "metadata": {},
   "source": [
    "### 다. 임의분할 교차검증\n",
    "\n",
    "다른 **교차검증에 사용되었던 데이터도 랜덤으로 선택되게 하는 방법**이다. 따라서 <u>전체 데이터중 일부는 훈련 데이터 또는 테스트 데이터 어느쪽에도 속하지 않는 데이터가 발생 할 수도 있다.</u>\n"
   ]
  },
  {
   "cell_type": "markdown",
   "id": "a6c91a4f",
   "metadata": {},
   "source": [
    "## 5.4 train-validity-test 분할과 교차검증\n",
    "\n",
    "이번에는 train data 와 test data 외 valid data 도 나누어 보겠습니다. 방법은 이전과 동일하게 **train data 와 test 데이터를 분리한 후 train data 를 다시금 train data 와 valid data 로 나누어 사용**하는 것입니다. "
   ]
  },
  {
   "cell_type": "code",
   "execution_count": 56,
   "id": "2ecd7e96",
   "metadata": {},
   "outputs": [],
   "source": [
    "# train-validity-test 분할\n",
    "from sklearn.model_selection import train_test_split\n",
    "X_train_val, X_test, y_train_val, y_test = train_test_split(X, y, random_state=1)\n",
    "X_train, X_valid, y_train, y_valid = train_test_split(X_train_val, y_train_val, random_state=2)"
   ]
  },
  {
   "cell_type": "code",
   "execution_count": 58,
   "id": "7beb8427",
   "metadata": {},
   "outputs": [
    {
     "name": "stdout",
     "output_type": "stream",
     "text": [
      "교차 검증 정확도 :  [0.58333333 0.66666667 0.70833333 0.65217391 0.65217391]\n",
      "정확도 평균 :  0.652536231884058\n"
     ]
    }
   ],
   "source": [
    "# 모델을 훈련 시킨다.\n",
    "model.fit(X_train, y_train)\n",
    "scores = cross_val_score(model, X_train, y_train, cv=5)\n",
    "print(\"교차 검증 정확도 : \", scores)\n",
    "print(\"정확도 평균 : \", scores.mean())"
   ]
  },
  {
   "cell_type": "code",
   "execution_count": 59,
   "id": "00b1eb8c",
   "metadata": {},
   "outputs": [
    {
     "data": {
      "text/plain": [
       "0.65"
      ]
     },
     "execution_count": 59,
     "metadata": {},
     "output_type": "execute_result"
    }
   ],
   "source": [
    "# 검증 데이터\n",
    "model.score(X_valid, y_valid)"
   ]
  },
  {
   "cell_type": "code",
   "execution_count": 60,
   "id": "31211bbf",
   "metadata": {},
   "outputs": [
    {
     "data": {
      "text/plain": [
       "0.6981132075471698"
      ]
     },
     "execution_count": 60,
     "metadata": {},
     "output_type": "execute_result"
    }
   ],
   "source": [
    "# 테스트 데이터\n",
    "model.score(X_test, y_test)"
   ]
  },
  {
   "cell_type": "markdown",
   "id": "786fb9fb",
   "metadata": {},
   "source": [
    "65% 수준으로 매우 만족스러운 예측 정확도는 아니지만 과대 적합의 가능성을 교차검증을 통해 예방하였음을 확인하였습니다.\n",
    "\n",
    "- 일반예측 : fit -> predict (예측 점수)  \n",
    "- 교차검증예측 : fit -> cross_val_score (cross validation score : 교차검증한 예측 점수)  "
   ]
  }
 ],
 "metadata": {
  "kernelspec": {
   "display_name": "Python 3",
   "language": "python",
   "name": "python3"
  },
  "language_info": {
   "codemirror_mode": {
    "name": "ipython",
    "version": 3
   },
   "file_extension": ".py",
   "mimetype": "text/x-python",
   "name": "python",
   "nbconvert_exporter": "python",
   "pygments_lexer": "ipython3",
   "version": "3.8.8"
  }
 },
 "nbformat": 4,
 "nbformat_minor": 5
}
